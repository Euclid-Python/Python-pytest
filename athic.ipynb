{
 "cells": [
  {
   "cell_type": "markdown",
   "metadata": {},
   "source": [
    "# Athic\n",
    "\n",
    "Some ideas to use"
   ]
  },
  {
   "cell_type": "markdown",
   "metadata": {},
   "source": [
    "## Use watcher\n",
    "\n",
    "as pytest-watch"
   ]
  },
  {
   "cell_type": "markdown",
   "metadata": {},
   "source": [
    "## Use tests to try your code\n",
    "\n",
    "Rather than trying some dirty few lines of code somewhere in the definition files as\n",
    "\n",
    "```python\n",
    "class Something:\n",
    "    # blablabla\n",
    "    \n",
    "test = Something()\n",
    "print(test.do_it())\n",
    "```\n",
    "\n",
    "Use unit test\n",
    "\n",
    "```python\n",
    "\n",
    "def test_do_it():\n",
    "    s = Something()\n",
    "    expectation == \"...\"\n",
    "    assert s.do_it == expectation\n",
    "```\n"
   ]
  },
  {
   "cell_type": "markdown",
   "metadata": {},
   "source": [
    "##  Observable\n",
    "\n",
    "How to observe something happens or the expected behavior is constated ?"
   ]
  },
  {
   "cell_type": "markdown",
   "metadata": {},
   "source": [
    "## Limit you to observable, external manifestations\n",
    "\n",
    "Unit test doesn't have to access *private* members or data.\n",
    "\n",
    "If this is the case, your design is flawed, refactorize it."
   ]
  }
 ],
 "metadata": {
  "kernelspec": {
   "display_name": "Python 3",
   "language": "python",
   "name": "python3"
  },
  "language_info": {
   "codemirror_mode": {
    "name": "ipython",
    "version": 3
   },
   "file_extension": ".py",
   "mimetype": "text/x-python",
   "name": "python",
   "nbconvert_exporter": "python",
   "pygments_lexer": "ipython3",
   "version": "3.6.8"
  }
 },
 "nbformat": 4,
 "nbformat_minor": 2
}
