{
 "cells": [
  {
   "cell_type": "code",
   "execution_count": 10,
   "metadata": {},
   "outputs": [],
   "source": [
    "import pytest\n",
    "import ipytest\n",
    "\n",
    "ipytest.config(rewrite_asserts=True, magics=True)\n",
    "\n",
    "__file__ = 'exercises-01.ipynb' "
   ]
  },
  {
   "cell_type": "code",
   "execution_count": 11,
   "metadata": {},
   "outputs": [
    {
     "name": "stdout",
     "output_type": "stream",
     "text": [
      "The autoreload extension is already loaded. To reload it, use:\n",
      "  %reload_ext autoreload\n"
     ]
    }
   ],
   "source": [
    "%load_ext autoreload\n",
    "%autoreload 2"
   ]
  },
  {
   "cell_type": "markdown",
   "metadata": {
    "slideshow": {
     "slide_type": "slide"
    }
   },
   "source": [
    "<hr/>\n",
    "\n",
    "# Ex01 : The magic computer !\n",
    "\n",
    "You have to develop a **magyc** computer which solves a lot of scientific problems.\n",
    "\n",
    "<center><img src=\"https://media.giphy.com/media/12NUbkX6p4xOO4/giphy.gif\"></center>"
   ]
  },
  {
   "cell_type": "markdown",
   "metadata": {
    "slideshow": {
     "slide_type": "slide"
    }
   },
   "source": [
    "## Your goals\n",
    "\n",
    "1. Satisfy the <a href=\"#Requirements-for-Magic-Computer\"><b>requirements bellow</b></a>\n",
    "2. Make all tests pass\n",
    "\n",
    "## How to do ?\n",
    "\n",
    "* Read the <a href=\"#Requirements-for-Magic-Computer\"><b>requirements bellow</b></a>,\n",
    "* Choose your way to code !"
   ]
  },
  {
   "cell_type": "markdown",
   "metadata": {
    "slideshow": {
     "slide_type": "slide"
    }
   },
   "source": [
    "<div class=\"alert alert-danger\">\n",
    "    <h2>You have make a choice how to code</h2>\n",
    "    <ul>\n",
    "        <li>You can do exercices like a real (wo)man, <i>outside</i> of notebook (blue pill)</li>\n",
    "        <li>You can do exercices in notebook (red pill)</li>\n",
    "    </ul>\n",
    "</div>"
   ]
  },
  {
   "cell_type": "markdown",
   "metadata": {
    "slideshow": {
     "slide_type": "slide"
    }
   },
   "source": [
    "## Exercises Outside Notebook\n",
    "\n",
    "That's the more realistic way of doing. \n",
    "\n",
    "All files are located in `ex01` folder.\n",
    "\n",
    "* Use your favorite editor\n",
    "* If your editor has no continous testing capabilities, use `pytest-watch` \n"
   ]
  },
  {
   "cell_type": "markdown",
   "metadata": {
    "slideshow": {
     "slide_type": "slide"
    }
   },
   "source": [
    "## Exercises Inside Notebook\n",
    "\n",
    "You can make the exercises in the notebook by running all cells.\n",
    "\n",
    "Just execute next cell"
   ]
  },
  {
   "cell_type": "markdown",
   "metadata": {
    "slideshow": {
     "slide_type": "subslide"
    }
   },
   "source": [
    "1. Modify the computer module <a href=\"#Here-you-modify-the-computer-module\">source</a>\n",
    "\n",
    "* Run tall he <a href=\"#Here-you-modify-the-unit-tests\">unit tests</a> with <kbd>r</kbd> to run all cells.\n",
    "\n",
    "You have to execute the following cell to enable the shortcut for <kbd>r</kbd>"
   ]
  },
  {
   "cell_type": "code",
   "execution_count": 5,
   "metadata": {
    "slideshow": {
     "slide_type": "subslide"
    }
   },
   "outputs": [
    {
     "data": {
      "application/javascript": [
       "\n",
       "Jupyter.keyboard_manager.command_shortcuts.add_shortcut('r', {\n",
       "    help : 'run all cells',\n",
       "    help_index : 'zz',\n",
       "    handler : function (event) {\n",
       "        IPython.notebook.execute_cell_range(0, IPython.notebook.get_selected_index()+1);\n",
       "        return false;\n",
       "    }}\n",
       ");;\n"
      ],
      "text/plain": [
       "<IPython.core.display.Javascript object>"
      ]
     },
     "metadata": {},
     "output_type": "display_data"
    }
   ],
   "source": [
    "%%javascript\n",
    "\n",
    "Jupyter.keyboard_manager.command_shortcuts.add_shortcut('r', {\n",
    "    help : 'run all cells',\n",
    "    help_index : 'zz',\n",
    "    handler : function (event) {\n",
    "        IPython.notebook.execute_cell_range(0, IPython.notebook.get_selected_index()+1);\n",
    "        return false;\n",
    "    }}\n",
    ");"
   ]
  },
  {
   "cell_type": "markdown",
   "metadata": {
    "slideshow": {
     "slide_type": "slide"
    }
   },
   "source": [
    "<div class=\"alert alert-info\">\n",
    "\n",
    "When you wan to run all the cells, use <kbd>r</kbd>\n",
    "\n",
    "</div>"
   ]
  },
  {
   "cell_type": "markdown",
   "metadata": {
    "slideshow": {
     "slide_type": "slide"
    }
   },
   "source": [
    "<div class=\"jumbotron\">\n",
    "\n",
    "## Requirements for Magic Computer\n",
    "\n",
    "### REQ001\n",
    "\n",
    "*Operation with standard numbers*\n",
    "\n",
    "<a href=\"{{req001}}\">go_to</a>\n",
    "\n",
    "An operation with all accepted operators and standard python number as operand \n",
    "**must** return the standard result as defined in the python manual.\n",
    "\n",
    "Example:\n",
    "* add(1, 2) => 3, \n",
    "* add(0.1, 0.2) => 0.3\n",
    "* multiply(0.2, 10.0) => 2.0\n",
    "* ...\n",
    "\n",
    "### REQ002\n",
    "\n",
    "*Operation with string operands*\n",
    "\n",
    "<a href=\"#Tests-for-REQ002\">Go to unit tests</a>\n",
    "\n",
    "As long as a string could parsed as number, \n",
    "it could be accepted as a valid operand\n",
    "\n",
    "Example:\n",
    "* add(\"1\",2) => 3 \n",
    "\n",
    "### REQ003\n",
    "\n",
    "*Operation with lists of same length*\n",
    "\n",
    "<a href=\"#Tests-for-REQ003\">Go to unit tests</a>\n",
    "\n",
    "When operands are both lists of valid operands with the same length, operation is performed\n",
    "on a per position basis and return a list of the same length.\n",
    "\n",
    "Example:\n",
    "* add([1,10,100],[2,20,200]) ==> [3,30,300]\n",
    "\n",
    "### REQ004\n",
    "\n",
    "*Operation with lists of different length*\n",
    "\n",
    "<a href=\"#Tests-for-REQ004\">Go to unit tests</a>\n",
    "\n",
    "When operands are both of different length, a `ValueError` is raised.\n",
    "\n",
    "### REQ005\n",
    "\n",
    "*Operation with list and a scalar*\n",
    "\n",
    "<a href=\"#Tests-for-REQ005\">Go to unit tests</a>\n",
    "\n",
    "When one the operand is a list and the other is a scalar, then the operation is performed \n",
    "on each value as if another list filled with the scalar value is provided.\n",
    "\n",
    "Example:\n",
    "\n",
    "* add([1,2,3], 10) => [11,12,13]\n",
    "\n",
    "\n",
    "### REQ006\n",
    "\n",
    "*Operation with tuples of same length*\n",
    "\n",
    "<a href=\"#Tests-for-REQ006\">Go to unit tests</a>\n",
    "\n",
    "When operands are both tuple of valid operands with the same length, operation is performed\n",
    "on a per position basis and return a tuple of the same length.\n",
    "\n",
    "Example:\n",
    "* add([1,10,100],[2,20,200]) ==> [3,30,300]\n",
    "\n",
    "\n",
    "### REQ007\n",
    "\n",
    "*Operation with tuples of different length*\n",
    "\n",
    "<a href=\"#Tests-for-REQ007\">Go to unit tests</a>\n",
    "\n",
    "When operands are both of different length, a `ValueError` is raised.\n",
    "\n",
    "\n",
    "### REQ008\n",
    "\n",
    "*Operation with tuple and a scalar*\n",
    "\n",
    "<a href=\"#Tests-for-REQ008\">Go to unit tests</a>\n",
    "\n",
    "When one the operand is a tuple and the other is a scalar, then the operation is performed \n",
    "on each value as if another tuple filled with the scalar value is provided.\n",
    "\n",
    "Example:\n",
    "\n",
    "* add([1,2,3], 10) => [11,12,13]\n",
    "\n",
    "</div>"
   ]
  },
  {
   "cell_type": "markdown",
   "metadata": {
    "slideshow": {
     "slide_type": "slide"
    }
   },
   "source": [
    "# Here you modify the computer module\n",
    "\n",
    "At each <kbd>Ctrl</kbd>+<kbd>Enter</kbd> (run) or <kbd>r</kbd> (run all),\n",
    "this cell will write content to `ex01/from_notebook/computer.py`"
   ]
  },
  {
   "cell_type": "code",
   "execution_count": 6,
   "metadata": {
    "slideshow": {
     "slide_type": "-"
    }
   },
   "outputs": [
    {
     "name": "stdout",
     "output_type": "stream",
     "text": [
      "Writing ex01/from_notebook/computer.py\n"
     ]
    }
   ],
   "source": [
    "%%writefile ex01/from_notebook/computer.py\n",
    "# %load ex01/computer/computer.py\n",
    "\n",
    "def add(a,b):\n",
    "    return a+b\n",
    "\n",
    "def multiply(a,b):\n",
    "    return a * b\n"
   ]
  },
  {
   "cell_type": "markdown",
   "metadata": {
    "slideshow": {
     "slide_type": "slide"
    }
   },
   "source": [
    "# Here you modify the unit tests\n",
    "\n",
    "At each <kbd>Ctrl</kbd>+<kbd>Enter</kbd> (run) or <kbd>r</kbd> (run all),\n",
    "this cell will execute the unit tests.\n",
    "\n",
    "Go to source <a href=\"#Here-you-modify-the-computer-module\">module</a>"
   ]
  },
  {
   "cell_type": "markdown",
   "metadata": {
    "slideshow": {
     "slide_type": "slide"
    }
   },
   "source": [
    "## Tests for REQ001\n",
    "\n",
    "Go to <a href=\"#REQ001\">requirements</a> and <a href=\"#Here-you-modify-the-computer-module\">source</a>"
   ]
  },
  {
   "cell_type": "code",
   "execution_count": 7,
   "metadata": {
    "scrolled": true,
    "slideshow": {
     "slide_type": "slide"
    }
   },
   "outputs": [
    {
     "name": "stdout",
     "output_type": "stream",
     "text": [
      "...F                                                                                                             [100%]\n",
      "====================================================== FAILURES =======================================================\n",
      "_____________________________________________ test_multiply_scalar_float ______________________________________________\n",
      "\n",
      "    def test_multiply_scalar_float():\n",
      ">       assert computer.multiply(1.3, 2.2) == 2.86\n",
      "E       assert 2.8600000000000003 == 2.86\n",
      "E        +  where 2.8600000000000003 = <function multiply at 0x000001FED21D89D8>(1.3, 2.2)\n",
      "E        +    where <function multiply at 0x000001FED21D89D8> = computer.multiply\n",
      "\n",
      "<ipython-input-7-caad1951cfff>:18: AssertionError\n"
     ]
    }
   ],
   "source": [
    "%%run_pytest[clean] -qq\n",
    "\n",
    "from ex01.from_notebook import computer\n",
    "\"\"\"\n",
    "Code the computer module's function `add` and `multiply` following these usecases \n",
    "\"\"\"\n",
    "\n",
    "# REQ001: operation with standard numbers\n",
    "\n",
    "def test_add_scalar():\n",
    "    assert computer.add(1, 2) == 3\n",
    "    \n",
    "def test_add_scalar_float():\n",
    "    assert computer.add(1.2, 2.3) == 3.5    \n",
    "\n",
    "def test_multiply_scalar():\n",
    "    assert computer.multiply(1, 2) == 2\n",
    "    \n",
    "def test_multiply_scalar_float():\n",
    "    assert computer.multiply(1.3, 2.2) == 2.86\n"
   ]
  },
  {
   "cell_type": "markdown",
   "metadata": {},
   "source": [
    "## Tests for REQ002\n",
    "\n",
    "Go to <a href=\"#REQ002\">requirements</a> and <a href=\"#Here-you-modify-the-computer-module\">source</a>"
   ]
  },
  {
   "cell_type": "code",
   "execution_count": 8,
   "metadata": {
    "scrolled": true
   },
   "outputs": [
    {
     "name": "stdout",
     "output_type": "stream",
     "text": [
      "FFFFF.                                                                                                           [100%]\n",
      "====================================================== FAILURES =======================================================\n",
      "_______________________________________________ test_add_scalar_string ________________________________________________\n",
      "\n",
      "    def test_add_scalar_string():\n",
      ">       assert computer.add(\"1\", \"2\") == 3\n",
      "E       AssertionError: assert '12' == 3\n",
      "E        +  where '12' = <function add at 0x000001FED21ACD90>('1', '2')\n",
      "E        +    where <function add at 0x000001FED21ACD90> = computer.add\n",
      "\n",
      "<ipython-input-8-9be1d6876dbd>:2: AssertionError\n",
      "____________________________________________ test_add_scalar_mixed_string _____________________________________________\n",
      "\n",
      "    def test_add_scalar_mixed_string():\n",
      ">       assert computer.add(\"1\", 2) == 3\n",
      "\n",
      "<ipython-input-8-9be1d6876dbd>:5: \n",
      "_ _ _ _ _ _ _ _ _ _ _ _ _ _ _ _ _ _ _ _ _ _ _ _ _ _ _ _ _ _ _ _ _ _ _ _ _ _ _ _ _ _ _ _ _ _ _ _ _ _ _ _ _ _ _ _ _ _ _ _\n",
      "\n",
      "a = '1', b = 2\n",
      "\n",
      "    def add(a,b):\n",
      ">       return a+b\n",
      "E       TypeError: can only concatenate str (not \"int\") to str\n",
      "\n",
      "ex01\\from_notebook\\computer.py:4: TypeError\n",
      "____________________________________________ test_add_scalar_float_string _____________________________________________\n",
      "\n",
      "    def test_add_scalar_float_string():\n",
      ">       assert computer.add(\"1.2\", \"2.3\") == 3.5\n",
      "E       AssertionError: assert '1.22.3' == 3.5\n",
      "E        +  where '1.22.3' = <function add at 0x000001FED21ACD90>('1.2', '2.3')\n",
      "E        +    where <function add at 0x000001FED21ACD90> = computer.add\n",
      "\n",
      "<ipython-input-8-9be1d6876dbd>:8: AssertionError\n",
      "_____________________________________________ test_multiply_scalar_string _____________________________________________\n",
      "\n",
      "    def test_multiply_scalar_string():\n",
      ">       assert computer.multiply(\"1\", \"2\") == 2\n",
      "\n",
      "<ipython-input-8-9be1d6876dbd>:11: \n",
      "_ _ _ _ _ _ _ _ _ _ _ _ _ _ _ _ _ _ _ _ _ _ _ _ _ _ _ _ _ _ _ _ _ _ _ _ _ _ _ _ _ _ _ _ _ _ _ _ _ _ _ _ _ _ _ _ _ _ _ _\n",
      "\n",
      "a = '1', b = '2'\n",
      "\n",
      "    def multiply(a,b):\n",
      ">       return a * b\n",
      "E       TypeError: can't multiply sequence by non-int of type 'str'\n",
      "\n",
      "ex01\\from_notebook\\computer.py:7: TypeError\n",
      "__________________________________________ test_multiply_scalar_float_string __________________________________________\n",
      "\n",
      "    def test_multiply_scalar_float_string():\n",
      ">       assert computer.multiply(\"1.3\", \"2.2\") == 2.86\n",
      "\n",
      "<ipython-input-8-9be1d6876dbd>:14: \n",
      "_ _ _ _ _ _ _ _ _ _ _ _ _ _ _ _ _ _ _ _ _ _ _ _ _ _ _ _ _ _ _ _ _ _ _ _ _ _ _ _ _ _ _ _ _ _ _ _ _ _ _ _ _ _ _ _ _ _ _ _\n",
      "\n",
      "a = '1.3', b = '2.2'\n",
      "\n",
      "    def multiply(a,b):\n",
      ">       return a * b\n",
      "E       TypeError: can't multiply sequence by non-int of type 'str'\n",
      "\n",
      "ex01\\from_notebook\\computer.py:7: TypeError\n"
     ]
    }
   ],
   "source": [
    "%%run_pytest[clean] -qq\n",
    "\n",
    "def test_add_scalar_string():\n",
    "    assert computer.add(\"1\", \"2\") == 3\n",
    "\n",
    "def test_add_scalar_mixed_string():\n",
    "    assert computer.add(\"1\", 2) == 3\n",
    "    \n",
    "def test_add_scalar_float_string():\n",
    "    assert computer.add(\"1.2\", \"2.3\") == 3.5    \n",
    "\n",
    "def test_multiply_scalar_string():\n",
    "    assert computer.multiply(\"1\", \"2\") == 2\n",
    "    \n",
    "def test_multiply_scalar_float_string():\n",
    "    assert computer.multiply(\"1.3\", \"2.2\") == 2.86\n",
    "    \n",
    "def test_add_with_not_numeric_string():\n",
    "    assert computer.add(\"foo\",\"2\") != 0\n"
   ]
  },
  {
   "cell_type": "markdown",
   "metadata": {},
   "source": [
    "## Tests for REQ003\n",
    "\n",
    "Go to <a href=\"#REQ003\">requirements</a> and <a href=\"#Here-you-modify-the-computer-module\">source</a>"
   ]
  },
  {
   "cell_type": "code",
   "execution_count": 9,
   "metadata": {
    "scrolled": true
   },
   "outputs": [
    {
     "name": "stdout",
     "output_type": "stream",
     "text": [
      "F                                                                                                                [100%]\n",
      "====================================================== FAILURES =======================================================\n",
      "____________________________________________________ test_empty_3 _____________________________________________________\n",
      "\n",
      "    def test_empty_3():\n",
      ">       assert False, 'No tests for REQ003'\n",
      "E       AssertionError: No tests for REQ003\n",
      "E       assert False\n",
      "\n",
      "<ipython-input-9-eca3a61e9e52>:2: AssertionError\n"
     ]
    }
   ],
   "source": [
    "%%run_pytest[clean] -qq\n",
    "\n",
    "def test_empty_3():\n",
    "    assert False, 'No tests for REQ003'"
   ]
  },
  {
   "cell_type": "markdown",
   "metadata": {},
   "source": [
    "## Tests for REQ004\n",
    "\n",
    "Go to <a href=\"#REQ004\">requirements</a> and <a href=\"#Here-you-modify-the-computer-module\">source</a>"
   ]
  },
  {
   "cell_type": "code",
   "execution_count": null,
   "metadata": {
    "scrolled": true
   },
   "outputs": [],
   "source": [
    "%%run_pytest[clean] -qq\n",
    "\n",
    "def test_empty_4():\n",
    "    assert False, 'No tests for REQ004'"
   ]
  },
  {
   "cell_type": "markdown",
   "metadata": {},
   "source": [
    "## Tests for REQ005\n",
    "\n",
    "Go to <a href=\"#REQ005\">requirements</a> and <a href=\"#Here-you-modify-the-computer-module\">source</a>"
   ]
  },
  {
   "cell_type": "code",
   "execution_count": null,
   "metadata": {
    "scrolled": true
   },
   "outputs": [],
   "source": [
    "%%run_pytest[clean] -qq\n",
    "\n",
    "def test_empty_5():\n",
    "    assert False, 'No tests for REQ005'"
   ]
  },
  {
   "cell_type": "markdown",
   "metadata": {},
   "source": [
    "## Tests for REQ006\n",
    "\n",
    "Go to <a href=\"#REQ006\">requirements</a> and <a href=\"#Here-you-modify-the-computer-module\">source</a>"
   ]
  },
  {
   "cell_type": "code",
   "execution_count": null,
   "metadata": {
    "scrolled": true
   },
   "outputs": [],
   "source": [
    "%%run_pytest[clean] -qq\n",
    "\n",
    "def test_empty_6():\n",
    "    assert False, 'No tests for REQ006'"
   ]
  },
  {
   "cell_type": "markdown",
   "metadata": {},
   "source": [
    "## Tests for REQ007\n",
    "\n",
    "Go to <a href=\"#REQ007\">requirements</a> and <a href=\"#Here-you-modify-the-computer-module\">source</a>"
   ]
  },
  {
   "cell_type": "code",
   "execution_count": null,
   "metadata": {
    "scrolled": true
   },
   "outputs": [],
   "source": [
    "%%run_pytest[clean] -qq\n",
    "\n",
    "def test_empty_7():\n",
    "    assert False, 'No tests for REQ007'"
   ]
  },
  {
   "cell_type": "markdown",
   "metadata": {},
   "source": [
    "## Tests for REQ008\n",
    "\n",
    "Go to <a href=\"#REQ008\">requirements</a> and <a href=\"#Here-you-modify-the-computer-module\">source</a>"
   ]
  },
  {
   "cell_type": "code",
   "execution_count": null,
   "metadata": {
    "scrolled": false
   },
   "outputs": [],
   "source": [
    "%%run_pytest[clean] -qq\n",
    "\n",
    "def test_empty_8():\n",
    "    assert False, 'No tests for REQ008'"
   ]
  },
  {
   "cell_type": "markdown",
   "metadata": {},
   "source": [
    "# Final tests\n",
    "\n",
    "Take a look at ex01/computer/test_computer.py"
   ]
  },
  {
   "cell_type": "markdown",
   "metadata": {},
   "source": [
    "%%writefile test.md\n",
    "\n",
    "Foo"
   ]
  }
 ],
 "metadata": {
  "celltoolbar": "Diaporama",
  "kernelspec": {
   "display_name": "Python 3",
   "language": "python",
   "name": "python3"
  },
  "language_info": {
   "codemirror_mode": {
    "name": "ipython",
    "version": 3
   },
   "file_extension": ".py",
   "mimetype": "text/x-python",
   "name": "python",
   "nbconvert_exporter": "python",
   "pygments_lexer": "ipython3",
   "version": "3.7.1"
  },
  "toc": {
   "base_numbering": 1,
   "nav_menu": {},
   "number_sections": false,
   "sideBar": true,
   "skip_h1_title": false,
   "title_cell": "Table of Contents",
   "title_sidebar": "Contents",
   "toc_cell": false,
   "toc_position": {},
   "toc_section_display": true,
   "toc_window_display": false
  }
 },
 "nbformat": 4,
 "nbformat_minor": 2
}
