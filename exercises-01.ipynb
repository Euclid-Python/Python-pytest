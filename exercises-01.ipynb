{
 "cells": [
  {
   "cell_type": "code",
   "execution_count": null,
   "metadata": {
    "scrolled": true
   },
   "outputs": [],
   "source": [
    "import pytest\n",
    "import ipytest\n",
    "\n",
    "ipytest.config(rewrite_asserts=True, magics=True)\n",
    "\n",
    "__file__ = 'exercises-01.ipynb' "
   ]
  },
  {
   "cell_type": "code",
   "execution_count": null,
   "metadata": {},
   "outputs": [],
   "source": [
    "%load_ext autoreload\n",
    "%autoreload 2"
   ]
  },
  {
   "cell_type": "markdown",
   "metadata": {
    "slideshow": {
     "slide_type": "slide"
    }
   },
   "source": [
    "<hr/>\n",
    "\n",
    "# Ex01 : The magic computer !\n",
    "\n",
    "You have to develop a **magyc** computer which solves a lot of scientific problems.\n",
    "\n",
    "<center><img src=\"https://media.giphy.com/media/12NUbkX6p4xOO4/giphy.gif\"></center>"
   ]
  },
  {
   "cell_type": "markdown",
   "metadata": {
    "slideshow": {
     "slide_type": "skip"
    }
   },
   "source": [
    "<div>\n",
    "\t<div>\n",
    "\t\t<ul>\n",
    "\t\t\t<li>\n",
    "\t\t\t\t<a href=\"#Ex01-:-The-magic-computer-!\" data-toc-modified-id=\"Ex01-:-The-magic-computer-!-1\">Ex01 : The magic computer !</a>\n",
    "\t\t\t\t<ul>\n",
    "\t\t\t\t\t<li>\n",
    "\t\t\t\t\t\t<a href=\"#Your-goals\" data-toc-modified-id=\"Your-goals-1.1\">Your goals</a>\n",
    "\t\t\t\t\t</li>\n",
    "\t\t\t\t\t<li>\n",
    "\t\t\t\t\t\t<a href=\"#How-to-do-?\" data-toc-modified-id=\"How-to-do-?-1.2\">How to do ?</a>\n",
    "\t\t\t\t\t</li>\n",
    "\t\t\t\t\t<li>\n",
    "\t\t\t\t\t\t<a href=\"#Exercises-Outside-Notebook\" data-toc-modified-id=\"Exercises-Outside-Notebook-1.3\">Exercises Outside Notebook</a>\n",
    "\t\t\t\t\t</li>\n",
    "\t\t\t\t\t<li>\n",
    "\t\t\t\t\t\t<a href=\"#Exercises-Inside-Notebook\" data-toc-modified-id=\"Exercises-Inside-Notebook-1.4\">Exercises Inside Notebook</a>\n",
    "\t\t\t\t\t</li>\n",
    "\t\t\t\t</ul>\n",
    "\t\t\t</li>\n",
    "\t\t\t<li>\n",
    "\t\t\t\t<a href=\"#Here-you-modify-the-computer-module\" data-toc-modified-id=\"Here-you-modify-the-computer-module-2\">Here you modify the computer module</a>\n",
    "\t\t\t</li>\n",
    "\t\t\t<li>\n",
    "\t\t\t\t<a href=\"#Here-you-modify-the-unit-tests\" data-toc-modified-id=\"Here-you-modify-the-unit-tests-3\">Here you modify the unit tests</a>\n",
    "\t\t\t\t<ul>\n",
    "\t\t\t\t\t<li>\n",
    "\t\t\t\t\t\t<a href=\"#Tests-for-REQ001\" data-toc-modified-id=\"Tests-for-REQ001-3.1\">Tests for REQ001</a>\n",
    "\t\t\t\t\t</li>\n",
    "\t\t\t\t\t<li>\n",
    "\t\t\t\t\t\t<a href=\"#Tests-for-REQ002\" data-toc-modified-id=\"Tests-for-REQ002-3.2\">Tests for REQ002</a>\n",
    "\t\t\t\t\t</li>\n",
    "\t\t\t\t\t<li>\n",
    "\t\t\t\t\t\t<a href=\"#Tests-for-REQ003\" data-toc-modified-id=\"Tests-for-REQ003-3.3\">Tests for REQ003</a>\n",
    "\t\t\t\t\t</li>\n",
    "\t\t\t\t\t<li>\n",
    "\t\t\t\t\t\t<a href=\"#Tests-for-REQ004\" data-toc-modified-id=\"Tests-for-REQ004-3.4\">Tests for REQ004</a>\n",
    "\t\t\t\t\t</li>\n",
    "\t\t\t\t\t<li>\n",
    "\t\t\t\t\t\t<a href=\"#Tests-for-REQ005\" data-toc-modified-id=\"Tests-for-REQ005-3.5\">Tests for REQ005</a>\n",
    "\t\t\t\t\t</li>\n",
    "\t\t\t\t\t<li>\n",
    "\t\t\t\t\t\t<a href=\"#Tests-for-REQ006\" data-toc-modified-id=\"Tests-for-REQ006-3.6\">Tests for REQ006</a>\n",
    "\t\t\t\t\t</li>\n",
    "\t\t\t\t\t<li>\n",
    "\t\t\t\t\t\t<a href=\"#Tests-for-REQ007\" data-toc-modified-id=\"Tests-for-REQ007-3.7\">Tests for REQ007</a>\n",
    "\t\t\t\t\t</li>\n",
    "\t\t\t\t\t<li>\n",
    "\t\t\t\t\t\t<a href=\"#Tests-for-REQ008\" data-toc-modified-id=\"Tests-for-REQ008-3.8\">Tests for REQ008</a>\n",
    "\t\t\t\t\t</li>\n",
    "\t\t\t\t</ul>\n",
    "\t\t\t</li>\n",
    "\t\t\t<li>\n",
    "\t\t\t\t<a href=\"#Conclusion\" data-toc-modified-id=\"Conclusion-4\">Conclusion</a>\n",
    "\t\t\t</li>\n",
    "\t\t</ul>\n",
    "\t</div>\n",
    "</div>"
   ]
  },
  {
   "cell_type": "markdown",
   "metadata": {
    "slideshow": {
     "slide_type": "slide"
    }
   },
   "source": [
    "## Your goals\n",
    "\n",
    "1. Satisfy the <a href=\"#Requirements-for-Magic-Computer\"><b>requirements bellow</b></a>\n",
    "2. Make all tests pass\n",
    "\n",
    "## How to do ?\n",
    "\n",
    "* Read the <a href=\"#Requirements-for-Magic-Computer\"><b>requirements bellow</b></a>,\n",
    "* Choose your way to code !"
   ]
  },
  {
   "cell_type": "markdown",
   "metadata": {
    "slideshow": {
     "slide_type": "slide"
    }
   },
   "source": [
    "<div class=\"alert alert-danger\">\n",
    "    <h2>You have make a choice how to code</h2>\n",
    "    <ul>\n",
    "        <li>You can do exercices like a real (wo)man, <i>outside</i> of notebook (blue pill)</li>\n",
    "        <li>You can do exercices in notebook (red pill)</li>\n",
    "    </ul>\n",
    "</div>"
   ]
  },
  {
   "cell_type": "markdown",
   "metadata": {
    "slideshow": {
     "slide_type": "slide"
    }
   },
   "source": [
    "## Exercises Outside Notebook\n",
    "\n",
    "That's the more realistic way of doing. \n",
    "\n",
    "All files are located in `ex01` folder.\n",
    "\n",
    "* Use your favorite editor\n",
    "* If your editor has no continous testing capabilities, use `pytest-watch` \n"
   ]
  },
  {
   "cell_type": "markdown",
   "metadata": {
    "slideshow": {
     "slide_type": "slide"
    }
   },
   "source": [
    "## Exercises Inside Notebook\n",
    "\n",
    "You can make the exercises in the notebook by running all cells.\n",
    "\n",
    "Just execute next cell"
   ]
  },
  {
   "cell_type": "markdown",
   "metadata": {
    "slideshow": {
     "slide_type": "subslide"
    }
   },
   "source": [
    "1. Modify the computer module <a href=\"#Here-you-modify-the-computer-module\">source</a>\n",
    "\n",
    "* Run tall he <a href=\"#Here-you-modify-the-unit-tests\">unit tests</a> with <kbd>r</kbd> to run all cells.\n",
    "\n",
    "You have to execute the following cell to enable the shortcut for <kbd>r</kbd>"
   ]
  },
  {
   "cell_type": "code",
   "execution_count": null,
   "metadata": {
    "slideshow": {
     "slide_type": "subslide"
    }
   },
   "outputs": [],
   "source": [
    "%%javascript\n",
    "\n",
    "Jupyter.keyboard_manager.command_shortcuts.add_shortcut('r', {\n",
    "    help : 'run all cells',\n",
    "    help_index : 'zz',\n",
    "    handler : function (event) {\n",
    "        IPython.notebook.execute_cell_range(0, IPython.notebook.get_selected_index()+1);\n",
    "        return false;\n",
    "    }}\n",
    ");"
   ]
  },
  {
   "cell_type": "markdown",
   "metadata": {
    "slideshow": {
     "slide_type": "slide"
    }
   },
   "source": [
    "# Here you modify the computer module\n",
    "\n",
    "At each <kbd>Ctrl</kbd>+<kbd>Enter</kbd> (run) or <kbd>r</kbd> (run all),\n",
    "this cell will write content to `ex01/from_notebook/computer.py`"
   ]
  },
  {
   "cell_type": "code",
   "execution_count": null,
   "metadata": {
    "slideshow": {
     "slide_type": "-"
    }
   },
   "outputs": [],
   "source": [
    "%%writefile ex01/from_notebook/computer.py\n",
    "# %load ex01/computer/computer.py\n",
    "\n",
    "def add(a,b):\n",
    "    return a+b\n",
    "\n",
    "def multiply(a,b):\n",
    "    return a * b\n",
    "\n",
    "def substract(a,b):\n",
    "    return a - b\n",
    "\n",
    "def divide(a,b):\n",
    "    return a/b\n"
   ]
  },
  {
   "cell_type": "markdown",
   "metadata": {
    "slideshow": {
     "slide_type": "slide"
    }
   },
   "source": [
    "# Here you modify the unit tests\n",
    "\n",
    "At each <kbd>Ctrl</kbd>+<kbd>Enter</kbd> (run) or <kbd>r</kbd> (run all),\n",
    "this cell will execute the unit tests.\n",
    "\n",
    "Go to source <a href=\"#Here-you-modify-the-computer-module\">module</a>"
   ]
  },
  {
   "cell_type": "markdown",
   "metadata": {
    "slideshow": {
     "slide_type": "slide"
    }
   },
   "source": [
    "<div class=\"alert alert-info\">\n",
    "\n",
    "When you wan to run all the cells, use <kbd>r</kbd>\n",
    "\n",
    "</div>"
   ]
  },
  {
   "cell_type": "markdown",
   "metadata": {
    "slideshow": {
     "slide_type": "slide"
    }
   },
   "source": [
    "<div class=\"jumbotron\">\n",
    "\n",
    "## Requirements for Magic Computer\n",
    "\n",
    "### REQ001\n",
    "\n",
    "*Operation with standard numbers*\n",
    "\n",
    "<a href=\"#Tests-for-REQ001\">Go to unit tests</a>\n",
    "\n",
    "An operation with all accepted operators and standard python number as operand \n",
    "**must** return the standard result as defined in the python manual for\n",
    "\n",
    "* Addition\n",
    "* Multiplication\n",
    "* Substraction\n",
    "* Division\n",
    "\n",
    "Example:\n",
    "* add(1, 2)  -> 3, \n",
    "* add(0.1, 0.2)  -> 0.3\n",
    "* multiply(0.2, 10.0)  -> 2.0\n",
    "* ...\n",
    "\n",
    "### REQ002\n",
    "\n",
    "*Operation with string operands*\n",
    "\n",
    "<a href=\"#Tests-for-REQ002\">Go to unit tests</a>\n",
    "\n",
    "As long as a string could parsed as number, \n",
    "it could be accepted as a valid operand\n",
    "\n",
    "Example:\n",
    "* add(\"1\",2)  -> 3 \n",
    "\n",
    "### REQ003\n",
    "\n",
    "*Operation with lists of same length*\n",
    "\n",
    "<a href=\"#Tests-for-REQ003\">Go to unit tests</a>\n",
    "\n",
    "When operands are both lists of valid operands with the same length, operation is performed\n",
    "on a per position basis and return a list of the same length.\n",
    "\n",
    "Example:\n",
    "* add([1,10,100],[2,20,200]) = -> [3,30,300]\n",
    "\n",
    "### REQ004\n",
    "\n",
    "*Operation with lists of different length*\n",
    "\n",
    "<a href=\"#Tests-for-REQ004\">Go to unit tests</a>\n",
    "\n",
    "When operands are both of different length, a `ValueError` is raised.\n",
    "\n",
    "### REQ005\n",
    "\n",
    "*Operation with list and a scalar*\n",
    "\n",
    "<a href=\"#Tests-for-REQ005\">Go to unit tests</a>\n",
    "\n",
    "When one the operand is a list and the other is a scalar, then the operation is performed \n",
    "on each value as if another list filled with the scalar value is provided.\n",
    "\n",
    "Example:\n",
    "\n",
    "* add([1,2,3], 10)  -> [11,12,13]\n",
    "\n",
    "\n",
    "### REQ006\n",
    "\n",
    "*Operation with tuples of same length*\n",
    "\n",
    "<a href=\"#Tests-for-REQ006\">Go to unit tests</a>\n",
    "\n",
    "When operands are both tuple of valid operands with the same length, operation is performed\n",
    "on a per position basis and return a tuple of the same length.\n",
    "\n",
    "Example:\n",
    "* add((1,10,100),(2,20,200)) -> (3,30,300)\n",
    "\n",
    "\n",
    "### REQ007\n",
    "\n",
    "*Operation with tuples of different length*\n",
    "\n",
    "<a href=\"#Tests-for-REQ007\">Go to unit tests</a>\n",
    "\n",
    "When operands are both of different length, a `ValueError` is raised.\n",
    "\n",
    "\n",
    "### REQ008\n",
    "\n",
    "*Operation with tuple and a scalar*\n",
    "\n",
    "<a href=\"#Tests-for-REQ008\">Go to unit tests</a>\n",
    "\n",
    "When one the operand is a tuple and the other is a scalar, then the operation is performed \n",
    "on each value as if another tuple filled with the scalar value is provided.\n",
    "\n",
    "Example:\n",
    "\n",
    "* add([1,2,3], 10)  -> [11,12,13]\n",
    "\n",
    "</div>"
   ]
  },
  {
   "cell_type": "markdown",
   "metadata": {
    "slideshow": {
     "slide_type": "slide"
    }
   },
   "source": [
    "## Tests for REQ001\n",
    "\n",
    "Go to <a href=\"#REQ001\">requirements</a> and <a href=\"#Here-you-modify-the-computer-module\">source</a>"
   ]
  },
  {
   "cell_type": "markdown",
   "metadata": {},
   "source": [
    "<div class=\"panel panel-primary\">\n",
    " <div class=\"panel-heading\">\n",
    "    <span class=\"panel-title\">To Do</span>\n",
    "  </div>    \n",
    "  <div class=\"panel-body\">\n",
    "    \n",
    "* Make the following unit tests pass.\n",
    "* If some unit test still fail, is it the code or the unit which is wrong ?\n",
    "\n",
    "\n",
    "</div></div>"
   ]
  },
  {
   "cell_type": "code",
   "execution_count": null,
   "metadata": {
    "scrolled": true,
    "slideshow": {
     "slide_type": "slide"
    }
   },
   "outputs": [],
   "source": [
    "%%run_pytest[clean] -qq\n",
    "\n",
    "from ex01.from_notebook import computer\n",
    "\"\"\"\n",
    "Code the computer module's function `add` and `multiply` following these usecases \n",
    "\"\"\"\n",
    "\n",
    "# REQ001: operation with standard numbers\n",
    "\n",
    "def test_add_int():\n",
    "    assert computer.add(1, 2) == 3\n",
    "    \n",
    "def test_add_float():\n",
    "    assert computer.add(1.2, 2.3) == 3.5    \n",
    "\n",
    "def test_substract_int():\n",
    "    assert computer.substract(3, 2) == 1\n",
    "    \n",
    "def test_substract_float():\n",
    "    assert computer.add(2.3, 1.2) == 1.1    \n",
    "\n",
    "    \n"
   ]
  },
  {
   "cell_type": "markdown",
   "metadata": {},
   "source": [
    "<div class=\"panel panel-primary\">\n",
    " <div class=\"panel-heading\">\n",
    "    <span class=\"panel-title\">To Do</span>\n",
    "  </div>    \n",
    "  <div class=\"panel-body\">\n",
    "\n",
    "* Try to make some factorisation to test with `@pytest.mark.parametrize` for `+`, `-`, `/` and `*` operators.\n",
    "\n",
    "</div></div>"
   ]
  },
  {
   "cell_type": "markdown",
   "metadata": {},
   "source": [
    "<div class=\"alert alert-warning\">\n",
    "    \n",
    "**HINT**:\n",
    "\n",
    "Remember the golden rule.\n",
    "\n",
    "Don't  \n",
    "Repeat  \n",
    "Yourself  \n",
    "\n",
    "Try to factorize all operations with only one\n",
    "\n",
    "```python\n",
    "def add(a,b):\n",
    "    return _call_operator('__add__',a,b)\n",
    "\n",
    "def multiply(a,b):\n",
    "    return _call_operator('__mul__',a,b)\n",
    "\n",
    "def _call_operator(fn,a,b):\n",
    "    call_ = getattr(a.__class__,fn) # <-- retrieve the dunder \n",
    "    return call_(a,b)               # <-- invoke it\n",
    "```\n",
    "The main list is here\n",
    "\n",
    "```\n",
    "Operator    Method\n",
    "+   object.__add__(self, other)\n",
    "-   object.__sub__(self, other)\n",
    "*   object.__mul__(self, other)\n",
    "/   object.__truediv__(self, other)\n",
    "```\n",
    "</div>"
   ]
  },
  {
   "cell_type": "code",
   "execution_count": null,
   "metadata": {},
   "outputs": [],
   "source": [
    "%%run_pytest[clean] -qq\n",
    "\n",
    "@pytest.mark.parametrize('operation, a, b, expected',[\n",
    "    ('__add__', 1, 1, 2),\n",
    "    ('__sub__', 1, 1, 0),\n",
    "])\n",
    "def test__call_operator(operation, a, b, expected):\n",
    "    assert computer._call_operator(operation,a,b) == expected"
   ]
  },
  {
   "cell_type": "markdown",
   "metadata": {},
   "source": [
    "## Tests for REQ002\n",
    "\n",
    "Go to <a href=\"#REQ002\">requirements</a> and <a href=\"#Here-you-modify-the-computer-module\">source</a>"
   ]
  },
  {
   "cell_type": "markdown",
   "metadata": {},
   "source": [
    "<div class=\"alert alert-warning\">\n",
    "    \n",
    "**HINT**:\n",
    "\n",
    "To convert a `str` as `int` just write\n",
    "\n",
    "```python\n",
    "int(s)\n",
    "```\n",
    "\n",
    "To convert a `str` as `float` just write\n",
    "\n",
    "\n",
    "```python\n",
    "float(s)\n",
    "```\n",
    "\n",
    "</div>"
   ]
  },
  {
   "cell_type": "markdown",
   "metadata": {},
   "source": [
    "<div class=\"panel panel-primary\">\n",
    " <div class=\"panel-heading\">\n",
    "    <span class=\"panel-title\">To Do</span>\n",
    "  </div>    \n",
    "  <div class=\"panel-body\">\n",
    "    \n",
    "* You're not sure what happens when you are doing convertions ?\n",
    "\n",
    "**Unit test them quicly** (and remove them after if you want)\n",
    "\n",
    "*Yes, you can use unit tests and failure reports to explore behaviours :)*\n",
    "\n",
    "</div></div>"
   ]
  },
  {
   "cell_type": "code",
   "execution_count": null,
   "metadata": {},
   "outputs": [],
   "source": [
    "%%run_pytest[clean] -qq\n",
    "\n",
    "@pytest.mark.parametrize('a, expected', [\n",
    "    (\"3\", 3),\n",
    "    (\"3.6\", '?'),\n",
    "    (3, 3),\n",
    "    (3.6, '?'),\n",
    "])\n",
    "def test_from_str_to_int(a, expected):\n",
    "    assert int(a)  == expected\n",
    "    \n",
    "    \n",
    "\n",
    "@pytest.mark.parametrize('a, expected', [\n",
    "    (\"3\", 3),\n",
    "    (\"3.6\", '?'),\n",
    "    (3, 3),\n",
    "    (3.6, '?'),\n",
    "])\n",
    "def test_from_str_to_float(a, expected):\n",
    "    assert float(a)  == expected    "
   ]
  },
  {
   "cell_type": "markdown",
   "metadata": {},
   "source": [
    "<div class=\"panel panel-primary\">\n",
    " <div class=\"panel-heading\">\n",
    "    <span class=\"panel-title\">To Do</span>\n",
    "  </div>    \n",
    "  <div class=\"panel-body\">\n",
    "      \n",
    "* Write a function  `_convert_to_number(s)` that convert any input (`str`, `int`, `float`) to `int` or `float` such as \n",
    "\n",
    "```python\n",
    "_convert_to_number(str(a)) == a\n",
    "```\n",
    "\n",
    "* Unit test it (see below)\n",
    "\n",
    "</div></div>\n",
    "\n",
    "\n",
    "<div class=\"alert alert-warning\">\n",
    "\n",
    "**HINT**\n",
    "\n",
    "Use a control flow as \n",
    "\n",
    "```python\n",
    "if isinstance(s,str):\n",
    "    # try to convert to int.\n",
    "    # if it fails, convert to float\n",
    "else:\n",
    "    return s\n",
    "```\n",
    "</div>    "
   ]
  },
  {
   "cell_type": "code",
   "execution_count": null,
   "metadata": {},
   "outputs": [],
   "source": [
    "%%run_pytest[clean] -qq\n",
    "\n",
    "\n",
    "def _convert_to_number(s):\n",
    "    if isinstance(s,str):\n",
    "        # Do what you have to do here\n",
    "        return s # <--- Don't keep me :)\n",
    "    return s\n",
    "\n",
    "\n",
    "@pytest.mark.parametrize('a', [\n",
    "    (3),\n",
    "    (3.6),\n",
    "    (-1)\n",
    "])\n",
    "def test_from_string(a):\n",
    "    assert _convert_to_number(str(a)) == a"
   ]
  },
  {
   "cell_type": "markdown",
   "metadata": {},
   "source": [
    "<div class=\"panel panel-primary\">\n",
    " <div class=\"panel-heading\">\n",
    "    <span class=\"panel-title\">To Do</span>\n",
    "  </div>    \n",
    "  <div class=\"panel-body\">\n",
    "      \n",
    "* Make the following unit tests pass.\n",
    "\n",
    "\n",
    "</div></div>"
   ]
  },
  {
   "cell_type": "code",
   "execution_count": null,
   "metadata": {
    "scrolled": true
   },
   "outputs": [],
   "source": [
    "%%run_pytest[clean] -qq\n",
    "\n",
    "def test_add_scalar_string():\n",
    "    assert computer.add(\"1\", \"2\") == 3\n",
    "\n",
    "def test_add_scalar_mixed_string():\n",
    "    assert computer.add(\"1\", 2) == 3\n",
    "    \n",
    "def test_add_scalar_float_string():\n",
    "    assert computer.add(\"1.2\", \"2.3\") == 3.5    \n",
    "\n",
    "def test_multiply_scalar_string():\n",
    "    assert computer.multiply(\"1\", \"2\") == 2\n",
    "    \n",
    "def test_multiply_scalar_float_string():\n",
    "    assert computer.multiply(\"1.3\", \"2.2\") == 2.86\n",
    "    \n",
    "def test_add_with_not_numeric_string():\n",
    "    assert computer.add(\"foo\",\"2\") != 0\n"
   ]
  },
  {
   "cell_type": "markdown",
   "metadata": {},
   "source": [
    "## Tests for REQ003\n",
    "\n",
    "Go to <a href=\"#REQ003\">requirements</a> and <a href=\"#Here-you-modify-the-computer-module\">source</a>"
   ]
  },
  {
   "cell_type": "markdown",
   "metadata": {},
   "source": [
    "<div class=\"alert alert-warning\">\n",
    "    \n",
    "**Hints**\n",
    "\n",
    "You will need to tests if `a` and `b` are potential list.\n",
    "\n",
    "We'll use, understand (maybe improve) the following functions\n",
    "</div>"
   ]
  },
  {
   "cell_type": "code",
   "execution_count": null,
   "metadata": {},
   "outputs": [],
   "source": [
    "def _is_list(s):\n",
    "    \"\"\"Test if parameter is a list\"\"\"\n",
    "    return isinstance(s,list)\n",
    "\n",
    "def _are_all_iterable(*args):\n",
    "    \"\"\"Test if all arguments are list\"\"\"\n",
    "    return all(is_list(arg) for arg in args)\n"
   ]
  },
  {
   "cell_type": "markdown",
   "metadata": {},
   "source": [
    "<div class=\"panel panel-primary\">\n",
    " <div class=\"panel-heading\">\n",
    "    <span class=\"panel-title\">To Do</span>\n",
    "  </div>    \n",
    "  <div class=\"panel-body\">\n",
    "    \n",
    "* Use unit test to produce **proof of concepts** to add element one-to-one from two lists\n",
    "* Make the following unit tests pass.\n",
    "\n",
    "</div></div>\n",
    "\n",
    "<div class=\"alert alert-warning\">\n",
    "    \n",
    "**HINT**\n",
    "\n",
    "* Use `computer.add(a,b)`, `list()` and `zip()` built-in functions to operate over items with the same indice\n",
    "\n",
    "</div>\n",
    "\n"
   ]
  },
  {
   "cell_type": "code",
   "execution_count": null,
   "metadata": {},
   "outputs": [],
   "source": [
    "def test_what_could_I_do_with_two_list():\n",
    "    list0 = [1,2,3]\n",
    "    list1 = [10,20,100]\n",
    "    def proof_of_concept_of_ADD_with_two_lists(a,b):\n",
    "        # Here your ideas\n",
    "        #...\n",
    "        pass\n",
    "        \n",
    "    assert proof_of_concept_of_ADD_with_two_lists(list0, list1) == [11,22,103]\n",
    "\n"
   ]
  },
  {
   "cell_type": "markdown",
   "metadata": {},
   "source": [
    "<div class=\"panel panel-primary\">\n",
    " <div class=\"panel-heading\">\n",
    "    <span class=\"panel-title\">To Do</span>\n",
    "  </div>    \n",
    "  <div class=\"panel-body\">\n",
    "    \n",
    "Now that you validated your proof of concept, generalize it to any operation in **and** with `_call_operator(operation,a,b)`\n",
    "</div></div>"
   ]
  },
  {
   "cell_type": "markdown",
   "metadata": {},
   "source": [
    "\n",
    "Now you have make your proof of concept validated, move (or just copy) these functions to `computer` module.\n",
    "\n",
    "<div class=\"alert alert-success\">\n",
    "    \n",
    "*In real life, we write directly in the target module.*  \n",
    "*Here we decompose for pedagogical progression :)*\n",
    "\n",
    "</div>\n",
    "\n",
    "<hr>\n",
    "<div class=\"panel panel-primary\">\n",
    " <div class=\"panel-heading\">\n",
    "    <span class=\"panel-title\">To Do</span>\n",
    "  </div>    \n",
    "  <div class=\"panel-body\">\n",
    "\n",
    "Report into `Computer` code.\n",
    "\n",
    "* `_is_list`\n",
    "* `_are_all_iterable`\n",
    "* your proof of concept\n",
    "\n",
    "</div></div>"
   ]
  },
  {
   "cell_type": "markdown",
   "metadata": {},
   "source": [
    "<div class=\"panel panel-primary\">\n",
    " <div class=\"panel-heading\">\n",
    "    <span class=\"panel-title\">To Do</span>\n",
    "  </div>    \n",
    "  <div class=\"panel-body\">\n",
    "\n",
    "* Create unit test according to REQ003\n",
    "* Make them pass.\n",
    "\n",
    "\n",
    "</div></div>"
   ]
  },
  {
   "cell_type": "code",
   "execution_count": null,
   "metadata": {
    "scrolled": true
   },
   "outputs": [],
   "source": [
    "%%run_pytest[clean] -qq\n",
    "\n",
    "def test_empty_3():\n",
    "    assert False, 'No tests for REQ003'"
   ]
  },
  {
   "cell_type": "markdown",
   "metadata": {},
   "source": [
    "## Tests for REQ004\n",
    "\n",
    "Go to <a href=\"#REQ004\">requirements</a> and <a href=\"#Here-you-modify-the-computer-module\">source</a>"
   ]
  },
  {
   "cell_type": "markdown",
   "metadata": {},
   "source": [
    "<div class=\"alert alert-warning\">\n",
    "\n",
    "**HINT**\n",
    "\n",
    "To check if a list of items have the same length\n",
    "* collect length of args\n",
    "* put them into a `set` whom values are unique\n",
    "* Read the following, understand and feel free to improve.\n",
    "\n",
    "```python\n",
    "def _check_length(*args):\n",
    "    sizes = set(len(arg) for arg in args)\n",
    "    if len(size) != 1:\n",
    "        max_length = max(sizes)\n",
    "        min_length = min(sizes)\n",
    "        if max_length != min_length:\n",
    "            raise ValueError(f\"Length must be the same. {min_length} != {max_length}\")        \n",
    "```\n",
    "</div>\n",
    "\n",
    "<div class=\"panel panel-primary\">\n",
    " <div class=\"panel-heading\">\n",
    "    <span class=\"panel-title\">To Do</span>\n",
    "  </div>    \n",
    "  <div class=\"panel-body\">\n",
    "\n",
    "* Implements `_check_length` into your code **directly**\n",
    "* Unit test it\n",
    "* and run tests below\n",
    "\n",
    "</div></div>"
   ]
  },
  {
   "cell_type": "code",
   "execution_count": null,
   "metadata": {},
   "outputs": [],
   "source": [
    "%%run_pytest[clean] -qq\n",
    "\n",
    "def test_check_length_ok():\n",
    "    assert computer._check_length([1,2],[1,2])\n",
    "    \n",
    "\n",
    "def test_check_length_ok():\n",
    "    with pytest.raises(ValueError):\n",
    "        assert computer._check_length([1,2],[1,2,3])"
   ]
  },
  {
   "cell_type": "markdown",
   "metadata": {},
   "source": [
    "<div class=\"panel panel-primary\">\n",
    " <div class=\"panel-heading\">\n",
    "    <span class=\"panel-title\">To Do</span>\n",
    "  </div>    \n",
    "  <div class=\"panel-body\">\n",
    "\n",
    "* Create unit test according to REQ004\n",
    "* Make them pass.\n",
    "\n",
    "\n",
    "</div></div>"
   ]
  },
  {
   "cell_type": "code",
   "execution_count": null,
   "metadata": {
    "scrolled": true
   },
   "outputs": [],
   "source": [
    "%%run_pytest[clean] -qq\n",
    "\n",
    "def test_empty_4():\n",
    "    with pytest.raises(ValueError):\n",
    "        assert computer.add([1,2],[1,2,3])\n"
   ]
  },
  {
   "cell_type": "markdown",
   "metadata": {},
   "source": [
    "## Tests for REQ005\n",
    "\n",
    "Go to <a href=\"#REQ005\">requirements</a> and <a href=\"#Here-you-modify-the-computer-module\">source</a>"
   ]
  },
  {
   "cell_type": "markdown",
   "metadata": {},
   "source": [
    "<div class=\"alert alert-warning\">\n",
    "    \n",
    "**Hints**\n",
    "\n",
    "Use, understand (maybe improve) the following functions\n",
    "\n",
    "```python\n",
    "def _are_iterable(*args):\n",
    "    return any(is_list(arg) for arg in args)\n",
    "```\n",
    "</div>"
   ]
  },
  {
   "cell_type": "markdown",
   "metadata": {},
   "source": [
    "<div class=\"alert alert-warning\">\n",
    "    \n",
    "**HINT**\n",
    "\n",
    "One choice could be to transform into list the scalar **with the same length**.\n",
    "\n",
    "\n",
    "```python\n",
    "    if _are_iterable(a,b):\n",
    "        a,b = _convert_as_list(a,b)\n",
    "        a,b = _adjust_length(a,b)\n",
    "```\n",
    "\n",
    "and something like\n",
    "\n",
    "```python\n",
    "def _adjust_length(*args):\n",
    "    min_length, max_length = _get_length(*args)\n",
    "\n",
    "    def _padd_as_max_length_list(s):\n",
    "        if len(s) == 1:\n",
    "            return [s[0] for _ in range(max_length)]\n",
    "        return s\n",
    "\n",
    "    return tuple(_padd_as_max_length_list(arg) for arg in args)\n",
    "```\n",
    "\n",
    "with a cousin of our `_check_length`\n",
    "\n",
    "```python\n",
    "def _get_length(*args):\n",
    "    sizes = set(len(arg) for arg in args)\n",
    "    assert 1 <= len(sizes) <=2\n",
    "    max_length = max(sizes)\n",
    "    min_length = min(sizes)\n",
    "    if min_length != 1 and max_length != min_length:\n",
    "        raise ValueError(f\"Length must be the same. {min_length} != {max_length}\")\n",
    "    return min_length, max_length\n",
    "```\n",
    "    \n",
    "</div>"
   ]
  },
  {
   "cell_type": "markdown",
   "metadata": {},
   "source": [
    "Following this idea, we have convert simple scalars to list and list to... themselves.\n",
    "\n",
    "\n",
    "<div class=\"panel panel-primary\">\n",
    " <div class=\"panel-heading\">\n",
    "    <span class=\"panel-title\">To Do</span>\n",
    "  </div>    \n",
    "  <div class=\"panel-body\">\n",
    "      \n",
    "* Produce a function `_as_list(s)` such as the following tests pass.\n",
    "\n",
    "</div>\n",
    "</div>"
   ]
  },
  {
   "cell_type": "code",
   "execution_count": null,
   "metadata": {},
   "outputs": [],
   "source": [
    "%%run_pytest[clean] -qq\n",
    "\n",
    "def _as_list(s):\n",
    "    # Do what you have to do here\n",
    "    pass\n",
    "\n",
    "@pytest.mark.parametrize('s, expected',[\n",
    "    (3, [3]),\n",
    "    ([1,2],[1,2])\n",
    "])\n",
    "def test_as_list(s, expected):\n",
    "    assert _as_list(s) == expected"
   ]
  },
  {
   "cell_type": "markdown",
   "metadata": {},
   "source": [
    "<div class=\"panel panel-primary\">\n",
    " <div class=\"panel-heading\">\n",
    "    <span class=\"panel-title\">To Do</span>\n",
    "  </div>    \n",
    "  <div class=\"panel-body\">\n",
    "      \n",
    "* Produce a function `_convert_as_list(*args)` using `_as_list` such as the following tests pass.\n",
    "\n",
    "</div>\n",
    "</div>"
   ]
  },
  {
   "cell_type": "code",
   "execution_count": null,
   "metadata": {},
   "outputs": [],
   "source": [
    "%%run_pytest[clean] -qq\n",
    "\n",
    "def _convert_as_list(*args):\n",
    "    # Do here what you have to do.\n",
    "    pass\n",
    "\n",
    "@pytest.mark.parametrize('a, b, a_list, b_list',[\n",
    "    (3,3,[3],[3]),\n",
    "    (3,[1,2],[3],[1,2])\n",
    "])\n",
    "def test_as_list(a, b, a_list, b_list):\n",
    "    assert _convert_as_list(a,b) == (a_list, b_list)"
   ]
  },
  {
   "cell_type": "markdown",
   "metadata": {},
   "source": [
    "<div class=\"panel panel-primary\">\n",
    " <div class=\"panel-heading\">\n",
    "    <span class=\"panel-title\">To Do</span>\n",
    "  </div>    \n",
    "  <div class=\"panel-body\">\n",
    "\n",
    "* Copy into your code \n",
    "  * `_get_length`\n",
    "  * `_as_list(s)`\n",
    "  * `_convert_as_list(*args)`\n",
    "  * `_are_iterable(*args)` \n",
    "* Unit test them (copy your or modify your proofs of concept tests) **if we have enough time**.\n",
    "* Creates and run tests acording to REQ006 below\n",
    "\n",
    "</div></div>"
   ]
  },
  {
   "cell_type": "code",
   "execution_count": null,
   "metadata": {
    "scrolled": true
   },
   "outputs": [],
   "source": [
    "%%run_pytest[clean] -qq\n",
    "\n",
    "def test_empty_5():\n",
    "    assert False, 'No tests for REQ005'"
   ]
  },
  {
   "cell_type": "markdown",
   "metadata": {},
   "source": [
    "## Tests for REQ006\n",
    "\n",
    "Go to <a href=\"#REQ006\">requirements</a> and <a href=\"#Here-you-modify-the-computer-module\">source</a>"
   ]
  },
  {
   "cell_type": "markdown",
   "metadata": {},
   "source": [
    "<div class=\"panel panel-primary\">\n",
    " <div class=\"panel-heading\">\n",
    "    <span class=\"panel-title\">To Do</span>\n",
    "  </div>    \n",
    "  <div class=\"panel-body\">\n",
    "\n",
    "Lists and tuples are very closed.\n",
    "\n",
    "With a few modification, you could easily reach this Requirement and maybe the next ones.\n",
    "\n",
    "</div></div>"
   ]
  },
  {
   "cell_type": "code",
   "execution_count": null,
   "metadata": {
    "scrolled": true
   },
   "outputs": [],
   "source": [
    "%%run_pytest[clean] -qq\n",
    "\n",
    "def test_empty_6():\n",
    "    assert False, 'No tests for REQ006'"
   ]
  },
  {
   "cell_type": "markdown",
   "metadata": {},
   "source": [
    "## Tests for REQ007\n",
    "\n",
    "Go to <a href=\"#REQ007\">requirements</a> and <a href=\"#Here-you-modify-the-computer-module\">source</a>"
   ]
  },
  {
   "cell_type": "code",
   "execution_count": null,
   "metadata": {
    "scrolled": true
   },
   "outputs": [],
   "source": [
    "%%run_pytest[clean] -qq\n",
    "\n",
    "def test_empty_7():\n",
    "    assert False, 'No tests for REQ007'"
   ]
  },
  {
   "cell_type": "markdown",
   "metadata": {},
   "source": [
    "## Tests for REQ008\n",
    "\n",
    "Go to <a href=\"#REQ008\">requirements</a> and <a href=\"#Here-you-modify-the-computer-module\">source</a>"
   ]
  },
  {
   "cell_type": "code",
   "execution_count": null,
   "metadata": {
    "scrolled": false
   },
   "outputs": [],
   "source": [
    "%%run_pytest[clean] -qq\n",
    "\n",
    "def test_empty_8():\n",
    "    assert False, 'No tests for REQ008'"
   ]
  },
  {
   "cell_type": "markdown",
   "metadata": {},
   "source": [
    "# Conclusion\n",
    "\n",
    "A solution would be transmitted by th etherpad"
   ]
  }
 ],
 "metadata": {
  "celltoolbar": "Diaporama",
  "kernelspec": {
   "display_name": "Python 3",
   "language": "python",
   "name": "python3"
  },
  "language_info": {
   "codemirror_mode": {
    "name": "ipython",
    "version": 3
   },
   "file_extension": ".py",
   "mimetype": "text/x-python",
   "name": "python",
   "nbconvert_exporter": "python",
   "pygments_lexer": "ipython3",
   "version": "3.6.8"
  },
  "toc": {
   "base_numbering": 1,
   "nav_menu": {},
   "number_sections": false,
   "sideBar": true,
   "skip_h1_title": false,
   "title_cell": "Table of Contents",
   "title_sidebar": "Contents",
   "toc_cell": false,
   "toc_position": {},
   "toc_section_display": true,
   "toc_window_display": false
  }
 },
 "nbformat": 4,
 "nbformat_minor": 2
}
