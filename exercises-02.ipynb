{
 "cells": [
  {
   "cell_type": "code",
   "execution_count": 5,
   "metadata": {},
   "outputs": [],
   "source": [
    "import pytest\n",
    "import ipytest\n",
    "\n",
    "ipytest.config(rewrite_asserts=True, magics=True)\n",
    "\n",
    "__file__ = 'exercises-02.ipynb' "
   ]
  },
  {
   "cell_type": "code",
   "execution_count": 1,
   "metadata": {},
   "outputs": [
    {
     "data": {
      "application/javascript": [
       "\n",
       "Jupyter.keyboard_manager.command_shortcuts.add_shortcut('r', {\n",
       "    help : 'run all cells',\n",
       "    help_index : 'zz',\n",
       "    handler : function (event) {\n",
       "        IPython.notebook.execute_cell_range(0, IPython.notebook.get_selected_index()+1);\n",
       "        return false;\n",
       "    }}\n",
       ");\n"
      ],
      "text/plain": [
       "<IPython.core.display.Javascript object>"
      ]
     },
     "metadata": {},
     "output_type": "display_data"
    }
   ],
   "source": [
    "%%javascript\n",
    "\n",
    "Jupyter.keyboard_manager.command_shortcuts.add_shortcut('r', {\n",
    "    help : 'run all cells',\n",
    "    help_index : 'zz',\n",
    "    handler : function (event) {\n",
    "        IPython.notebook.execute_cell_range(0, IPython.notebook.get_selected_index()+1);\n",
    "        return false;\n",
    "    }}\n",
    ");"
   ]
  },
  {
   "cell_type": "code",
   "execution_count": 7,
   "metadata": {},
   "outputs": [
    {
     "name": "stdout",
     "output_type": "stream",
     "text": [
      "The autoreload extension is already loaded. To reload it, use:\n",
      "  %reload_ext autoreload\n"
     ]
    }
   ],
   "source": [
    "%load_ext autoreload\n",
    "%autoreload 2"
   ]
  },
  {
   "cell_type": "markdown",
   "metadata": {
    "slideshow": {
     "slide_type": "slide"
    }
   },
   "source": [
    "# Exercises 02\n",
    "\n",
    "The Exploration Robot !\n",
    "\n",
    "<center>\n",
    "    <img src=\"https://media.giphy.com/media/3o85xwc5c8DCoAF440/giphy.gif\">\n",
    "</center>"
   ]
  },
  {
   "cell_type": "markdown",
   "metadata": {
    "cell_style": "split",
    "slideshow": {
     "slide_type": "slide"
    }
   },
   "source": [
    "We have a small exploration robot to design as follow\n",
    "\n",
    "* 2 wheels only, the third is a fool and free one\n",
    "* One electric **Engine** per wheel\n",
    "  * The radius of each wheel is **R**\n",
    "  * The transversal distance between each wheel is **L**\n",
    "* The robot motion is controlled by a **MotionController**\n",
    "* It communicates with *you* by a **Transmitter**\n",
    "* It is powered by a **EnergySupplier**"
   ]
  },
  {
   "cell_type": "markdown",
   "metadata": {
    "cell_style": "split",
    "slideshow": {
     "slide_type": "-"
    }
   },
   "source": [
    "<center><img src=\"images/robot.png\"></center>\n"
   ]
  },
  {
   "cell_type": "markdown",
   "metadata": {
    "slideshow": {
     "slide_type": "slide"
    }
   },
   "source": [
    "So far we have the following entities\n",
    "\n",
    "* `Engine`\n",
    "* `Wheel`\n",
    "* `MotionController`\n",
    "* `Transmitter`\n",
    "* `EnergySupplier`"
   ]
  },
  {
   "cell_type": "markdown",
   "metadata": {
    "slideshow": {
     "slide_type": "slide"
    }
   },
   "source": [
    "## Engine\n",
    "\n",
    "* `Engine` move its `Wheel` *forward* or *backward* in *wheel diameter* (2&pi;R) units.\n",
    "* For each *turn of wheel*, `Engine` consumes *energy* from `EnergySupplier`\n"
   ]
  },
  {
   "cell_type": "markdown",
   "metadata": {},
   "source": [
    "## EnergySupplier\n",
    "\n",
    "* `EnergySupplier` supplies *energy* to consumers\n",
    "* `EnergySupplier` indicates the remaining level of energy\n"
   ]
  },
  {
   "cell_type": "markdown",
   "metadata": {},
   "source": [
    "## MotionController\n",
    "\n",
    "* `MotionController` controles each `Engine`\n",
    "  * ask them to make move, *in meter*, theirs wheels\n",
    "  * ask them to evaluate the consumed energy per meter by theirs wheels\n",
    "\n",
    "* `MotionController` evaluates the faisability of an itinary before starting to move\n",
    "  * it estimates the distance\n",
    "  * it estimates the energy consumption\n",
    "  * it checks that `EnergySupplier` as enough energy "
   ]
  },
  {
   "cell_type": "markdown",
   "metadata": {
    "slideshow": {
     "slide_type": "slide"
    }
   },
   "source": [
    "# Rules\n",
    "\n",
    "The robot follown some architectures rules\n",
    "\n",
    "## Communication use a TC/TM protocole\n",
    "\n",
    "As the robot is far, far away, we send it telecommands (TC) et it sends us Telemeasures (TM)\n",
    "\n",
    "* `Robot` receives *TC* from `Transmitter` and send *TM* through `Transmitter`\n",
    "\n",
    "We have "
   ]
  },
  {
   "cell_type": "markdown",
   "metadata": {},
   "source": [
    "## TC/TM for motion\n",
    "\n",
    "We have to send to our robot the next motions it has to do.\n",
    "\n",
    "The protocole is the following\n",
    "\n",
    "### ready_for_loading\n",
    "\n",
    "* When you send a TC `{ 'type': 'motion', 'command' :'ready_for_loading'}`\n",
    "  * if robot is moving, it replies a TM `{ 'type': 'motion', 'command' :'moving'}`\n",
    "  * else robot replies `{ 'type': 'motion', 'command' :'ready_for_loading'}`"
   ]
  },
  {
   "cell_type": "markdown",
   "metadata": {},
   "source": [
    "### loading\n",
    "\n",
    "* When you send TC `{ 'type': 'motion', 'command' :'loading', 'payload': <motions>}`\n",
    "  * if robot is moving, it replies a TM `{ 'type': 'motion', 'command' :'moving'}`\n",
    "  * else robot answers `{ 'type': 'motion', 'command' :'loaded_ok'}` it it evaluates it's OK\n",
    "  * else it answers `{ 'type': 'motion', 'command' :'loaded_invalid', 'payload': <error>}` if not."
   ]
  },
  {
   "cell_type": "markdown",
   "metadata": {},
   "source": [
    "### move\n",
    "\n",
    "* If load itinary is OK, you can send a TC `{ 'type': 'motion', 'command' :'move'}`, \n",
    "  * robot answers `{ 'type': 'motion', 'command' :'moving'}`\n",
    "* When robot has moved according to itinary, it send a TM `{ 'type': 'motion', 'command' :'moved', 'payload': <positions>}`"
   ]
  },
  {
   "cell_type": "markdown",
   "metadata": {},
   "source": [
    "## Payloads : Motions and positions\n",
    "\n",
    "### Motions\n",
    "\n",
    "`Motions` is a list of motion.\n",
    "\n",
    "There's two kinds of motions\n",
    "\n",
    "* move\n",
    "* turn"
   ]
  },
  {
   "cell_type": "markdown",
   "metadata": {},
   "source": [
    "#### Move\n",
    "\n",
    "a Motion of type Move is compound of a distance and a orientation\n",
    "\n",
    "```json\n",
    "{ distance: 22.5, orientation: 'forward'}\n",
    "```\n",
    "\n",
    "#### Turn\n",
    "\n",
    "a motion of type `Turn` is compound of \n",
    "* a **radius** of giration \n",
    "* an **angle** of giration in degres,\n",
    "* a **side**: `Left` or `Right`\n",
    "\n",
    "\n",
    "```json\n",
    "{ radius: 10, angle: 45, side: 'Left'}\n",
    "```"
   ]
  },
  {
   "cell_type": "markdown",
   "metadata": {},
   "source": [
    "#### Payload\n",
    "\n",
    "A payload for a itinary looks like \n",
    "\n",
    "```json\n",
    "[\n",
    " { distance: 10, orientation: 'forward'}, \n",
    " { radius: 10, angle: 90, side: 'Left'},\n",
    " { distance: 10, orientation: 'forward'},   \n",
    " { radius: 10, angle: 90, side: 'Left'}\n",
    "]\n",
    "```"
   ]
  },
  {
   "cell_type": "markdown",
   "metadata": {},
   "source": [
    "## Positions\n",
    "\n",
    "A payload of type Positions is a list of Position\n",
    "\n",
    "### Position\n",
    "\n",
    "A position is compound of 2D coordonate and a pointing vector direction called u\n",
    "\n",
    "```json\n",
    "{ x: 23.456, y: 10.445, u: { x: 1.0, y: 0 } }\n",
    "```"
   ]
  },
  {
   "cell_type": "markdown",
   "metadata": {},
   "source": [
    "* faire un test sur les TC et TM\n",
    "* faire un test sur la validation des trajectoires\n",
    "* faire calculer les ordres à transmettre aux roues pour suivre les directives\n",
    "* Faire un test d'acceptance final"
   ]
  },
  {
   "cell_type": "markdown",
   "metadata": {},
   "source": [
    "# Classes"
   ]
  },
  {
   "cell_type": "markdown",
   "metadata": {},
   "source": [
    "## Engine"
   ]
  },
  {
   "cell_type": "code",
   "execution_count": null,
   "metadata": {},
   "outputs": [],
   "source": [
    "class Engine:\n",
    "    pass"
   ]
  },
  {
   "cell_type": "markdown",
   "metadata": {},
   "source": [
    "## Wheel"
   ]
  },
  {
   "cell_type": "code",
   "execution_count": null,
   "metadata": {},
   "outputs": [],
   "source": [
    "class Wheel:\n",
    "    pass"
   ]
  },
  {
   "cell_type": "markdown",
   "metadata": {},
   "source": [
    "# MotionController"
   ]
  },
  {
   "cell_type": "code",
   "execution_count": null,
   "metadata": {},
   "outputs": [],
   "source": [
    "class MotionController:\n",
    "    pass"
   ]
  },
  {
   "cell_type": "markdown",
   "metadata": {},
   "source": [
    "## Transmitter"
   ]
  },
  {
   "cell_type": "code",
   "execution_count": null,
   "metadata": {},
   "outputs": [],
   "source": [
    "class Transmitter:\n",
    "    pass"
   ]
  },
  {
   "cell_type": "code",
   "execution_count": null,
   "metadata": {},
   "outputs": [],
   "source": [
    "class EnergySupplier:\n",
    "    pass"
   ]
  }
 ],
 "metadata": {
  "celltoolbar": "Diaporama",
  "kernelspec": {
   "display_name": "Python 3",
   "language": "python",
   "name": "python3"
  },
  "language_info": {
   "codemirror_mode": {
    "name": "ipython",
    "version": 3
   },
   "file_extension": ".py",
   "mimetype": "text/x-python",
   "name": "python",
   "nbconvert_exporter": "python",
   "pygments_lexer": "ipython3",
   "version": "3.7.1"
  },
  "toc": {
   "base_numbering": 1,
   "nav_menu": {},
   "number_sections": false,
   "sideBar": true,
   "skip_h1_title": false,
   "title_cell": "Table of Contents",
   "title_sidebar": "Contents",
   "toc_cell": false,
   "toc_position": {},
   "toc_section_display": true,
   "toc_window_display": false
  }
 },
 "nbformat": 4,
 "nbformat_minor": 2
}
