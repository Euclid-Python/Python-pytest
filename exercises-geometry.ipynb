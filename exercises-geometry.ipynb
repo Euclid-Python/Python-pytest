{
 "cells": [
  {
   "cell_type": "code",
   "execution_count": 1,
   "metadata": {},
   "outputs": [
    {
     "data": {
      "application/javascript": [
       "\n",
       "Jupyter.keyboard_manager.command_shortcuts.add_shortcut('r', {\n",
       "    help : 'run all cells',\n",
       "    help_index : 'zz',\n",
       "    handler : function (event) {\n",
       "        IPython.notebook.execute_cell_range(0, IPython.notebook.get_selected_index()+1);\n",
       "        return false;\n",
       "    }}\n",
       ");\n"
      ],
      "text/plain": [
       "<IPython.core.display.Javascript object>"
      ]
     },
     "metadata": {},
     "output_type": "display_data"
    }
   ],
   "source": [
    "%%javascript\n",
    "\n",
    "Jupyter.keyboard_manager.command_shortcuts.add_shortcut('r', {\n",
    "    help : 'run all cells',\n",
    "    help_index : 'zz',\n",
    "    handler : function (event) {\n",
    "        IPython.notebook.execute_cell_range(0, IPython.notebook.get_selected_index()+1);\n",
    "        return false;\n",
    "    }}\n",
    ");"
   ]
  },
  {
   "cell_type": "code",
   "execution_count": 2,
   "metadata": {
    "scrolled": true
   },
   "outputs": [
    {
     "name": "stderr",
     "output_type": "stream",
     "text": [
      "/home/mdexet/Workdir/EUCLID/WorkshopPythonCpp/Python-pytest/venv/lib/python3.6/site-packages/pandas/compat/__init__.py:85: UserWarning: Could not import the lzma module. Your installed Python is incomplete. Attempting to use lzma compression will result in a RuntimeError.\n",
      "  warnings.warn(msg)\n",
      "/home/mdexet/Workdir/EUCLID/WorkshopPythonCpp/Python-pytest/venv/lib/python3.6/site-packages/pandas/compat/__init__.py:85: UserWarning: Could not import the lzma module. Your installed Python is incomplete. Attempting to use lzma compression will result in a RuntimeError.\n",
      "  warnings.warn(msg)\n"
     ]
    }
   ],
   "source": [
    "import pytest\n",
    "import ipytest\n",
    "\n",
    "ipytest.config(rewrite_asserts=True, magics=True)\n",
    "\n",
    "__file__ = 'exercises-geometry.ipynb' "
   ]
  },
  {
   "cell_type": "code",
   "execution_count": 3,
   "metadata": {
    "code_folding": [
     2
    ]
   },
   "outputs": [],
   "source": [
    "import math\n",
    "\n",
    "class Point:\n",
    "    def __init__(self, x,y=None):\n",
    "        self.x =float(x)\n",
    "        self.y =float(y)\n",
    "    \n",
    "    def normal(self):\n",
    "        return Point(-self.y, self.x)\n",
    "    \n",
    "    def normalize(self, d=0):\n",
    "        if d == 0:\n",
    "            d = math.sqrt(self.x*self.x +self.y*self.y)\n",
    "        return Point(self.x/d, self.y/d)\n",
    "    \n",
    "    def scalar_product(self,other: 'Point'):\n",
    "        return self.x*other.x + self.y*other.y\n",
    "    \n",
    "    def is_orthogonal(self, other: 'Point'):\n",
    "        product =self.scalar_product(other)\n",
    "        return math.isclose(product,0)\n",
    "    \n",
    "    def is_collinear(self, other: 'Point'):\n",
    "        return self.is_orthogonal(other.normal())\n",
    "       \n",
    "    def __add__(self, other: 'Point'):\n",
    "        r = NotImplemented\n",
    "        if isinstance(other, Point):\n",
    "            r = Point(self.x+other.x, self.y+other.y)\n",
    "        return r\n",
    "    \n",
    "    def __sub__(self, other: 'Point'):\n",
    "        r = NotImplemented\n",
    "        if isinstance(other, Point):\n",
    "            r = Point(self.x-+other.x, self.y-other.y)\n",
    "        return r\n",
    "    \n",
    "    \n",
    "    def __mul__(self,other):\n",
    "        r = NotImplemented\n",
    "        if isinstance(other, float) or isinstance(other, int):\n",
    "            factor = float(other)\n",
    "            r = Point(self.x*factor, self.y*factor)\n",
    "        return r\n",
    "\n",
    "    def __eq__(self, other: 'Point'):\n",
    "        r = NotImplemented\n",
    "        if isinstance(other, Point):\n",
    "            r = math.isclose(self.x,other.x,abs_tol=1e-9) and  math.isclose(self.y,other.y,abs_tol=1e-9)\n",
    "        return r\n",
    "    \n",
    "    def __repr__(self):\n",
    "        return f'p({self.x}, {self.y})'\n",
    "    \n",
    "    @staticmethod\n",
    "    def distance(a:'Point', b: 'Point') -> float:\n",
    "        dx = a.x-b.x\n",
    "        dy = a.y-b.y\n",
    "        return math.sqrt(dx*dx + dy*dy)"
   ]
  },
  {
   "cell_type": "code",
   "execution_count": 4,
   "metadata": {
    "code_folding": [
     2,
     7
    ]
   },
   "outputs": [],
   "source": [
    "    \n",
    "        \n",
    "class Segment:\n",
    "    def __init__(self, start, end):\n",
    "        self.start = start\n",
    "        self.end = end\n",
    "        \n",
    "class Line:\n",
    "    def __init__(self, point: Point, vector: Point):\n",
    "        self.point = point\n",
    "        self.vector = vector.normalize()\n",
    "        \n",
    "    def contains(self, point: Point):\n",
    "        a = self.point\n",
    "        b = point\n",
    "        v_ab = Point(a.x -b.x, a.y - b.y)\n",
    "        return v_ab.is_collinear(self.vector)\n",
    "    \n",
    "    def intersection(self, line: 'Line'):\n",
    "        v0 = self.vector\n",
    "        p0 = self.point\n",
    "        \n",
    "        v1 = line.vector\n",
    "        p1 = line.point\n",
    "        \n",
    "        v1_v0 = v1.scalar_product(v0)\n",
    "        \n",
    "        dp = p1 - p0\n",
    "        \n",
    "        dp_vo = dp.scalar_product(v0)\n",
    "        dp_v1 = dp.scalar_product(v1)\n",
    "        \n",
    "        if math.isclose(v1_v0,1.) :\n",
    "            raise ValueError('Lines are parallel')\n",
    "        else: \n",
    "            coef0 = ( dp_vo - dp_v1*v1_v0)/(1 - v1_v0*v1_v0)\n",
    "        \n",
    "        return v0*coef0 + p0\n",
    "    \n",
    "    \n",
    "    def __repr__(self):\n",
    "        return f'line({self.point}, {self.vector})'"
   ]
  },
  {
   "cell_type": "code",
   "execution_count": 5,
   "metadata": {
    "code_folding": [
     1
    ]
   },
   "outputs": [],
   "source": [
    "            \n",
    "class CircularArc:\n",
    "    def __init__(self, start: Point, end: Point, tangent: Point):\n",
    "        self.start = start\n",
    "        self.end = end\n",
    "        self.center = CircularArc.compute_center_with_tangent(start, end, tangent)\n",
    "        self.radius = Point.distance(self.center, self.start)\n",
    "        self.angle = 2 * math.asin(Point.distance(start, end) / (2* self.radius))\n",
    "        self.length = self.angle * math.pi * self.radius\n",
    "    \n",
    "    @staticmethod\n",
    "    def compute_center(start, end, radius, angle):\n",
    "        chord = Point((end.x - start.x), (end.y - start.y))\n",
    "        c = Point((end.x + start.x)/2, (end.y + start.y)/2)\n",
    "        ortho_c = chord.normal()\n",
    "        ortho_c = ortho_c.normalize()\n",
    "        center = ortho_c*radius*math.cos(angle/2) + c\n",
    "        return center\n",
    "    \n",
    "    @staticmethod\n",
    "    def compute_center_with_tangent(start, end, tangent):\n",
    "        ortho_tgt = tangent.normal()\n",
    "        line_radial = Line(start, ortho_tgt)\n",
    "        \n",
    "        chord = end - start\n",
    "        \n",
    "        c = Point((end.x + start.x)/2, (end.y + start.y)/2)\n",
    "        ortho_c = chord.normal().normalize()\n",
    "        \n",
    "        line_bissect = Line(c, ortho_c)\n",
    "        \n",
    "        try:\n",
    "            center = line_radial.intersection(line_bissect)\n",
    "        except ValueError:\n",
    "            center = c\n",
    "        return center    \n",
    "            \n",
    "    @staticmethod\n",
    "    def find_angle_and_chord_vector(start, end, tangent):\n",
    "        a = start\n",
    "        b = end\n",
    "        v = tangent\n",
    "        \n",
    "        distance = Point.distance(a, b)\n",
    "        u = Point(b.x - a.x, b.y - a.y)\n",
    "        u = u.normalize(distance)\n",
    "        v = v.normalize()\n",
    "        angle = math.acos(u.scalar_product(v))\n",
    "        sign = u.x*v.y + u.y*v.x\n",
    "        angle = 2 * angle * sign\n",
    "        \n",
    "        return angle, u, distance"
   ]
  },
  {
   "cell_type": "code",
   "execution_count": 6,
   "metadata": {},
   "outputs": [
    {
     "name": "stdout",
     "output_type": "stream",
     "text": [
      "Pixiedust database opened successfully\n"
     ]
    },
    {
     "data": {
      "text/html": [
       "\n",
       "        <div style=\"margin:10px\">\n",
       "            <a href=\"https://github.com/ibm-watson-data-lab/pixiedust\" target=\"_new\">\n",
       "                <img src=\"https://github.com/ibm-watson-data-lab/pixiedust/raw/master/docs/_static/pd_icon32.png\" style=\"float:left;margin-right:10px\"/>\n",
       "            </a>\n",
       "            <span>Pixiedust version 1.1.17</span>\n",
       "        </div>\n",
       "        "
      ],
      "text/plain": [
       "<IPython.core.display.HTML object>"
      ]
     },
     "metadata": {},
     "output_type": "display_data"
    }
   ],
   "source": [
    "import pixiedust"
   ]
  },
  {
   "cell_type": "code",
   "execution_count": 11,
   "metadata": {
    "pixiedust": {
     "displayParams": {}
    }
   },
   "outputs": [
    {
     "data": {
      "text/html": [
       "<style type=\"text/css\">.pd_warning{display:none;}</style><div class=\"pd_warning\"><em>Hey, there's something awesome here! To see it, open this notebook outside GitHub, in a viewer like Jupyter</em></div>"
      ],
      "text/plain": [
       "<IPython.core.display.HTML object>"
      ]
     },
     "metadata": {
      "pixieapp_metadata": null
     },
     "output_type": "display_data"
    }
   ],
   "source": [
    "%%pixie_debugger\n",
    "candidat = CircularArc(Point(-1,0), \n",
    "                       Point(1,0), \n",
    "                       Point(0,1))\n",
    "assert candidat.radius == 1\n",
    "assert candidat.angle == math.pi\n",
    "assert candidat.center == Point(0.,0.)"
   ]
  },
  {
   "cell_type": "code",
   "execution_count": 6,
   "metadata": {},
   "outputs": [
    {
     "name": "stdout",
     "output_type": "stream",
     "text": [
      "................                                                                                                                                                                                            [100%]\n"
     ]
    }
   ],
   "source": [
    "%%run_pytest[clean] -qq\n",
    "import pytest\n",
    "\n",
    "def test_add():\n",
    "    a = Point(0.5, 0.5)\n",
    "    b = Point(-1, 1)\n",
    "    c = a + b\n",
    "    assert c.x == -0.5\n",
    "    assert c.y == 1.5\n",
    "    \n",
    "def test_equal():\n",
    "    a = Point(0.5, 0.5)\n",
    "    b = Point(0.5*(1+1e-10), 0.5)\n",
    "    assert a == b\n",
    "    \n",
    "def test_equal_float_int():\n",
    "    a = Point(4, 1)\n",
    "    b = Point(4.0, 1.0)\n",
    "    assert a == b\n",
    "    \n",
    "    \n",
    "def test_equal_10e17():\n",
    "    a = Point(0.0, 6.123233995736766e-17)\n",
    "    b = Point(0.,0.)\n",
    "    assert a == b\n",
    "\n",
    "def test_are_orthogonal():\n",
    "    a = Point(0.5, 0.5)\n",
    "    b = Point(-1, 1)\n",
    "    assert a.is_orthogonal(b)\n",
    "    \n",
    "def test_are_not_orthogonal():\n",
    "    a = Point(1, 0.7)\n",
    "    b = Point(0.5, 1)\n",
    "    assert not a.is_orthogonal(b)\n",
    "    \n",
    "def test_are_collinear():\n",
    "    a = Point(0.5, 0.5)\n",
    "    b = Point(1, 1)\n",
    "    assert a.is_collinear(b)\n",
    "    \n",
    "\n",
    "def test_coordinate_belongs_to_line():\n",
    "    A = Point(1,2)\n",
    "    line = Line(A, Point(1,1))\n",
    "    assert line.contains( Point(2,3))\n",
    "    \n",
    "def test_intersection():\n",
    "    line_a = Line(Point(0,0), Point(1,0))\n",
    "    line_b = Line(Point(0,0), Point(0,1))\n",
    "    assert line_a.intersection(line_b) == Point(0,0)\n",
    "    \n",
    "def test_intersection_2():\n",
    "    line_a = Line(Point(3,1), Point(1,1))\n",
    "    line_b = Line(Point(0,2), Point(1,0))\n",
    "    intersection = line_a.intersection(line_b)\n",
    "    expected = Point(4,2)\n",
    "    assert intersection == expected, f'{intersection} != {expected}'  \n",
    "    \n",
    "    \n",
    "def test_intersection_of_parallel_lines():\n",
    "    line_a = Line(Point(0,1), Point(0,1))\n",
    "    line_b = Line(Point(1,1), Point(0,1))\n",
    "\n",
    "    with pytest.raises(ValueError):\n",
    "        intersection = line_a.intersection(line_b)\n",
    "    \n",
    "def test_distance_a_b():\n",
    "    assert math.isclose(Point.distance(Point(1,0), Point(0,1)), math.sqrt(2))\n",
    "    \n",
    "def test_circular_arc():\n",
    "    arc = CircularArc(start=Point(1,0), end=Point(0,1), tangent=Point(0,1))\n",
    "    assert math.isclose(arc.angle,(math.pi/2.0))\n",
    "    \n",
    "\n",
    "table_vectors_angles = [\n",
    "    ((-1,0), (1,0), math.pi),\n",
    "    ((1,0), (0,1), math.pi/2),\n",
    "    ((1,0), (0,-1), math.pi/2)\n",
    "\n",
    "]\n",
    "@pytest.mark.parametrize('a, b, angle', table_vectors_angles)\n",
    "def test_find_angle_from_2_vectors(a, b, angle):\n",
    "    def f(u,v):\n",
    "        return math.acos(u.scalar_product(v))\n",
    "        \n",
    "    assert f(Point(a[0],a[1]), Point(b[0],b[1])) == angle\n",
    "    "
   ]
  },
  {
   "cell_type": "code",
   "execution_count": 7,
   "metadata": {},
   "outputs": [
    {
     "name": "stdout",
     "output_type": "stream",
     "text": [
      "....                                                                                                                                                                                                        [100%]\n"
     ]
    }
   ],
   "source": [
    "%%run_pytest[clean] -qq\n",
    "\n",
    "def test_find_find_angle_and_chord_vector():\n",
    "    angle, u, distance = CircularArc.find_angle_and_chord_vector(Point(-1,0), \n",
    "                                                 Point(1,0), \n",
    "                                                 Point(0,1))    \n",
    "    assert angle == math.pi\n",
    "    \n",
    "def test_simple_arc():\n",
    "    candidat = CircularArc(Point(-1,0), \n",
    "                           Point(1,0), \n",
    "                           Point(0,1))\n",
    "    assert candidat.radius == 1\n",
    "    assert candidat.angle == math.pi\n",
    "    assert candidat.center == Point(0.,0.)\n",
    "    \n",
    "def test_45deg_arc():\n",
    "    candidat = CircularArc(Point(1,0), \n",
    "                           Point(0,1), \n",
    "                           Point(0,1))\n",
    "    \n",
    "    assert math.isclose(candidat.angle, math.pi/2)\n",
    "    assert candidat.center == Point(0,0)\n",
    "    assert math.isclose(candidat.radius,1)    \n",
    "    \n",
    "def test_reverse_45deg_arc():\n",
    "    candidat = CircularArc(Point(1,0), \n",
    "                           Point(0,1), \n",
    "                           Point(0,-1))\n",
    "    \n",
    "    assert candidat.center == Point(0,0)    \n",
    "    assert math.isclose(candidat.radius,1)    \n",
    "    assert math.isclose(candidat.angle, math.pi/2)    "
   ]
  }
 ],
 "metadata": {
  "kernelspec": {
   "display_name": "Python 3",
   "language": "python",
   "name": "python3"
  },
  "language_info": {
   "codemirror_mode": {
    "name": "ipython",
    "version": 3
   },
   "file_extension": ".py",
   "mimetype": "text/x-python",
   "name": "python",
   "nbconvert_exporter": "python",
   "pygments_lexer": "ipython3",
   "version": "3.6.8"
  },
  "toc": {
   "base_numbering": 1,
   "nav_menu": {},
   "number_sections": false,
   "sideBar": true,
   "skip_h1_title": false,
   "title_cell": "Table of Contents",
   "title_sidebar": "Contents",
   "toc_cell": false,
   "toc_position": {},
   "toc_section_display": true,
   "toc_window_display": false
  }
 },
 "nbformat": 4,
 "nbformat_minor": 2
}
