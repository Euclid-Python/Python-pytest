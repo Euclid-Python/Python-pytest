{
 "cells": [
  {
   "cell_type": "markdown",
   "metadata": {
    "slideshow": {
     "slide_type": "slide"
    }
   },
   "source": [
    "# Pytest, a journey in the testing world !"
   ]
  },
  {
   "cell_type": "markdown",
   "metadata": {
    "slideshow": {
     "slide_type": "-"
    }
   },
   "source": [
    "<center>\n",
    "    <img src=\"https://docs.pytest.org/en/latest/_static/pytest1.png\">\n",
    "</center>"
   ]
  },
  {
   "cell_type": "markdown",
   "metadata": {
    "slideshow": {
     "slide_type": "slide"
    }
   },
   "source": [
    "## Plan\n",
    "\n",
    "* [Introduction](intro.ipynb) to testing and unit tests\n",
    "* Pytest, [first steps](pytest-intro.ipynb)\n",
    "* [Fixtures](pytest-fixtures.ipynb)\n",
    "* Use leverage with [parametrization](parametrization.ipynb)\n",
    "* Application with [some exercises](exercises-01.ipynb)\n",
    "* The fabulous World of [Mocks](pytest-mock.ipynb)\n",
    "* The tests [coverage](pytest-coverage.ipynb)\n",
    "* Application with [some exercises(2)](exercises-02.ipynb)\n",
    "\n"
   ]
  }
 ],
 "metadata": {
  "celltoolbar": "Diaporama",
  "kernelspec": {
   "display_name": "Python 3",
   "language": "python",
   "name": "python3"
  },
  "language_info": {
   "codemirror_mode": {
    "name": "ipython",
    "version": 3
   },
   "file_extension": ".py",
   "mimetype": "text/x-python",
   "name": "python",
   "nbconvert_exporter": "python",
   "pygments_lexer": "ipython3",
   "version": "3.7.1"
  },
  "toc": {
   "base_numbering": 1,
   "nav_menu": {},
   "number_sections": false,
   "sideBar": true,
   "skip_h1_title": false,
   "title_cell": "Table of Contents",
   "title_sidebar": "Contents",
   "toc_cell": false,
   "toc_position": {},
   "toc_section_display": true,
   "toc_window_display": false
  }
 },
 "nbformat": 4,
 "nbformat_minor": 2
}
