{
 "cells": [
  {
   "cell_type": "markdown",
   "metadata": {},
   "source": [
    "# Pytest\n",
    "\n",
    "This a course is about pytest and unit test in python.\n",
    "\n",
    "Insert a **toc** maybe.\n",
    "\n",
    "**STATUS**: Work in progress."
   ]
  },
  {
   "cell_type": "markdown",
   "metadata": {},
   "source": [
    "## Unit testing\n",
    "\n",
    "When you're developing a software, you create processing following more or less complex rules or algorithms.\n",
    "\n",
    "How do you know that your creation is correct, that it does what it is expected to do ?\n",
    "\n",
    "First solution: You have faith in your work. You have checked every line of code, you can't have let a bug. That's all. Why not. If you get such a amount of time that you can do it, it's ok.\n",
    "\n",
    "Second solution: You test by hand. You run a use case, with some parameters and check the result. It works pretty well... for very short programs. Because you have to repeat and repeat at each modification. You got tired.\n",
    "\n",
    "Third solution: You make automatic tests, such as you could pass them easily at will.\n",
    "\n",
    "That's the way we'll follow."
   ]
  },
  {
   "cell_type": "markdown",
   "metadata": {},
   "source": [
    "### What's a Unit Test ?\n",
    "\n",
    "* **unit test** : test about one programing ***unit*** : a class, a function, ...\n",
    "* **integration test** test with several programing ***unit*** integrated and interacting together.\n",
    "\n",
    "We call the programing unit ***Object Under Test*** or **OUT**. In Object Oriented Programing, we use **Class Under Test** or *CUT*.\n",
    "\n",
    "\n",
    "A _Unit Test_ must:\n",
    "\n",
    "* Must test the *Object Under Test* and **only** it. It must build in isolation of other object. All others objects must have the less influence possible.\n",
    "* Must be executed in any order. Mixing the tests should not be important.\n",
    "* Must be as focused as possible. A test must check one aspect. If it fails, we have to determine quickly *What* has failed.\n",
    "* Must be rapid to be executed as frequently as possible, to any code save for exemple."
   ]
  },
  {
   "cell_type": "markdown",
   "metadata": {},
   "source": [
    "## How is built a Unit Test ?\n",
    "\n",
    "- Create and setup _Object Under test_\n",
    "- Create the context for the specific test,\n",
    "- Run the _Object Under test_ part you're interested in,\n",
    "- Verifiy that the expectations are met\n",
    "- Clear the context to don't poluate the next tests\n",
    "\n",
    "it's often summarized as\n",
    "\n",
    "* _Setup_ context\n",
    "* For each test \n",
    "  * *Given* a context\n",
    "  * *When* something is done\n",
    "  * *Then* something is expected\n",
    "* _Teardown_ context\n",
    "\n",
    "![title](images/pytest-given-when-then.png)\n"
   ]
  },
  {
   "cell_type": "markdown",
   "metadata": {},
   "source": [
    "Let's do it with a Computer. A computer makes addition and substraction, and keep total in memory"
   ]
  },
  {
   "cell_type": "code",
   "execution_count": 10,
   "metadata": {},
   "outputs": [],
   "source": [
    "class Computer:\n",
    "    \n",
    "    def __init__(self):\n",
    "        self.total = 0\n",
    "        \n",
    "    def add(self,a):\n",
    "        self.total = self.total + a\n",
    "        return self.total\n",
    "    \n",
    "    def substract(self,a):\n",
    "        self.total = self.total - a\n",
    "        return self.total\n",
    "    \n",
    "    def reset(self):\n",
    "        self.total = 0"
   ]
  },
  {
   "cell_type": "markdown",
   "metadata": {},
   "source": [
    "Computer is our _Class under Test_.\n",
    "\n",
    "This is our tests now"
   ]
  },
  {
   "cell_type": "code",
   "execution_count": 15,
   "metadata": {},
   "outputs": [],
   "source": [
    "# setup\n",
    "computer = Computer()\n",
    "\n",
    "# Given\n",
    "a = 1\n",
    "\n",
    "# When\n",
    "computer.add(a)\n",
    "\n",
    "# Then\n",
    "assert computer.total == 1\n",
    "\n",
    "# Teardown\n",
    "del a, computer\n",
    "\n",
    "# setup\n",
    "computer = Computer()\n",
    "\n",
    "# Given\n",
    "a = 1\n",
    "\n",
    "# When\n",
    "computer.add(a)\n",
    "computer.add(a)\n",
    "\n",
    "# Then\n",
    "assert computer.total == 2\n",
    "\n",
    "# Teardown\n",
    "del a, computer"
   ]
  },
  {
   "cell_type": "markdown",
   "metadata": {},
   "source": [
    "We can easily see that it will quickly become boring to write and maintain. \n",
    "\n",
    "In a real world, you need to create a python file, let's name it _test_computer.py_ and run it by command line\n",
    "\n",
    "```bash\n",
    "python test_computer.py\n",
    "```\n",
    "\n",
    "By the time, we will have several such python scripts, so you will have to run each of them or scripting a little bit.\n",
    "\n",
    "That's why we need a testing framework to be more productive and efficient.\n",
    "\n",
    "We will discover _pytest_ in the next notebook [next](./pytest-intro.ipynb)"
   ]
  },
  {
   "cell_type": "code",
   "execution_count": null,
   "metadata": {},
   "outputs": [],
   "source": []
  }
 ],
 "metadata": {
  "kernelspec": {
   "display_name": "Python 3",
   "language": "python",
   "name": "python3"
  },
  "language_info": {
   "codemirror_mode": {
    "name": "ipython",
    "version": 3
   },
   "file_extension": ".py",
   "mimetype": "text/x-python",
   "name": "python",
   "nbconvert_exporter": "python",
   "pygments_lexer": "ipython3",
   "version": "3.7.1"
  }
 },
 "nbformat": 4,
 "nbformat_minor": 2
}
