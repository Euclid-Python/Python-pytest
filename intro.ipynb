{
 "cells": [
  {
   "cell_type": "markdown",
   "metadata": {
    "slideshow": {
     "slide_type": "slide"
    }
   },
   "source": [
    "# Pytest\n",
    "\n",
    "This a course is about pytest and unit test in python.\n",
    "\n",
    "Insert a **toc** maybe.\n",
    "\n",
    "**STATUS**: Work in progress."
   ]
  },
  {
   "cell_type": "markdown",
   "metadata": {
    "slideshow": {
     "slide_type": "notes"
    }
   },
   "source": [
    "## Unit testing\n",
    "\n",
    "When you're developing a software, you create processing following more or less complex rules or algorithms.\n",
    "\n",
    "How do you know that your creation is correct, that it does what it is expected to do ?\n",
    "\n",
    "First solution: You have faith in your work. You have checked every line of code, you can't have let a bug. That's all. Why not. If you get such a amount of time that you can do it, it's ok.\n",
    "\n",
    "Second solution: You test by hand. You run a use case, with some parameters and check the result. It works pretty well... for very short programs. Because you have to repeat and repeat at each modification. You got tired.\n",
    "\n",
    "Third solution: You make automatic tests, such as you could pass them easily at will.\n",
    "\n",
    "That's the way we'll follow."
   ]
  },
  {
   "cell_type": "markdown",
   "metadata": {
    "slideshow": {
     "slide_type": "slide"
    }
   },
   "source": [
    "### What's a Unit Test ?\n",
    "\n",
    "* **unit test** : test about one programing ***unit*** : a class, a function, ...\n",
    "* **integration test** :  test with several programing ***unit*** integrated and interacting together.\n",
    "* **acceptance test** : test from an external point of view, using meaningful sequence of actions\n",
    "\n",
    "We call the programing unit ***Object Under Test***.\n",
    "\n",
    "But we use the **(subject) Under test** where subject is :\n",
    "* Object\n",
    "* Function\n",
    "* Module\n",
    "* Code\n"
   ]
  },
  {
   "cell_type": "markdown",
   "metadata": {
    "slideshow": {
     "slide_type": "skip"
    }
   },
   "source": [
    "A _Unit Test_ must:\n",
    "\n",
    "* Must test the *Object Under Test* and **only** it. It must build in isolation of other object. All others objects must have the less influence possible.\n",
    "* Must be executed in any order. Mixing the tests should not be important.\n",
    "* Must be as focused as possible. A test must check one aspect. If it fails, we have to determine quickly *What* has failed.\n",
    "* Must be rapid to be executed as frequently as possible, to any code save for exemple."
   ]
  },
  {
   "cell_type": "markdown",
   "metadata": {
    "slideshow": {
     "slide_type": "slide"
    }
   },
   "source": [
    "# F.I.R.S.T Principles of Unit Testing\n",
    "\n",
    "* **F**ast\n",
    "* **I**ndependent\n",
    "* **R**epeatable\n",
    "* **S**elf-validating\n",
    "* **T**imely"
   ]
  },
  {
   "cell_type": "markdown",
   "metadata": {
    "slideshow": {
     "slide_type": "subslide"
    }
   },
   "source": [
    "## Fast\n",
    "\n",
    "The unit test must be **quick** to be performed as often as possible. At any  code save event for exemple.\n",
    "\n",
    "A unit test must perform in order of 1 second.\n",
    "\n",
    "Remember you will finish with a lot of several unit tests, 300 unit test with more than 2 s => 10 minutes to run !!\n"
   ]
  },
  {
   "cell_type": "markdown",
   "metadata": {
    "slideshow": {
     "slide_type": "subslide"
    }
   },
   "source": [
    "## Independent\n",
    "\n",
    "Unit tests could be executed in any order.\n",
    "\n",
    "Test doesn't have to depend of the state of previous tests.\n",
    "\n",
    "You can run a test alone or all the tests, it have to do not matter.\n"
   ]
  },
  {
   "cell_type": "markdown",
   "metadata": {
    "slideshow": {
     "slide_type": "subslide"
    }
   },
   "source": [
    "## Repeatable\n",
    "\n",
    "* Unit Tests **must** do not be bound to the environment \n",
    "    * *network*, *database*, *file system*, *user settings*, *data on disk*...\n",
    "* Unit Tests **must** have the same results independently of\n",
    "    * *computer*, *user*, *time*"
   ]
  },
  {
   "cell_type": "markdown",
   "metadata": {
    "slideshow": {
     "slide_type": "subslide"
    }
   },
   "source": [
    "Please **don't do** this\n",
    "\n",
    "```python\n",
    "data='/data/test-data.txt'\n",
    "\n",
    "def test_data():\n",
    "    with open(data,'r') as file:\n",
    "        object_under_test.read(file)\n",
    "        assert object_under_test.lines == 30\n",
    "```"
   ]
  },
  {
   "cell_type": "markdown",
   "metadata": {
    "slideshow": {
     "slide_type": "subslide"
    }
   },
   "source": [
    "<div class=\"alert alert-info\">\n",
    "\n",
    "A Unit test must be able to be run as long as you get \n",
    "* the code\n",
    "* the software dependencies (libraries, runtime)\n",
    "* the initialization manual\n",
    "\n",
    "No more no less.\n",
    "\n",
    "</div>"
   ]
  },
  {
   "cell_type": "markdown",
   "metadata": {
    "slideshow": {
     "slide_type": "subslide"
    }
   },
   "source": [
    "<div class=\"alert alert-danger\">\n",
    "\n",
    "To challenge the foundations of your project, it **must** run the same way even when you do this;\n",
    "\n",
    "* Commit and puish to a central location (gitlab server), \n",
    "* Clone it in other place (another directory or better another computer)\n",
    "* Initialize it following the README \n",
    "* Run the tests suit\n",
    "    \n",
    "</div>    \n",
    "\n",
    "If it fails, there's a implicit link to your environment ou your knownledge. \n",
    "\n",
    "Make it clear and explicit."
   ]
  },
  {
   "cell_type": "markdown",
   "metadata": {
    "slideshow": {
     "slide_type": "subslide"
    }
   },
   "source": [
    "## Self-validating\n",
    "\n",
    "A unit test must *tell* if it has failed or passed.\n",
    "\n",
    "You never have to inspect unit test to guess.\n",
    "\n",
    "Unit test must end with an **assertion** raising an exception if it fails.\n"
   ]
  },
  {
   "cell_type": "markdown",
   "metadata": {
    "slideshow": {
     "slide_type": "subslide"
    }
   },
   "source": [
    "This is **NOT** a unit test.\n",
    "\n",
    "```python\n",
    "def test_something_write_to_file():\n",
    "    something = Something()\n",
    "    with open('test.txt','w') as file:\n",
    "        something.write(file, 'bla')\n",
    "        # and now, get to test.txt and check manually there's a 'bla' content.\n",
    "    ```"
   ]
  },
  {
   "cell_type": "markdown",
   "metadata": {
    "slideshow": {
     "slide_type": "subslide"
    }
   },
   "source": [
    "## Timely\n",
    "\n",
    "There's no specific phase to write unit test.\n",
    "\n",
    "You can write unit tests\n",
    "* on legacy and in production code\n",
    "* after *Object Under Test* creation\n",
    "* **before** *Object Under Test* creation (Test Driven Development)\n",
    "\n",
    "The more you get unit tests, the more probes on the good processing of your code you get"
   ]
  },
  {
   "cell_type": "markdown",
   "metadata": {
    "slideshow": {
     "slide_type": "subslide"
    }
   },
   "source": [
    "\n",
    "* **Do not** test everything\n",
    "* Tests **important** and/or **fondamental** features\n",
    "* Tests complex design\n",
    "* Tests for corner/edge/boundary values.\n",
    "* Tests for exceptions and errors.\n",
    "* Tests for illegal arguments or bad inputs.\n"
   ]
  },
  {
   "cell_type": "markdown",
   "metadata": {
    "cell_style": "split",
    "slideshow": {
     "slide_type": "slide"
    }
   },
   "source": [
    "# Why do use unit tests ?\n",
    "\n",
    "Because we can not get everything right, software could be complex and hard to maintain coherent."
   ]
  },
  {
   "cell_type": "markdown",
   "metadata": {
    "cell_style": "split",
    "slideshow": {
     "slide_type": "-"
    }
   },
   "source": [
    "<center>\n",
    "    <img src=\"images/complexity.gif\"/>\n",
    "</center>"
   ]
  },
  {
   "cell_type": "markdown",
   "metadata": {
    "slideshow": {
     "slide_type": "slide"
    }
   },
   "source": [
    "So do not ask to have **faith** in the proper functioning of your software. \n",
    "\n",
    "**Show** it with unit test."
   ]
  },
  {
   "cell_type": "markdown",
   "metadata": {
    "slideshow": {
     "slide_type": "fragment"
    }
   },
   "source": [
    "Unit test\n",
    "\n",
    "* make some behaviors objective\n",
    "* show how software *actually* works\n",
    "* provide guidance about software design"
   ]
  },
  {
   "cell_type": "markdown",
   "metadata": {
    "slideshow": {
     "slide_type": "slide"
    }
   },
   "source": [
    "Unit test are like little green sprites bording and monitoring your software behavior. "
   ]
  },
  {
   "cell_type": "markdown",
   "metadata": {
    "slideshow": {
     "slide_type": "-"
    }
   },
   "source": [
    "<center>\n",
    "<img src=\"images/unit-test-philo.gif\"/>\n",
    "</center>"
   ]
  },
  {
   "cell_type": "markdown",
   "metadata": {
    "slideshow": {
     "slide_type": "slide"
    }
   },
   "source": [
    "## Use unit test as a continuous process\n",
    "\n",
    "**Don't launch unit test by hand.**  \n",
    "You will miss alert about behavior's deviation\n",
    "\n",
    "**Use automation**  \n",
    "\n",
    "\n",
    "<center>\n",
    "    <img src=\"images/red-green-lights-2.gif\">\n",
    "</center>\n",
    "\n"
   ]
  },
  {
   "cell_type": "markdown",
   "metadata": {
    "slideshow": {
     "slide_type": "slide"
    }
   },
   "source": [
    "# How is built a Unit Test ?"
   ]
  },
  {
   "cell_type": "markdown",
   "metadata": {
    "slideshow": {
     "slide_type": "slide"
    }
   },
   "source": [
    "## How to do test independent of each other?"
   ]
  },
  {
   "cell_type": "markdown",
   "metadata": {
    "slideshow": {
     "slide_type": "slide"
    }
   },
   "source": [
    "<center>\n",
    "<img src=\"https://media.giphy.com/media/3o7WIQ4FARJdpmUni8/giphy.gif\">\n",
    "</center>"
   ]
  },
  {
   "cell_type": "markdown",
   "metadata": {},
   "source": [
    "<span style=\"font-size: larger>\">Make each test a new test.. again</span> "
   ]
  },
  {
   "cell_type": "markdown",
   "metadata": {
    "slideshow": {
     "slide_type": "slide"
    }
   },
   "source": [
    "For **each** test:\n",
    "\n",
    "- Create and setup _Object Under Test_\n",
    "- Create the context for the specific test,\n",
    "- Run the _Object Under Test_ part you're interested in,\n",
    "- Verifiy that the expectations are met\n",
    "- Clear the context to don't poluate the next tests"
   ]
  },
  {
   "cell_type": "markdown",
   "metadata": {
    "cell_style": "split",
    "slideshow": {
     "slide_type": "slide"
    }
   },
   "source": [
    "it's often summarized as\n",
    "\n",
    "* For each test \n",
    "  * **Before the test** _Setup_ context\n",
    "  * **In the test**\n",
    "    * *Given* a context\n",
    "    * *When* something is done\n",
    "    * *Then* something is expected\n",
    "  * **After the test** _Teardown_ context\n",
    "  \n",
    "  "
   ]
  },
  {
   "cell_type": "markdown",
   "metadata": {
    "cell_style": "split",
    "slideshow": {
     "slide_type": "-"
    }
   },
   "source": [
    "![title](images/pytest-given-when-then.png)"
   ]
  },
  {
   "cell_type": "markdown",
   "metadata": {
    "slideshow": {
     "slide_type": "slide"
    }
   },
   "source": [
    "Let's do it with a Computer.  \n",
    "A computer makes addition and substraction, and keep total in memory"
   ]
  },
  {
   "cell_type": "code",
   "execution_count": 1,
   "metadata": {},
   "outputs": [],
   "source": [
    "class Computer:\n",
    "    \n",
    "    def __init__(self):\n",
    "        self.total = 0\n",
    "        \n",
    "    def add(self,a):\n",
    "        self.total = self.total + a\n",
    "        return self.total\n",
    "    \n",
    "    def substract(self,a):\n",
    "        self.total = self.total - a\n",
    "        return self.total\n",
    "    \n",
    "    def reset(self):\n",
    "        self.total = 0"
   ]
  },
  {
   "cell_type": "markdown",
   "metadata": {
    "slideshow": {
     "slide_type": "slide"
    }
   },
   "source": [
    "Computer is our _Class under Test_.\n",
    "\n",
    "This is our tests now"
   ]
  },
  {
   "cell_type": "code",
   "execution_count": 2,
   "metadata": {},
   "outputs": [],
   "source": [
    "# setup\n",
    "computer = Computer() #<-- create context\n",
    "\n",
    "# Given\n",
    "a = 1                 \n",
    "\n",
    "# When\n",
    "computer.add(a)\n",
    "\n",
    "# Then\n",
    "assert computer.total == 1\n",
    "\n",
    "# Teardown\n",
    "del a, computer       # <-- Clean"
   ]
  },
  {
   "cell_type": "markdown",
   "metadata": {
    "slideshow": {
     "slide_type": "slide"
    }
   },
   "source": [
    "... now `add` two times."
   ]
  },
  {
   "cell_type": "code",
   "execution_count": null,
   "metadata": {
    "slideshow": {
     "slide_type": "-"
    }
   },
   "outputs": [],
   "source": [
    "# setup\n",
    "computer = Computer()\n",
    "\n",
    "# Given\n",
    "a = 1\n",
    "\n",
    "# When\n",
    "computer.add(a)\n",
    "computer.add(a)\n",
    "\n",
    "# Then\n",
    "assert computer.total == 2\n",
    "\n",
    "# Teardown\n",
    "del a, computer"
   ]
  },
  {
   "cell_type": "markdown",
   "metadata": {
    "slideshow": {
     "slide_type": "slide"
    }
   },
   "source": [
    "We can easily see that it will quickly become **boring to write and maintain.** \n",
    "\n",
    "In a real world, you need to create a python file, let's name it _test_computer.py_ and run it by command line\n",
    "\n",
    "```bash\n",
    "python test_computer.py\n",
    "```"
   ]
  },
  {
   "cell_type": "markdown",
   "metadata": {
    "slideshow": {
     "slide_type": "slide"
    }
   },
   "source": [
    "By the time, we will have several such python scripts, so you will have to run each of them or scripting a little bit.\n",
    "\n",
    "That's why we need a testing framework to be more productive and efficient.\n",
    "\n",
    "We will discover _pytest_ in the next notebook [next](./pytest-intro.ipynb)"
   ]
  }
 ],
 "metadata": {
  "celltoolbar": "Diaporama",
  "kernelspec": {
   "display_name": "Python 3",
   "language": "python",
   "name": "python3"
  },
  "language_info": {
   "codemirror_mode": {
    "name": "ipython",
    "version": 3
   },
   "file_extension": ".py",
   "mimetype": "text/x-python",
   "name": "python",
   "nbconvert_exporter": "python",
   "pygments_lexer": "ipython3",
   "version": "3.6.8"
  }
 },
 "nbformat": 4,
 "nbformat_minor": 2
}
