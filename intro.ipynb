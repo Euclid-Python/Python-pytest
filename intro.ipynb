{
 "cells": [
  {
   "cell_type": "markdown",
   "metadata": {},
   "source": [
    "# Pytest\n",
    "\n",
    "This a course is about pytest and unit test in python.\n",
    "\n",
    "Insert a **toc** maybe.\n",
    "\n",
    "**STATUS**: Work in progress."
   ]
  },
  {
   "cell_type": "markdown",
   "metadata": {},
   "source": [
    "## Unit testing\n",
    "\n",
    "When you're developing a software, you create processing following more or less complex rules or algorithms.\n",
    "\n",
    "How do you know that your creation is correct, that it does what it is expected to do ?\n",
    "\n",
    "First solution: You have faith in your work. You have checked every line of code, you can't have let a bug. That's all. Why not. If you get such a amount of time that you can do it, it's ok.\n",
    "\n",
    "Second solution: You test by hand. You run a use case, with some parameters and check the result. It works pretty well... for very short programs. Because you have to repeat and repeat at each modification. You got tired.\n",
    "\n",
    "Third solution: You make automatic tests, such as you could pass them easily at will.\n",
    "\n",
    "That's the way we'll follow."
   ]
  },
  {
   "cell_type": "markdown",
   "metadata": {},
   "source": [
    "### What's a Unit Test ?\n",
    "\n",
    "* **unit test** : test about one programing ***unit*** : a class, a function, ...\n",
    "* **integration test** test with several programing ***unit*** integrated and interacting together.\n",
    "\n",
    "We call the programing unit ***Object Under Test*** or **OUT**. In Object Oriented Programing, we use **Class Under Test** or *CUT*.\n",
    "\n",
    "\n",
    "A _Unit Test_ must:\n",
    "\n",
    "* Must test the *Object Under Test* and **only** it. It must build in isolation of other object. All others objects must have the less influence possible.\n",
    "* Must be executed in any order. Mixing the tests should not be important.\n",
    "* Must be as focused as possible. A test must check one aspect. If it fails, we have to determine quickly *What* has failed.\n",
    "* Must be rapid to be executed as frequently as possible, to any code save for exemple."
   ]
  },
  {
   "cell_type": "markdown",
   "metadata": {},
   "source": [
    "## How is built a Unit Test ?\n",
    "\n",
    "- Set the context,\n",
    "- Run the Object Under Test part you're interested in,\n",
    "- Check the result is as expected.\n",
    "\n",
    "it's often summarized as\n",
    "\n",
    "* *Given* a context\n",
    "* *When* something is done\n",
    "* *Then* something is expected"
   ]
  }
 ],
 "metadata": {
  "kernelspec": {
   "display_name": "Python 3",
   "language": "python",
   "name": "python3"
  },
  "language_info": {
   "codemirror_mode": {
    "name": "ipython",
    "version": 3
   },
   "file_extension": ".py",
   "mimetype": "text/x-python",
   "name": "python",
   "nbconvert_exporter": "python",
   "pygments_lexer": "ipython3",
   "version": "3.6.8"
  }
 },
 "nbformat": 4,
 "nbformat_minor": 2
}
