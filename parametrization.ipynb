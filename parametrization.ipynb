{
 "cells": [
  {
   "cell_type": "code",
   "execution_count": 3,
   "metadata": {},
   "outputs": [],
   "source": [
    "import pytest\n",
    "import ipytest\n",
    "\n",
    "ipytest.config(rewrite_asserts=True, magics=True)\n",
    "\n",
    "__file__ = 'parametrization.ipynb'"
   ]
  },
  {
   "cell_type": "markdown",
   "metadata": {
    "slideshow": {
     "slide_type": "slide"
    }
   },
   "source": [
    "# Parametrization"
   ]
  },
  {
   "cell_type": "markdown",
   "metadata": {},
   "source": [
    "_Pytest_ has a very interesting feature of parametrization of test.\n",
    "\n",
    "It respect the famous Don't Repeat Yourself."
   ]
  },
  {
   "cell_type": "code",
   "execution_count": 4,
   "metadata": {
    "slideshow": {
     "slide_type": "slide"
    }
   },
   "outputs": [],
   "source": [
    "# Silly function\n",
    "def compute(n,m):\n",
    "    if n <= 10 : \n",
    "        return n*m\n",
    "    elif m >= 5 :\n",
    "        return n*m*m\n",
    "    else:\n",
    "        return n+m"
   ]
  },
  {
   "cell_type": "code",
   "execution_count": 16,
   "metadata": {
    "slideshow": {
     "slide_type": "subslide"
    }
   },
   "outputs": [
    {
     "name": "stdout",
     "output_type": "stream",
     "text": [
      "...                                                                                                              [100%]\n"
     ]
    }
   ],
   "source": [
    "%%run_pytest[clean] -qq\n",
    "\n",
    "def test_1_2():\n",
    "    assert compute(1,2) == 2\n",
    "    \n",
    "def test_12_2():\n",
    "    assert compute(12,2) == 14\n",
    "    \n",
    "def test_2_100():\n",
    "    assert compute(2,100) == 200\n",
    "        "
   ]
  },
  {
   "cell_type": "markdown",
   "metadata": {
    "slideshow": {
     "slide_type": "slide"
    }
   },
   "source": [
    "## Test expectations with @pytest.mark.parametrize\n",
    "\n",
    "_Pytest_ allows to create several tests with \n",
    "\n",
    "`@pytest.mark.parametrize`"
   ]
  },
  {
   "cell_type": "code",
   "execution_count": 44,
   "metadata": {
    "slideshow": {
     "slide_type": "subslide"
    }
   },
   "outputs": [
    {
     "name": "stdout",
     "output_type": "stream",
     "text": [
      "=============================================================================================== test session starts ===============================================================================================\n",
      "platform linux -- Python 3.6.8, pytest-5.2.1, py-1.8.0, pluggy-0.13.0 -- /home/mdexet/Workdir/EUCLID/WorkshopPythonCpp/bin/python3.6\n",
      "cachedir: .pytest_cache\n",
      "rootdir: /home/mdexet/Workdir/EUCLID/WorkshopPythonCpp/Python-pytest\n",
      "collecting ... collected 3 items\n",
      "\n",
      "parametrization.py::test_it[1-2-2] PASSED                                                                                                                                                                   [ 33%]\n",
      "parametrization.py::test_it[12-2-14] PASSED                                                                                                                                                                 [ 66%]\n",
      "parametrization.py::test_it[2-100-200] PASSED                                                                                                                                                               [100%]\n",
      "\n",
      "================================================================================================ 3 passed in 2.66s ================================================================================================\n"
     ]
    }
   ],
   "source": [
    "%%run_pytest[clean] -v\n",
    "\n",
    "import pytest\n",
    "\n",
    "@pytest.mark.parametrize(\"first_arg,second_arg,result\",[(1,2,2), (12,2,14), (2,100,200)])\n",
    "def test_it(first_arg,second_arg,result):\n",
    "    assert compute(int(first_arg),int(second_arg)) == int(result)\n"
   ]
  },
  {
   "cell_type": "markdown",
   "metadata": {
    "slideshow": {
     "slide_type": "slide"
    }
   },
   "source": [
    "Be aware of the **NODE id** names of performed tests:\n",
    "\n",
    "```\n",
    "parametrization.py::test_it[1-2-2] PASSED                                                                                                                                                                   [ 33%]\n",
    "parametrization.py::test_it[12-2-14] PASSED                                                                                                                                                                 [ 66%]\n",
    "parametrization.py::test_it[2-100-200] PASSED                                                                                                                                                               [100%]\n",
    "```"
   ]
  },
  {
   "cell_type": "markdown",
   "metadata": {
    "slideshow": {
     "slide_type": "slide"
    }
   },
   "source": [
    "***Be careful***\n",
    "\n",
    "* First parameter of annotation is a string with names of joined comma-separated test arguments.\n",
    "* Second parameter is a **list of tuples**\n",
    "* Each **tuple** is populated with value of each arguments in the same order."
   ]
  },
  {
   "cell_type": "markdown",
   "metadata": {
    "slideshow": {
     "slide_type": "-"
    }
   },
   "source": [
    "<center>\n",
    "    <img src=\"images/pytest-param.png\"/>\n",
    "    </center>"
   ]
  },
  {
   "cell_type": "markdown",
   "metadata": {
    "slideshow": {
     "slide_type": "slide"
    }
   },
   "source": [
    "## Cartesian product with @pytest.mark.parametrize\n",
    "\n",
    "You could create a cartesian product if you specify this way:"
   ]
  },
  {
   "cell_type": "code",
   "execution_count": 45,
   "metadata": {},
   "outputs": [
    {
     "name": "stdout",
     "output_type": "stream",
     "text": [
      "=============================================================================================== test session starts ===============================================================================================\n",
      "platform linux -- Python 3.6.8, pytest-5.2.1, py-1.8.0, pluggy-0.13.0 -- /home/mdexet/Workdir/EUCLID/WorkshopPythonCpp/bin/python3.6\n",
      "cachedir: .pytest_cache\n",
      "rootdir: /home/mdexet/Workdir/EUCLID/WorkshopPythonCpp/Python-pytest\n",
      "collecting ... collected 4 items\n",
      "\n",
      "parametrization.py::test_it[1-1] PASSED                                                                                                                                                                     [ 25%]\n",
      "parametrization.py::test_it[1-2] PASSED                                                                                                                                                                     [ 50%]\n",
      "parametrization.py::test_it[2-1] PASSED                                                                                                                                                                     [ 75%]\n",
      "parametrization.py::test_it[2-2] PASSED                                                                                                                                                                     [100%]\n",
      "\n",
      "================================================================================================ 4 passed in 0.13s ================================================================================================\n"
     ]
    }
   ],
   "source": [
    "%%run_pytest[clean] -v\n",
    "\n",
    "@pytest.mark.parametrize(\"x\",[1,2])\n",
    "@pytest.mark.parametrize(\"y\",[1,2])\n",
    "def test_it(x,y):\n",
    "    pass\n"
   ]
  },
  {
   "cell_type": "code",
   "execution_count": 51,
   "metadata": {
    "slideshow": {
     "slide_type": "slide"
    }
   },
   "outputs": [],
   "source": [
    "import math\n",
    "\n",
    "def distance(x,y,z):\n",
    "    return math.sqrt(x*x + y*y + z*z)\n",
    "\n",
    "def power_law(r,x,y,z):\n",
    "    d = distance(x,y,z)\n",
    "    if d < 1.6*r:\n",
    "        return math.log(d)/(d*d)\n",
    "    else:\n",
    "        return 0.015"
   ]
  },
  {
   "cell_type": "code",
   "execution_count": 53,
   "metadata": {
    "slideshow": {
     "slide_type": "slide"
    }
   },
   "outputs": [
    {
     "name": "stdout",
     "output_type": "stream",
     "text": [
      "...........................                                                                                                                                                                                 [100%]\n"
     ]
    }
   ],
   "source": [
    "%%run_pytest[clean] -qq\n",
    "\n",
    "@pytest.mark.parametrize(\"x\",[1,5,10])\n",
    "@pytest.mark.parametrize(\"y\",[1,5,10])\n",
    "@pytest.mark.parametrize(\"z\",[1,5,10])\n",
    "def test_power_law(x,y,z):\n",
    "    assert power_law(5,x,y,z) > 0.01\n"
   ]
  },
  {
   "cell_type": "markdown",
   "metadata": {
    "slideshow": {
     "slide_type": "slide"
    }
   },
   "source": [
    "## Fixture parametrization\n",
    "\n",
    "Parametrization coud be done at the fixture level and so been shared."
   ]
  }
 ],
 "metadata": {
  "celltoolbar": "Diaporama",
  "kernelspec": {
   "display_name": "Python 3",
   "language": "python",
   "name": "python3"
  },
  "language_info": {
   "codemirror_mode": {
    "name": "ipython",
    "version": 3
   },
   "file_extension": ".py",
   "mimetype": "text/x-python",
   "name": "python",
   "nbconvert_exporter": "python",
   "pygments_lexer": "ipython3",
   "version": "3.6.8"
  }
 },
 "nbformat": 4,
 "nbformat_minor": 2
}
