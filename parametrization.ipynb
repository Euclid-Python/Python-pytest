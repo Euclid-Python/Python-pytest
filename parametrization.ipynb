{
 "cells": [
  {
   "cell_type": "code",
   "execution_count": 1,
   "metadata": {},
   "outputs": [
    {
     "name": "stderr",
     "output_type": "stream",
     "text": [
      "/home/mdexet/Workdir/EUCLID/WorkshopPythonCpp/Python-pytest/venv/lib/python3.6/site-packages/pandas/compat/__init__.py:85: UserWarning: Could not import the lzma module. Your installed Python is incomplete. Attempting to use lzma compression will result in a RuntimeError.\n",
      "  warnings.warn(msg)\n",
      "/home/mdexet/Workdir/EUCLID/WorkshopPythonCpp/Python-pytest/venv/lib/python3.6/site-packages/pandas/compat/__init__.py:85: UserWarning: Could not import the lzma module. Your installed Python is incomplete. Attempting to use lzma compression will result in a RuntimeError.\n",
      "  warnings.warn(msg)\n"
     ]
    }
   ],
   "source": [
    "import pytest\n",
    "import ipytest\n",
    "\n",
    "ipytest.config(rewrite_asserts=True, magics=True)\n",
    "\n",
    "__file__ = 'parametrization.ipynb'"
   ]
  },
  {
   "cell_type": "markdown",
   "metadata": {
    "slideshow": {
     "slide_type": "slide"
    }
   },
   "source": [
    "# Parametrization"
   ]
  },
  {
   "cell_type": "markdown",
   "metadata": {},
   "source": [
    "_Pytest_ has a very interesting feature of parametrization of test.\n",
    "\n",
    "It respect the famous Don't Repeat Yourself."
   ]
  },
  {
   "cell_type": "code",
   "execution_count": 2,
   "metadata": {
    "slideshow": {
     "slide_type": "slide"
    }
   },
   "outputs": [],
   "source": [
    "# Silly function\n",
    "def compute(n,m):\n",
    "    if n <= 10 : \n",
    "        return n*m\n",
    "    elif m >= 5 :\n",
    "        return n*m*m\n",
    "    else:\n",
    "        return n+m"
   ]
  },
  {
   "cell_type": "code",
   "execution_count": 3,
   "metadata": {
    "slideshow": {
     "slide_type": "subslide"
    }
   },
   "outputs": [
    {
     "name": "stdout",
     "output_type": "stream",
     "text": [
      "...                                                                                                                                                                                                         [100%]\n"
     ]
    }
   ],
   "source": [
    "%%run_pytest[clean] -qq\n",
    "\n",
    "def test_1_2():\n",
    "    assert compute(1,2) == 2\n",
    "    \n",
    "def test_12_2(): \n",
    "    assert compute(12,2) == 14\n",
    "    \n",
    "def test_2_100():\n",
    "    assert compute(2,100) == 200\n",
    "        "
   ]
  },
  {
   "cell_type": "markdown",
   "metadata": {
    "slideshow": {
     "slide_type": "slide"
    }
   },
   "source": [
    "## Test expectations with @pytest.mark.parametrize\n",
    "\n",
    "_Pytest_ allows to create several tests with \n",
    "\n",
    "`@pytest.mark.parametrize`"
   ]
  },
  {
   "cell_type": "code",
   "execution_count": 4,
   "metadata": {
    "slideshow": {
     "slide_type": "subslide"
    }
   },
   "outputs": [
    {
     "name": "stdout",
     "output_type": "stream",
     "text": [
      "=============================================================================================== test session starts ===============================================================================================\n",
      "platform linux -- Python 3.6.8, pytest-5.2.2, py-1.8.0, pluggy-0.13.0 -- /home/mdexet/Workdir/EUCLID/WorkshopPythonCpp/Python-pytest/venv/bin/python3.6\n",
      "cachedir: .pytest_cache\n",
      "metadata: {'Python': '3.6.8', 'Platform': 'Linux-4.15.0-66-generic-x86_64-with-debian-buster-sid', 'Packages': {'pytest': '5.2.2', 'py': '1.8.0', 'pluggy': '0.13.0'}, 'Plugins': {'sugar': '0.9.2', 'cov': '2.8.1', 'mock': '1.11.2', 'html': '2.0.0', 'metadata': '1.8.0'}}\n",
      "rootdir: /home/mdexet/Workdir/EUCLID/WorkshopPythonCpp/Python-pytest\n",
      "plugins: sugar-0.9.2, cov-2.8.1, mock-1.11.2, html-2.0.0, metadata-1.8.0\n",
      "collecting ... collected 3 items\n",
      "\n",
      "parametrization.py::test_it[1-2-2] PASSED                                                                                                                                                                   [ 33%]\n",
      "parametrization.py::test_it[12-2-14] PASSED                                                                                                                                                                 [ 66%]\n",
      "parametrization.py::test_it[2-100-200] PASSED                                                                                                                                                               [100%]\n",
      "\n",
      "================================================================================================ 3 passed in 0.18s ================================================================================================\n"
     ]
    }
   ],
   "source": [
    "%%run_pytest[clean] -v\n",
    "\n",
    "import pytest\n",
    "\n",
    "@pytest.mark.parametrize(\"first_arg,second_arg,result\",[(1,2,2), (12,2,14), (2,100,200)])\n",
    "def test_it(first_arg,second_arg,result):\n",
    "    assert compute(int(first_arg),int(second_arg)) == int(result)\n"
   ]
  },
  {
   "cell_type": "markdown",
   "metadata": {
    "slideshow": {
     "slide_type": "slide"
    }
   },
   "source": [
    "Be aware of the **NODE id** names of performed tests:\n",
    "\n",
    "```\n",
    "parametrization.py::test_it[1-2-2] PASSED                                                                                                                                                                   [ 33%]\n",
    "parametrization.py::test_it[12-2-14] PASSED                                                                                                                                                                 [ 66%]\n",
    "parametrization.py::test_it[2-100-200] PASSED                                                                                                                                                               [100%]\n",
    "```"
   ]
  },
  {
   "cell_type": "markdown",
   "metadata": {
    "slideshow": {
     "slide_type": "slide"
    }
   },
   "source": [
    "***Be careful***\n",
    "\n",
    "* First parameter of annotation is a string with names of joined comma-separated test arguments.\n",
    "* Second parameter is a **list of tuples**\n",
    "* Each **tuple** is populated with value of each arguments in the same order."
   ]
  },
  {
   "cell_type": "markdown",
   "metadata": {
    "slideshow": {
     "slide_type": "-"
    }
   },
   "source": [
    "<center>\n",
    "    <img src=\"images/pytest-param.png\"/>\n",
    "    </center>"
   ]
  },
  {
   "cell_type": "markdown",
   "metadata": {
    "slideshow": {
     "slide_type": "slide"
    }
   },
   "source": [
    "## Cartesian product with @pytest.mark.parametrize\n",
    "\n",
    "You could create a cartesian product if you specify this way:"
   ]
  },
  {
   "cell_type": "code",
   "execution_count": 5,
   "metadata": {},
   "outputs": [
    {
     "name": "stdout",
     "output_type": "stream",
     "text": [
      "=============================================================================================== test session starts ===============================================================================================\n",
      "platform linux -- Python 3.6.8, pytest-5.2.2, py-1.8.0, pluggy-0.13.0 -- /home/mdexet/Workdir/EUCLID/WorkshopPythonCpp/Python-pytest/venv/bin/python3.6\n",
      "cachedir: .pytest_cache\n",
      "metadata: {'Python': '3.6.8', 'Platform': 'Linux-4.15.0-66-generic-x86_64-with-debian-buster-sid', 'Packages': {'pytest': '5.2.2', 'py': '1.8.0', 'pluggy': '0.13.0'}, 'Plugins': {'sugar': '0.9.2', 'cov': '2.8.1', 'mock': '1.11.2', 'html': '2.0.0', 'metadata': '1.8.0'}}\n",
      "rootdir: /home/mdexet/Workdir/EUCLID/WorkshopPythonCpp/Python-pytest\n",
      "plugins: sugar-0.9.2, cov-2.8.1, mock-1.11.2, html-2.0.0, metadata-1.8.0\n",
      "collecting ... collected 4 items\n",
      "\n",
      "parametrization.py::test_it[1-1] PASSED                                                                                                                                                                     [ 25%]\n",
      "parametrization.py::test_it[1-2] PASSED                                                                                                                                                                     [ 50%]\n",
      "parametrization.py::test_it[2-1] PASSED                                                                                                                                                                     [ 75%]\n",
      "parametrization.py::test_it[2-2] PASSED                                                                                                                                                                     [100%]\n",
      "\n",
      "================================================================================================ 4 passed in 0.18s ================================================================================================\n"
     ]
    }
   ],
   "source": [
    "%%run_pytest[clean] -v\n",
    "\n",
    "@pytest.mark.parametrize(\"x\",[1,2])\n",
    "@pytest.mark.parametrize(\"y\",[1,2])\n",
    "def test_it(x,y):\n",
    "    pass\n"
   ]
  },
  {
   "cell_type": "code",
   "execution_count": 6,
   "metadata": {
    "slideshow": {
     "slide_type": "slide"
    }
   },
   "outputs": [],
   "source": [
    "import math\n",
    "\n",
    "def distance(x,y,z):\n",
    "    return math.sqrt(x*x + y*y + z*z)\n",
    "\n",
    "def power_law(r,x,y,z):\n",
    "    d = distance(x,y,z)\n",
    "    if d < 1.6*r:\n",
    "        return math.log(d)/(d*d)\n",
    "    else:\n",
    "        return 0.015"
   ]
  },
  {
   "cell_type": "code",
   "execution_count": 7,
   "metadata": {
    "slideshow": {
     "slide_type": "slide"
    }
   },
   "outputs": [
    {
     "name": "stdout",
     "output_type": "stream",
     "text": [
      "...........................                                                                                                                                                                                 [100%]\n"
     ]
    }
   ],
   "source": [
    "%%run_pytest[clean] -qq\n",
    "\n",
    "@pytest.mark.parametrize(\"x\",[1,5,10])\n",
    "@pytest.mark.parametrize(\"y\",[1,5,10])\n",
    "@pytest.mark.parametrize(\"z\",[1,5,10])\n",
    "def test_power_law(x,y,z):\n",
    "    assert power_law(5,x,y,z) > 0.01\n"
   ]
  },
  {
   "cell_type": "markdown",
   "metadata": {
    "slideshow": {
     "slide_type": "slide"
    }
   },
   "source": [
    "## Fixture parametrization\n",
    "\n",
    "Parametrization coud be done at the fixture level and so been shared among several test suites."
   ]
  },
  {
   "cell_type": "markdown",
   "metadata": {
    "slideshow": {
     "slide_type": "slide"
    }
   },
   "source": [
    "Imagine you have to perform a test suite about Euclid Organisation Units"
   ]
  },
  {
   "cell_type": "code",
   "execution_count": 8,
   "metadata": {
    "slideshow": {
     "slide_type": ""
    }
   },
   "outputs": [],
   "source": [
    "organisational_unit_list=['EXT','LE3','MER','NIR','PHZ','SHE','SIM','VIS']"
   ]
  },
  {
   "cell_type": "code",
   "execution_count": 9,
   "metadata": {
    "slideshow": {
     "slide_type": "slide"
    }
   },
   "outputs": [],
   "source": [
    "@pytest.fixture(params=organisational_unit_list)\n",
    "def organisational_unit(request):\n",
    "    return request.param"
   ]
  },
  {
   "cell_type": "markdown",
   "metadata": {},
   "source": [
    "**NOTE** the parameters is passed through `request`, a [built-in fixture named FixtureClass](https://docs.pytest.org/en/latest/reference.html#_pytest.fixtures.FixtureRequest). \n",
    "\n",
    "Each parm is obtained from `request.param`."
   ]
  },
  {
   "cell_type": "code",
   "execution_count": 10,
   "metadata": {
    "scrolled": true,
    "slideshow": {
     "slide_type": "slide"
    }
   },
   "outputs": [
    {
     "name": "stdout",
     "output_type": "stream",
     "text": [
      "=============================================================================================== test session starts ===============================================================================================\n",
      "platform linux -- Python 3.6.8, pytest-5.2.2, py-1.8.0, pluggy-0.13.0 -- /home/mdexet/Workdir/EUCLID/WorkshopPythonCpp/Python-pytest/venv/bin/python3.6\n",
      "cachedir: .pytest_cache\n",
      "metadata: {'Python': '3.6.8', 'Platform': 'Linux-4.15.0-66-generic-x86_64-with-debian-buster-sid', 'Packages': {'pytest': '5.2.2', 'py': '1.8.0', 'pluggy': '0.13.0'}, 'Plugins': {'sugar': '0.9.2', 'cov': '2.8.1', 'mock': '1.11.2', 'html': '2.0.0', 'metadata': '1.8.0'}}\n",
      "rootdir: /home/mdexet/Workdir/EUCLID/WorkshopPythonCpp/Python-pytest\n",
      "plugins: sugar-0.9.2, cov-2.8.1, mock-1.11.2, html-2.0.0, metadata-1.8.0\n",
      "collecting ... collected 16 items\n",
      "\n",
      "parametrization.py::test_something_by_ou[EXT] PASSED                                                                                                                                                        [  6%]\n",
      "parametrization.py::test_something_by_ou[LE3] PASSED                                                                                                                                                        [ 12%]\n",
      "parametrization.py::test_something_by_ou[MER] PASSED                                                                                                                                                        [ 18%]\n",
      "parametrization.py::test_something_by_ou[NIR] PASSED                                                                                                                                                        [ 25%]\n",
      "parametrization.py::test_something_by_ou[PHZ] PASSED                                                                                                                                                        [ 31%]\n",
      "parametrization.py::test_something_by_ou[SHE] PASSED                                                                                                                                                        [ 37%]\n",
      "parametrization.py::test_something_by_ou[SIM] PASSED                                                                                                                                                        [ 43%]\n",
      "parametrization.py::test_something_by_ou[VIS] PASSED                                                                                                                                                        [ 50%]\n",
      "parametrization.py::test_something_else_by_ou[EXT] PASSED                                                                                                                                                   [ 56%]\n",
      "parametrization.py::test_something_else_by_ou[LE3] PASSED                                                                                                                                                   [ 62%]\n",
      "parametrization.py::test_something_else_by_ou[MER] PASSED                                                                                                                                                   [ 68%]\n",
      "parametrization.py::test_something_else_by_ou[NIR] PASSED                                                                                                                                                   [ 75%]\n",
      "parametrization.py::test_something_else_by_ou[PHZ] PASSED                                                                                                                                                   [ 81%]\n",
      "parametrization.py::test_something_else_by_ou[SHE] PASSED                                                                                                                                                   [ 87%]\n",
      "parametrization.py::test_something_else_by_ou[SIM] PASSED                                                                                                                                                   [ 93%]\n",
      "parametrization.py::test_something_else_by_ou[VIS] PASSED                                                                                                                                                   [100%]\n",
      "\n",
      "=============================================================================================== 16 passed in 0.48s ================================================================================================\n"
     ]
    }
   ],
   "source": [
    "%%run_pytest[clean] -v\n",
    "\n",
    "def test_something_by_ou(organisational_unit):\n",
    "    pass\n",
    "\n",
    "def test_something_else_by_ou(organisational_unit):\n",
    "    pass"
   ]
  },
  {
   "cell_type": "markdown",
   "metadata": {
    "slideshow": {
     "slide_type": "slide"
    }
   },
   "source": [
    "And now test something by Euclid countries"
   ]
  },
  {
   "cell_type": "code",
   "execution_count": 11,
   "metadata": {
    "scrolled": true,
    "slideshow": {
     "slide_type": ""
    }
   },
   "outputs": [
    {
     "name": "stdout",
     "output_type": "stream",
     "text": [
      "=============================================================================================== test session starts ===============================================================================================\n",
      "platform linux -- Python 3.6.8, pytest-5.2.2, py-1.8.0, pluggy-0.13.0 -- /home/mdexet/Workdir/EUCLID/WorkshopPythonCpp/Python-pytest/venv/bin/python3.6\n",
      "cachedir: .pytest_cache\n",
      "metadata: {'Python': '3.6.8', 'Platform': 'Linux-4.15.0-66-generic-x86_64-with-debian-buster-sid', 'Packages': {'pytest': '5.2.2', 'py': '1.8.0', 'pluggy': '0.13.0'}, 'Plugins': {'sugar': '0.9.2', 'cov': '2.8.1', 'mock': '1.11.2', 'html': '2.0.0', 'metadata': '1.8.0'}}\n",
      "rootdir: /home/mdexet/Workdir/EUCLID/WorkshopPythonCpp/Python-pytest\n",
      "plugins: sugar-0.9.2, cov-2.8.1, mock-1.11.2, html-2.0.0, metadata-1.8.0\n",
      "collecting ... collected 13 items\n",
      "\n",
      "parametrization.py::test_something_by_euclid_country[AT] PASSED                                                                                                                                             [  7%]\n",
      "parametrization.py::test_something_by_euclid_country[DK] PASSED                                                                                                                                             [ 15%]\n",
      "parametrization.py::test_something_by_euclid_country[FR] PASSED                                                                                                                                             [ 23%]\n",
      "parametrization.py::test_something_by_euclid_country[FI] PASSED                                                                                                                                             [ 30%]\n",
      "parametrization.py::test_something_by_euclid_country[DE] PASSED                                                                                                                                             [ 38%]\n",
      "parametrization.py::test_something_by_euclid_country[IT] PASSED                                                                                                                                             [ 46%]\n",
      "parametrization.py::test_something_by_euclid_country[NL] PASSED                                                                                                                                             [ 53%]\n",
      "parametrization.py::test_something_by_euclid_country[NO] PASSED                                                                                                                                             [ 61%]\n",
      "parametrization.py::test_something_by_euclid_country[CH] PASSED                                                                                                                                             [ 69%]\n",
      "parametrization.py::test_something_by_euclid_country[PT] PASSED                                                                                                                                             [ 76%]\n",
      "parametrization.py::test_something_by_euclid_country[RO] PASSED                                                                                                                                             [ 84%]\n",
      "parametrization.py::test_something_by_euclid_country[UK] PASSED                                                                                                                                             [ 92%]\n",
      "parametrization.py::test_something_by_euclid_country[USA] PASSED                                                                                                                                            [100%]\n",
      "\n",
      "=============================================================================================== 13 passed in 0.39s ================================================================================================\n"
     ]
    }
   ],
   "source": [
    "%%run_pytest[clean] -v\n",
    "\n",
    "countries=['AT','DK','FR', 'FI', 'DE','IT','NL','NO', 'CH','PT','RO','UK','USA']\n",
    "\n",
    "@pytest.fixture(params=countries)\n",
    "def euclid_country(request):\n",
    "    return request.param\n",
    "\n",
    "\n",
    "def test_something_by_euclid_country(euclid_country):\n",
    "    pass"
   ]
  },
  {
   "cell_type": "markdown",
   "metadata": {
    "slideshow": {
     "slide_type": "slide"
    }
   },
   "source": [
    "And by Organisation Unit **and** by country"
   ]
  },
  {
   "cell_type": "code",
   "execution_count": 12,
   "metadata": {
    "scrolled": true
   },
   "outputs": [
    {
     "name": "stdout",
     "output_type": "stream",
     "text": [
      "=============================================================================================== test session starts ===============================================================================================\n",
      "platform linux -- Python 3.6.8, pytest-5.2.2, py-1.8.0, pluggy-0.13.0 -- /home/mdexet/Workdir/EUCLID/WorkshopPythonCpp/Python-pytest/venv/bin/python3.6\n",
      "cachedir: .pytest_cache\n",
      "metadata: {'Python': '3.6.8', 'Platform': 'Linux-4.15.0-66-generic-x86_64-with-debian-buster-sid', 'Packages': {'pytest': '5.2.2', 'py': '1.8.0', 'pluggy': '0.13.0'}, 'Plugins': {'sugar': '0.9.2', 'cov': '2.8.1', 'mock': '1.11.2', 'html': '2.0.0', 'metadata': '1.8.0'}}\n",
      "rootdir: /home/mdexet/Workdir/EUCLID/WorkshopPythonCpp/Python-pytest\n",
      "plugins: sugar-0.9.2, cov-2.8.1, mock-1.11.2, html-2.0.0, metadata-1.8.0\n",
      "collecting ... collected 104 items\n",
      "\n",
      "parametrization.py::test_something_by_euclid_country[EXT-AT] PASSED                                                                                                                                         [  0%]\n",
      "parametrization.py::test_something_by_euclid_country[EXT-DK] PASSED                                                                                                                                         [  1%]\n",
      "parametrization.py::test_something_by_euclid_country[EXT-FR] PASSED                                                                                                                                         [  2%]\n",
      "parametrization.py::test_something_by_euclid_country[EXT-FI] PASSED                                                                                                                                         [  3%]\n",
      "parametrization.py::test_something_by_euclid_country[EXT-DE] PASSED                                                                                                                                         [  4%]\n",
      "parametrization.py::test_something_by_euclid_country[EXT-IT] PASSED                                                                                                                                         [  5%]\n",
      "parametrization.py::test_something_by_euclid_country[EXT-NL] PASSED                                                                                                                                         [  6%]\n",
      "parametrization.py::test_something_by_euclid_country[EXT-NO] PASSED                                                                                                                                         [  7%]\n",
      "parametrization.py::test_something_by_euclid_country[EXT-CH] PASSED                                                                                                                                         [  8%]\n",
      "parametrization.py::test_something_by_euclid_country[EXT-PT] PASSED                                                                                                                                         [  9%]\n",
      "parametrization.py::test_something_by_euclid_country[EXT-RO] PASSED                                                                                                                                         [ 10%]\n",
      "parametrization.py::test_something_by_euclid_country[EXT-UK] PASSED                                                                                                                                         [ 11%]\n",
      "parametrization.py::test_something_by_euclid_country[EXT-USA] PASSED                                                                                                                                        [ 12%]\n",
      "parametrization.py::test_something_by_euclid_country[LE3-AT] PASSED                                                                                                                                         [ 13%]\n",
      "parametrization.py::test_something_by_euclid_country[LE3-DK] PASSED                                                                                                                                         [ 14%]\n",
      "parametrization.py::test_something_by_euclid_country[LE3-FR] PASSED                                                                                                                                         [ 15%]\n",
      "parametrization.py::test_something_by_euclid_country[LE3-FI] PASSED                                                                                                                                         [ 16%]\n",
      "parametrization.py::test_something_by_euclid_country[LE3-DE] PASSED                                                                                                                                         [ 17%]\n",
      "parametrization.py::test_something_by_euclid_country[LE3-IT] PASSED                                                                                                                                         [ 18%]\n",
      "parametrization.py::test_something_by_euclid_country[LE3-NL] PASSED                                                                                                                                         [ 19%]\n",
      "parametrization.py::test_something_by_euclid_country[LE3-NO] PASSED                                                                                                                                         [ 20%]\n",
      "parametrization.py::test_something_by_euclid_country[LE3-CH] PASSED                                                                                                                                         [ 21%]\n",
      "parametrization.py::test_something_by_euclid_country[LE3-PT] PASSED                                                                                                                                         [ 22%]\n",
      "parametrization.py::test_something_by_euclid_country[LE3-RO] PASSED                                                                                                                                         [ 23%]\n",
      "parametrization.py::test_something_by_euclid_country[LE3-UK] PASSED                                                                                                                                         [ 24%]\n",
      "parametrization.py::test_something_by_euclid_country[LE3-USA] PASSED                                                                                                                                        [ 25%]\n",
      "parametrization.py::test_something_by_euclid_country[MER-AT] PASSED                                                                                                                                         [ 25%]\n",
      "parametrization.py::test_something_by_euclid_country[MER-DK] PASSED                                                                                                                                         [ 26%]\n",
      "parametrization.py::test_something_by_euclid_country[MER-FR] PASSED                                                                                                                                         [ 27%]\n",
      "parametrization.py::test_something_by_euclid_country[MER-FI] PASSED                                                                                                                                         [ 28%]\n",
      "parametrization.py::test_something_by_euclid_country[MER-DE] PASSED                                                                                                                                         [ 29%]\n",
      "parametrization.py::test_something_by_euclid_country[MER-IT] PASSED                                                                                                                                         [ 30%]\n",
      "parametrization.py::test_something_by_euclid_country[MER-NL] PASSED                                                                                                                                         [ 31%]\n",
      "parametrization.py::test_something_by_euclid_country[MER-NO] PASSED                                                                                                                                         [ 32%]\n"
     ]
    },
    {
     "name": "stdout",
     "output_type": "stream",
     "text": [
      "parametrization.py::test_something_by_euclid_country[MER-CH] PASSED                                                                                                                                         [ 33%]\n",
      "parametrization.py::test_something_by_euclid_country[MER-PT] PASSED                                                                                                                                         [ 34%]\n",
      "parametrization.py::test_something_by_euclid_country[MER-RO] PASSED                                                                                                                                         [ 35%]\n",
      "parametrization.py::test_something_by_euclid_country[MER-UK] PASSED                                                                                                                                         [ 36%]\n",
      "parametrization.py::test_something_by_euclid_country[MER-USA] PASSED                                                                                                                                        [ 37%]\n",
      "parametrization.py::test_something_by_euclid_country[NIR-AT] PASSED                                                                                                                                         [ 38%]\n",
      "parametrization.py::test_something_by_euclid_country[NIR-DK] PASSED                                                                                                                                         [ 39%]\n",
      "parametrization.py::test_something_by_euclid_country[NIR-FR] PASSED                                                                                                                                         [ 40%]\n",
      "parametrization.py::test_something_by_euclid_country[NIR-FI] PASSED                                                                                                                                         [ 41%]\n",
      "parametrization.py::test_something_by_euclid_country[NIR-DE] PASSED                                                                                                                                         [ 42%]\n",
      "parametrization.py::test_something_by_euclid_country[NIR-IT] PASSED                                                                                                                                         [ 43%]\n",
      "parametrization.py::test_something_by_euclid_country[NIR-NL] PASSED                                                                                                                                         [ 44%]\n",
      "parametrization.py::test_something_by_euclid_country[NIR-NO] PASSED                                                                                                                                         [ 45%]\n",
      "parametrization.py::test_something_by_euclid_country[NIR-CH] PASSED                                                                                                                                         [ 46%]\n",
      "parametrization.py::test_something_by_euclid_country[NIR-PT] PASSED                                                                                                                                         [ 47%]\n",
      "parametrization.py::test_something_by_euclid_country[NIR-RO] PASSED                                                                                                                                         [ 48%]\n",
      "parametrization.py::test_something_by_euclid_country[NIR-UK] PASSED                                                                                                                                         [ 49%]\n",
      "parametrization.py::test_something_by_euclid_country[NIR-USA] PASSED                                                                                                                                        [ 50%]\n",
      "parametrization.py::test_something_by_euclid_country[PHZ-AT] PASSED                                                                                                                                         [ 50%]\n",
      "parametrization.py::test_something_by_euclid_country[PHZ-DK] PASSED                                                                                                                                         [ 51%]\n",
      "parametrization.py::test_something_by_euclid_country[PHZ-FR] PASSED                                                                                                                                         [ 52%]\n",
      "parametrization.py::test_something_by_euclid_country[PHZ-FI] PASSED                                                                                                                                         [ 53%]\n",
      "parametrization.py::test_something_by_euclid_country[PHZ-DE] PASSED                                                                                                                                         [ 54%]\n",
      "parametrization.py::test_something_by_euclid_country[PHZ-IT] PASSED                                                                                                                                         [ 55%]\n",
      "parametrization.py::test_something_by_euclid_country[PHZ-NL] PASSED                                                                                                                                         [ 56%]\n",
      "parametrization.py::test_something_by_euclid_country[PHZ-NO] PASSED                                                                                                                                         [ 57%]\n",
      "parametrization.py::test_something_by_euclid_country[PHZ-CH] PASSED                                                                                                                                         [ 58%]\n",
      "parametrization.py::test_something_by_euclid_country[PHZ-PT] PASSED                                                                                                                                         [ 59%]\n",
      "parametrization.py::test_something_by_euclid_country[PHZ-RO] PASSED                                                                                                                                         [ 60%]\n",
      "parametrization.py::test_something_by_euclid_country[PHZ-UK] PASSED                                                                                                                                         [ 61%]\n",
      "parametrization.py::test_something_by_euclid_country[PHZ-USA] PASSED                                                                                                                                        [ 62%]\n",
      "parametrization.py::test_something_by_euclid_country[SHE-AT] PASSED                                                                                                                                         [ 63%]\n",
      "parametrization.py::test_something_by_euclid_country[SHE-DK] PASSED                                                                                                                                         [ 64%]\n",
      "parametrization.py::test_something_by_euclid_country[SHE-FR] PASSED                                                                                                                                         [ 65%]\n",
      "parametrization.py::test_something_by_euclid_country[SHE-FI] PASSED                                                                                                                                         [ 66%]\n",
      "parametrization.py::test_something_by_euclid_country[SHE-DE] PASSED                                                                                                                                         [ 67%]\n",
      "parametrization.py::test_something_by_euclid_country[SHE-IT] PASSED                                                                                                                                         [ 68%]\n",
      "parametrization.py::test_something_by_euclid_country[SHE-NL] PASSED                                                                                                                                         [ 69%]\n"
     ]
    },
    {
     "name": "stdout",
     "output_type": "stream",
     "text": [
      "parametrization.py::test_something_by_euclid_country[SHE-NO] PASSED                                                                                                                                         [ 70%]\n",
      "parametrization.py::test_something_by_euclid_country[SHE-CH] PASSED                                                                                                                                         [ 71%]\n",
      "parametrization.py::test_something_by_euclid_country[SHE-PT] PASSED                                                                                                                                         [ 72%]\n",
      "parametrization.py::test_something_by_euclid_country[SHE-RO] PASSED                                                                                                                                         [ 73%]\n",
      "parametrization.py::test_something_by_euclid_country[SHE-UK] PASSED                                                                                                                                         [ 74%]\n",
      "parametrization.py::test_something_by_euclid_country[SHE-USA] PASSED                                                                                                                                        [ 75%]\n",
      "parametrization.py::test_something_by_euclid_country[SIM-AT] PASSED                                                                                                                                         [ 75%]\n",
      "parametrization.py::test_something_by_euclid_country[SIM-DK] PASSED                                                                                                                                         [ 76%]\n",
      "parametrization.py::test_something_by_euclid_country[SIM-FR] PASSED                                                                                                                                         [ 77%]\n",
      "parametrization.py::test_something_by_euclid_country[SIM-FI] PASSED                                                                                                                                         [ 78%]\n",
      "parametrization.py::test_something_by_euclid_country[SIM-DE] PASSED                                                                                                                                         [ 79%]\n",
      "parametrization.py::test_something_by_euclid_country[SIM-IT] PASSED                                                                                                                                         [ 80%]\n",
      "parametrization.py::test_something_by_euclid_country[SIM-NL] PASSED                                                                                                                                         [ 81%]\n",
      "parametrization.py::test_something_by_euclid_country[SIM-NO] PASSED                                                                                                                                         [ 82%]\n",
      "parametrization.py::test_something_by_euclid_country[SIM-CH] PASSED                                                                                                                                         [ 83%]\n",
      "parametrization.py::test_something_by_euclid_country[SIM-PT] PASSED                                                                                                                                         [ 84%]\n",
      "parametrization.py::test_something_by_euclid_country[SIM-RO] PASSED                                                                                                                                         [ 85%]\n",
      "parametrization.py::test_something_by_euclid_country[SIM-UK] PASSED                                                                                                                                         [ 86%]\n",
      "parametrization.py::test_something_by_euclid_country[SIM-USA] PASSED                                                                                                                                        [ 87%]\n",
      "parametrization.py::test_something_by_euclid_country[VIS-AT] PASSED                                                                                                                                         [ 88%]\n",
      "parametrization.py::test_something_by_euclid_country[VIS-DK] PASSED                                                                                                                                         [ 89%]\n",
      "parametrization.py::test_something_by_euclid_country[VIS-FR] PASSED                                                                                                                                         [ 90%]\n",
      "parametrization.py::test_something_by_euclid_country[VIS-FI] PASSED                                                                                                                                         [ 91%]\n",
      "parametrization.py::test_something_by_euclid_country[VIS-DE] PASSED                                                                                                                                         [ 92%]\n",
      "parametrization.py::test_something_by_euclid_country[VIS-IT] PASSED                                                                                                                                         [ 93%]\n",
      "parametrization.py::test_something_by_euclid_country[VIS-NL] PASSED                                                                                                                                         [ 94%]\n",
      "parametrization.py::test_something_by_euclid_country[VIS-NO] PASSED                                                                                                                                         [ 95%]\n",
      "parametrization.py::test_something_by_euclid_country[VIS-CH] PASSED                                                                                                                                         [ 96%]\n",
      "parametrization.py::test_something_by_euclid_country[VIS-PT] PASSED                                                                                                                                         [ 97%]\n",
      "parametrization.py::test_something_by_euclid_country[VIS-RO] PASSED                                                                                                                                         [ 98%]\n",
      "parametrization.py::test_something_by_euclid_country[VIS-UK] PASSED                                                                                                                                         [ 99%]\n",
      "parametrization.py::test_something_by_euclid_country[VIS-USA] PASSED                                                                                                                                        [100%]\n",
      "\n",
      "=============================================================================================== 104 passed in 2.59s ===============================================================================================\n"
     ]
    }
   ],
   "source": [
    "%%run_pytest[clean] -v\n",
    "\n",
    "def test_something_by_euclid_country(organisational_unit, euclid_country):\n",
    "    pass"
   ]
  },
  {
   "cell_type": "markdown",
   "metadata": {
    "slideshow": {
     "slide_type": "slide"
    }
   },
   "source": [
    "# Conclusion\n",
    "\n",
    "Parametrization is an essential feature of Pytest\n",
    "\n",
    "With little setup you can explore very large spaces of configuration.\n"
   ]
  }
 ],
 "metadata": {
  "celltoolbar": "Diaporama",
  "kernelspec": {
   "display_name": "Python 3",
   "language": "python",
   "name": "python3"
  },
  "language_info": {
   "codemirror_mode": {
    "name": "ipython",
    "version": 3
   },
   "file_extension": ".py",
   "mimetype": "text/x-python",
   "name": "python",
   "nbconvert_exporter": "python",
   "pygments_lexer": "ipython3",
   "version": "3.6.8"
  },
  "toc": {
   "base_numbering": 1,
   "nav_menu": {},
   "number_sections": false,
   "sideBar": true,
   "skip_h1_title": false,
   "title_cell": "Table of Contents",
   "title_sidebar": "Contents",
   "toc_cell": false,
   "toc_position": {},
   "toc_section_display": true,
   "toc_window_display": false
  }
 },
 "nbformat": 4,
 "nbformat_minor": 2
}
