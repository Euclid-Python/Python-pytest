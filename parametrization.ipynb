{
 "cells": [
  {
   "cell_type": "code",
   "execution_count": 2,
   "metadata": {},
   "outputs": [],
   "source": [
    "import pytest\n",
    "import ipytest\n",
    "\n",
    "ipytest.config(rewrite_asserts=True, magics=True)\n",
    "\n",
    "__file__ = 'parametrization.ipynb'"
   ]
  },
  {
   "cell_type": "markdown",
   "metadata": {},
   "source": [
    "# Parametrization"
   ]
  },
  {
   "cell_type": "markdown",
   "metadata": {},
   "source": [
    "_Pytest_ has a very interesting feature of parametrization of test.\n",
    "\n",
    "It respect the famous Don't Repeat Yourself."
   ]
  },
  {
   "cell_type": "code",
   "execution_count": 15,
   "metadata": {},
   "outputs": [],
   "source": [
    "# Silly function\n",
    "def compute(n,m):\n",
    "    if n <= 10 : \n",
    "        return n*m\n",
    "    elif m >= 5 :\n",
    "        return n*m*m\n",
    "    else:\n",
    "        return n+m"
   ]
  },
  {
   "cell_type": "code",
   "execution_count": 16,
   "metadata": {},
   "outputs": [
    {
     "name": "stdout",
     "output_type": "stream",
     "text": [
      "...                                                                                                              [100%]\n"
     ]
    }
   ],
   "source": [
    "%%run_pytest[clean] -qq\n",
    "\n",
    "def test_1_2():\n",
    "    assert compute(1,2) == 2\n",
    "    \n",
    "def test_12_2():\n",
    "    assert compute(12,2) == 14\n",
    "    \n",
    "def test_2_100():\n",
    "    assert compute(2,100) == 200\n",
    "        "
   ]
  },
  {
   "cell_type": "markdown",
   "metadata": {},
   "source": [
    "_Pytest_ allows to create several tests with \n",
    "\n",
    "`@pytest.mark.parametrize`"
   ]
  },
  {
   "cell_type": "code",
   "execution_count": 23,
   "metadata": {},
   "outputs": [
    {
     "name": "stdout",
     "output_type": "stream",
     "text": [
      "================================================= test session starts =================================================\n",
      "platform win32 -- Python 3.7.1, pytest-5.2.1, py-1.8.0, pluggy-0.13.0 -- c:\\git\\euclid\\workshopcpppython\\python-pytest\\venv\\scripts\\python.exe\n",
      "cachedir: .pytest_cache\n",
      "rootdir: C:\\git\\EUCLID\\WorkshopCppPython\\Python-pytest\n",
      "collecting ... collected 3 items\n",
      "\n",
      "parametrization.py::test_it[1-2-2] PASSED                                                                        [ 33%]\n",
      "parametrization.py::test_it[12-2-14] PASSED                                                                      [ 66%]\n",
      "parametrization.py::test_it[2-100-200] PASSED                                                                    [100%]\n",
      "\n",
      "================================================== 3 passed in 0.02s ==================================================\n"
     ]
    }
   ],
   "source": [
    "%%run_pytest[clean] -v\n",
    "\n",
    "import pytest\n",
    "\n",
    "@pytest.mark.parametrize(\"first_arg,second_arg,result\",[(1,2,2), (12,2,14), (2,100,200)])\n",
    "def test_it(first_arg,second_arg,result):\n",
    "    assert compute(int(first_arg),int(second_arg)) == int(result)\n"
   ]
  }
 ],
 "metadata": {
  "kernelspec": {
   "display_name": "Python 3",
   "language": "python",
   "name": "python3"
  },
  "language_info": {
   "codemirror_mode": {
    "name": "ipython",
    "version": 3
   },
   "file_extension": ".py",
   "mimetype": "text/x-python",
   "name": "python",
   "nbconvert_exporter": "python",
   "pygments_lexer": "ipython3",
   "version": "3.7.1"
  }
 },
 "nbformat": 4,
 "nbformat_minor": 2
}
