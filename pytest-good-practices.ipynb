{
 "cells": [
  {
   "cell_type": "markdown",
   "metadata": {
    "slideshow": {
     "slide_type": "slide"
    }
   },
   "source": [
    "# Some good practices\n"
   ]
  },
  {
   "cell_type": "markdown",
   "metadata": {},
   "source": []
  },
  {
   "cell_type": "code",
   "execution_count": 1,
   "metadata": {
    "slideshow": {
     "slide_type": "subslide"
    }
   },
   "outputs": [],
   "source": [
    "import pytest\n",
    "import ipytest\n",
    "\n",
    "ipytest.config(rewrite_asserts=True, magics=True)\n",
    "\n",
    "__file__ = 'pytest-good-practices.ipynb'"
   ]
  },
  {
   "cell_type": "markdown",
   "metadata": {
    "slideshow": {
     "slide_type": "slide"
    }
   },
   "source": [
    "Using `Computer` class"
   ]
  },
  {
   "cell_type": "code",
   "execution_count": null,
   "metadata": {},
   "outputs": [],
   "source": [
    "class Computer:\n",
    "    \n",
    "    def __init__(self):\n",
    "        self.total = 0\n",
    "        \n",
    "    def add(self,a):\n",
    "        self.total = self.total + a\n",
    "        return self.total\n",
    "    \n",
    "    def substract(self,a):\n",
    "        self.total = self.total - a\n",
    "        return self.total\n",
    "    \n",
    "    def reset(self):\n",
    "        self.total = 0"
   ]
  },
  {
   "cell_type": "markdown",
   "metadata": {
    "slideshow": {
     "slide_type": "slide"
    }
   },
   "source": [
    "## Make test fail first"
   ]
  },
  {
   "cell_type": "markdown",
   "metadata": {
    "slideshow": {
     "slide_type": "subslide"
    }
   },
   "source": [
    "<div class=\"alert alert-info\">\n",
    "    <b><span style=\"font-size:larger;\">FAIL</span></b> the test  <b><span style=\"font-size:larger;\">FIRST</span></b>.\n",
    "</div>\n",
    "\n",
    "A test that has **always** passed is misleading.\n"
   ]
  },
  {
   "cell_type": "code",
   "execution_count": null,
   "metadata": {
    "slideshow": {
     "slide_type": "subslide"
    }
   },
   "outputs": [],
   "source": [
    "%%run_pytest[clean] -qq\n",
    "\n",
    "def test_substract():\n",
    "    computer = Computer()\n",
    "    computer.substract(1)\n",
    "    assert computer"
   ]
  },
  {
   "cell_type": "markdown",
   "metadata": {
    "slideshow": {
     "slide_type": "subslide"
    }
   },
   "source": [
    "Modify the `Computer` class to make the test **fail**."
   ]
  },
  {
   "cell_type": "code",
   "execution_count": null,
   "metadata": {},
   "outputs": [],
   "source": [
    "class Computer:\n",
    "    \n",
    "    def __init__(self):\n",
    "        self.total = 0\n",
    "        \n",
    "    def add(self,a):\n",
    "        self.total = self.total + a\n",
    "        return self.total\n",
    "    \n",
    "    def substract(self,a):\n",
    "        #--------------------------------------\n",
    "        #self.total = self.total - a\n",
    "        self.total = self.total \n",
    "        #---------------------------------------\n",
    "        return self.total\n",
    "    \n",
    "    def reset(self):\n",
    "        self.total = 0"
   ]
  },
  {
   "cell_type": "code",
   "execution_count": null,
   "metadata": {
    "slideshow": {
     "slide_type": "subslide"
    }
   },
   "outputs": [],
   "source": [
    "%%run_pytest[clean] -qq\n",
    "\n",
    "def test_substract():\n",
    "    computer = Computer()\n",
    "    computer.substract(1)\n",
    "    assert computer"
   ]
  },
  {
   "cell_type": "markdown",
   "metadata": {},
   "source": [
    "This one passed but it's **wrong**, it would be always sucessful.\n",
    "\n",
    "The assertion doesn't test an expectation\n",
    "\n",
    "_Wrong_\n",
    "```python\n",
    "assert computer\n",
    "```\n",
    "\n",
    "_Right_\n",
    "```python\n",
    "assert computer.total == -1\n",
    "```"
   ]
  },
  {
   "cell_type": "markdown",
   "metadata": {
    "slideshow": {
     "slide_type": "subslide"
    }
   },
   "source": [
    "Correct the test to check the actual excpectations. \n",
    "\n",
    "```python\n",
    "assert computer.total == -1\n",
    "```\n",
    "\n",
    "The test must fail **as the code under test is designed to fail**."
   ]
  },
  {
   "cell_type": "code",
   "execution_count": null,
   "metadata": {},
   "outputs": [],
   "source": [
    "%%run_pytest[clean] -qq\n",
    "\n",
    "def test_substract():\n",
    "    computer = Computer()\n",
    "    computer.substract(1)\n",
    "    assert computer.total == -1"
   ]
  },
  {
   "cell_type": "markdown",
   "metadata": {
    "slideshow": {
     "slide_type": "subslide"
    }
   },
   "source": [
    "Correct the *Code Under test* to make test pass."
   ]
  },
  {
   "cell_type": "code",
   "execution_count": null,
   "metadata": {
    "slideshow": {
     "slide_type": "-"
    }
   },
   "outputs": [],
   "source": [
    "class Computer:\n",
    "    \n",
    "    def __init__(self):\n",
    "        self.total = 0\n",
    "        \n",
    "    def add(self,a):\n",
    "        self.total = self.total + a\n",
    "        return self.total\n",
    "    \n",
    "    def substract(self,a):\n",
    "        self.total = self.total - a\n",
    "        return self.total\n",
    "    \n",
    "    def reset(self):\n",
    "        self.total = 0"
   ]
  },
  {
   "cell_type": "code",
   "execution_count": null,
   "metadata": {
    "slideshow": {
     "slide_type": "subslide"
    }
   },
   "outputs": [],
   "source": [
    "%%run_pytest[clean] -qq\n",
    "\n",
    "def test_substract():\n",
    "    computer = Computer()\n",
    "    computer.substract(1)\n",
    "    assert computer.total == -1"
   ]
  },
  {
   "cell_type": "markdown",
   "metadata": {},
   "source": [
    "Now you know that the test is **one** of the real witnesses of `Computer.add(int)` correct processing."
   ]
  },
  {
   "cell_type": "markdown",
   "metadata": {
    "slideshow": {
     "slide_type": "slide"
    }
   },
   "source": [
    "<div class=\"alert alert-info\">\n",
    "    <b><span style=\"font-size:larger;\">FAIL</span></b> the test  <b><span style=\"font-size:larger;\">FIRST</span></b>.\n",
    "</div>\n",
    "\n",
    "<center>\n",
    "<img src=\"images/pytest-lifecycle.png\"/>\n",
    "</center>"
   ]
  },
  {
   "cell_type": "markdown",
   "metadata": {
    "slideshow": {
     "slide_type": "slide"
    }
   },
   "source": [
    "## Make the test isolated\n",
    "\n",
    "As the tests must be independent of each other\n",
    "\n",
    "<div class=\"alert alert-info\">\n",
    "    Test must be <b><span style=\"font-size:larger;\">SELF SUFFICIENT</span></b> and <b><span style=\"font-size:larger;\">ISOLATED</span></b>.\n",
    "</div>\n",
    "\n",
    "No hidden or implicit parameters."
   ]
  },
  {
   "cell_type": "markdown",
   "metadata": {},
   "source": [
    "A test must be considered as a unit"
   ]
  },
  {
   "cell_type": "markdown",
   "metadata": {
    "slideshow": {
     "slide_type": "subslide"
    }
   },
   "source": [
    "Let's see a situation where it's not the case."
   ]
  },
  {
   "cell_type": "code",
   "execution_count": 1,
   "metadata": {},
   "outputs": [
    {
     "name": "stderr",
     "output_type": "stream",
     "text": [
      "UsageError: Cell magic `%%run_pytest[clean]` not found.\n"
     ]
    }
   ],
   "source": [
    "%%run_pytest[clean] -qq\n",
    "\n",
    "computer = Computer() # <-- common computer\n",
    "\n",
    "def test_add():\n",
    "    computer.add(1)\n",
    "    assert computer.total == 1\n",
    "\n",
    "def test_substract():\n",
    "    computer.substract(1)\n",
    "    assert computer.total == -1"
   ]
  },
  {
   "cell_type": "markdown",
   "metadata": {
    "slideshow": {
     "slide_type": "slide"
    }
   },
   "source": [
    "## How to do test independent of each other?"
   ]
  },
  {
   "cell_type": "markdown",
   "metadata": {
    "slideshow": {
     "slide_type": "subslide"
    }
   },
   "source": [
    "<center>\n",
    "<img src=\"https://media.giphy.com/media/3o7WIQ4FARJdpmUni8/giphy.gif\">\n",
    "</center>"
   ]
  },
  {
   "cell_type": "markdown",
   "metadata": {
    "slideshow": {
     "slide_type": "fragment"
    }
   },
   "source": [
    "Make each test a new test.. again "
   ]
  },
  {
   "cell_type": "code",
   "execution_count": null,
   "metadata": {
    "slideshow": {
     "slide_type": "slide"
    }
   },
   "outputs": [],
   "source": [
    "%%run_pytest[clean] -qq\n",
    "\n",
    "def test_add():\n",
    "    computer = Computer() # <- new computer\n",
    "    computer.add(1)\n",
    "    assert computer.total == 1\n",
    "\n",
    "def test_substract():\n",
    "    computer = Computer() #< -new Computer\n",
    "    computer.substract(1)\n",
    "    assert computer.total == -1"
   ]
  },
  {
   "cell_type": "markdown",
   "metadata": {},
   "source": [
    "Use **fixtures**"
   ]
  },
  {
   "cell_type": "code",
   "execution_count": null,
   "metadata": {},
   "outputs": [],
   "source": [
    "%%run_pytest[clean] -qq\n",
    "from pytest import fixture\n",
    "\n",
    "@pytest.fixture\n",
    "def setup_computer():\n",
    "    return Computer()\n",
    "\n",
    "def test_add(setup_computer):\n",
    "    computer = setup_computer\n",
    "    computer.add(1)\n",
    "    assert computer.total == 1\n",
    "\n",
    "def test_substract(setup_computer):\n",
    "    computer = setup_computer\n",
    "    computer.substract(1)\n",
    "    assert computer.total == -1"
   ]
  }
 ],
 "metadata": {
  "celltoolbar": "Diaporama",
  "kernelspec": {
   "display_name": "Python 3",
   "language": "python",
   "name": "python3"
  },
  "language_info": {
   "codemirror_mode": {
    "name": "ipython",
    "version": 3
   },
   "file_extension": ".py",
   "mimetype": "text/x-python",
   "name": "python",
   "nbconvert_exporter": "python",
   "pygments_lexer": "ipython3",
   "version": "3.7.1"
  }
 },
 "nbformat": 4,
 "nbformat_minor": 2
}
