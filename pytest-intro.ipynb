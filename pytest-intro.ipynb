{
 "cells": [
  {
   "cell_type": "markdown",
   "metadata": {
    "slideshow": {
     "slide_type": "slide"
    }
   },
   "source": [
    "# Pytest\n",
    "\n",
    "Pytest is a Unit Test framework for python.\n"
   ]
  },
  {
   "cell_type": "markdown",
   "metadata": {
    "slideshow": {
     "slide_type": "slide"
    }
   },
   "source": [
    "## Pytest presentation\n",
    "\n",
    "\" _pytest is a mature full-featured Python testing tool that helps you write better programs._ \"  [according to documentation](https://docs.pytest.org/en/latest/)\n"
   ]
  },
  {
   "cell_type": "markdown",
   "metadata": {},
   "source": [
    "Pytest philosophie is to provide a convenient way to write \n",
    "\n",
    "* from small unit tests\n",
    "* to full functional tests"
   ]
  },
  {
   "cell_type": "markdown",
   "metadata": {
    "slideshow": {
     "slide_type": "slide"
    }
   },
   "source": [
    "## Pytest is"
   ]
  },
  {
   "cell_type": "markdown",
   "metadata": {
    "slideshow": {
     "slide_type": "subslide"
    }
   },
   "source": [
    "## A library\n",
    "\n",
    "To use *pytest*, install it in your project\n",
    "\n",
    "```bash\n",
    "# pip\n",
    "pip install pytest\n",
    "# conda\n",
    "conda install -c anaconda pytest\n",
    "```"
   ]
  },
  {
   "cell_type": "markdown",
   "metadata": {
    "slideshow": {
     "slide_type": "subslide"
    }
   },
   "source": [
    "## A command\n",
    "\n",
    "_Pytest_ is mainly use as a **command**\n",
    "\n",
    "```bash\n",
    "$ pytest -v\n",
    "```\n",
    "\n",
    "but you can use it as a **module**\n",
    "\n",
    "```bash\n",
    "$ python -m pytest\n",
    "```"
   ]
  },
  {
   "cell_type": "markdown",
   "metadata": {
    "slideshow": {
     "slide_type": "subslide"
    }
   },
   "source": [
    "## As a philosophy\n",
    "\n",
    "*Pytest* is committed to make your tests easy to design and run.\n",
    "\n",
    "* Very easy tests design\n",
    "* Discovery by convention\n",
    "* Easy lifecycle with fixtures"
   ]
  },
  {
   "cell_type": "markdown",
   "metadata": {
    "slideshow": {
     "slide_type": "slide"
    }
   },
   "source": [
    "## Using pytest the usual way\n",
    "\n",
    "- Creates a project _pytestwordir_  with a virtualenv inside \n",
    "`python -m venv pytestwordir/venv`\n",
    "- Go inside and activate the virtualenv\n",
    "    - Linux `. ./ven/bin/activate`\n",
    "    - Windows `\\Scripts\\activate`\n",
    "- Install pytest `pip install pytest`\n",
    "- Creates a package _my_ `mkdir my`\n",
    "\n",
    "\n"
   ]
  },
  {
   "cell_type": "markdown",
   "metadata": {
    "slideshow": {
     "slide_type": "slide"
    }
   },
   "source": [
    "Creates a file called `my/Computer.py` and copy paste following\n",
    "\n",
    "```python\n",
    "class Computer:\n",
    "    \n",
    "    def __init__(self):\n",
    "        self.total = 0\n",
    "        \n",
    "    def add(self,a):\n",
    "        self.total = self.total + a\n",
    "        return self.total\n",
    "    \n",
    "    def substract(self,a):\n",
    "        self.total = self.total - a\n",
    "        return self.total\n",
    "    \n",
    "    def reset(self):\n",
    "        self.total = 0\n",
    "```"
   ]
  },
  {
   "cell_type": "markdown",
   "metadata": {
    "slideshow": {
     "slide_type": "subslide"
    }
   },
   "source": [
    "Creates a unit test file `my/test_computer.py` and copy/past\n",
    "\n",
    "```python\n",
    "from my.Computer import Computer\n",
    "\n",
    "def test_simple_addition():\n",
    "    computer = Computer()\n",
    "    computer.add(1)\n",
    "    assert computer.total == 1\n",
    "\n",
    "def test_simple_substraction():\n",
    "    computer = Computer()\n",
    "    computer.add(1)\n",
    "    assert computer.total == 1\n",
    "\n",
    "def test_nope():\n",
    "    computer = Computer()\n",
    "    assert computer.total == 0\n",
    "    ```"
   ]
  },
  {
   "cell_type": "markdown",
   "metadata": {
    "slideshow": {
     "slide_type": "subslide"
    }
   },
   "source": [
    "Run  the pytest command\n",
    "\n",
    "```bash\n",
    "$ pytest my/\n",
    "\n",
    "================================== test session starts ======================\n",
    "platform win32 -- Python 3.7.1, pytest-5.2.1, py-1.8.0, pluggy-0.13.0\n",
    "rootdir: C:\\temp\\foo\n",
    "collected 3 items\n",
    "\n",
    "my\\test_computer.py ...                                                [100%]\n",
    "\n",
    "================================== 3 passed in 0.03s ========================\n",
    "```"
   ]
  },
  {
   "cell_type": "markdown",
   "metadata": {
    "slideshow": {
     "slide_type": "subslide"
    }
   },
   "source": [
    "Add a new class to `my/Computer.py`\n",
    "\n",
    "```python\n",
    "class NumberWriter:\n",
    "\n",
    "    mapping = {'0': 'zero', '1': 'one', '2': 'two', '3': 'three', '4': 'four', '5': 'five', '6': 'six', '7': 'seven', '8': 'eight', '9': 'nine'}\n",
    "\n",
    "    def as_words(self,number):\n",
    "        \"\"\"Return a number decomposed as words separated by a -\"\"\"\n",
    "        number_as_str = str(number)\n",
    "        return '-'.join([NumberWriter.mapping[c] for c in number_as_str])\n",
    "```"
   ]
  },
  {
   "cell_type": "markdown",
   "metadata": {
    "slideshow": {
     "slide_type": "subslide"
    }
   },
   "source": [
    "And new unit tests `my/test_writer.py`\n",
    "\n",
    "```python\n",
    "from my.Computer import NumberWriter\n",
    "\n",
    "def test_writer_one():\n",
    "    writer = NumberWriter()\n",
    "    assert writer.as_words(1) == 'one'\n",
    "\n",
    "def test_writer_several():\n",
    "    writer = NumberWriter()\n",
    "    assert writer.as_words(123) == 'one-two-three'    \n",
    "```"
   ]
  },
  {
   "cell_type": "markdown",
   "metadata": {
    "slideshow": {
     "slide_type": "slide"
    }
   },
   "source": [
    "Run pytest with the verbose option `-v`\n",
    "\n",
    "```bash\n",
    "pytest m -v\n",
    "========================== test session starts ==========================\n",
    "platform win32 -- Python 3.7.1, pytest-5.2.1, py-1.8.0, pluggy-0.13.0 -- c:\\temp\\foo\\scripts\\python.exe\n",
    "cachedir: .pytest_cache\n",
    "rootdir: C:\\temp\\foo\n",
    "collected 5 items\n",
    "\n",
    "my/test_computer.py::test_simple_addition PASSED                   [ 20%]\n",
    "my/test_computer.py::test_simple_substraction PASSED               [ 40%]\n",
    "my/test_computer.py::test_nope PASSED                              [ 60%]\n",
    "my/test_writer.py::test_writer_one PASSED                          [ 80%]\n",
    "my/test_writer.py::test_writer_several PASSED                      [100%]\n",
    "\n",
    "=========================== 5 passed in 0.03s ===========================\n",
    "```"
   ]
  },
  {
   "cell_type": "markdown",
   "metadata": {
    "slideshow": {
     "slide_type": "subslide"
    }
   },
   "source": [
    "As you can see, pytest \n",
    "* detect all tests, \n",
    "* run them for you \n",
    "* and display a report."
   ]
  },
  {
   "cell_type": "markdown",
   "metadata": {
    "slideshow": {
     "slide_type": "slide"
    }
   },
   "source": [
    "## Pytest discovery \n",
    "\n",
    "We describe here the default mechanism. Consult the [Official description](https://docs.pytest.org/en/latest/goodpractices.html#conventions-for-python-test-discovery) to get all variants"
   ]
  },
  {
   "cell_type": "markdown",
   "metadata": {
    "slideshow": {
     "slide_type": "slide"
    }
   },
   "source": [
    "## Directory discovery\n",
    "\n",
    "* No argument &rarr; Starts from the current directory (*where the command is ran*)\n",
    "* Directory argument &rarr; Starts from the argument directory ( as `pytest my/` )\n",
    "* Runs **recursevely** through directory from **starting point**"
   ]
  },
  {
   "cell_type": "markdown",
   "metadata": {
    "slideshow": {
     "slide_type": "slide"
    }
   },
   "source": [
    "## File discovery\n",
    "search for \n",
    "\n",
    "`test_*.py` \n",
    "\n",
    "or \n",
    "\n",
    "`*_test.py` \n",
    "\n",
    "and import them "
   ]
  },
  {
   "cell_type": "markdown",
   "metadata": {
    "slideshow": {
     "slide_type": "slide"
    }
   },
   "source": [
    "## Tests discovery (outside of class)\n",
    "\n",
    "Only `test` **prefixed** test functions\n",
    "\n",
    "```python\n",
    "def test_something(): # <- OK\n",
    "    #...\n",
    "def something_test(): # <- not detected\n",
    "    #...\n",
    "def something(): # <- not detected\n",
    "    #...\n",
    "```"
   ]
  },
  {
   "cell_type": "markdown",
   "metadata": {
    "slideshow": {
     "slide_type": "slide"
    }
   },
   "source": [
    "## Tests discovery  (inside of class) \n",
    "\n",
    "Only `test` **prefixed** test functions or methods (the same)\n",
    "\n",
    "Class must \n",
    "* have `Test` prefixed class name (`TestComputer`)\n",
    "* have no `__init__` constructor\n",
    "\n",
    "```Python\n",
    "class TestSomething():\n",
    "    def test_something():\n",
    "        #...\n",
    "```"
   ]
  },
  {
   "cell_type": "markdown",
   "metadata": {
    "slideshow": {
     "slide_type": "slide"
    }
   },
   "source": [
    "## Using pytest in a notebook\n",
    "\n",
    "We'll show some pytest into the notebook because it's more convenient.\n"
   ]
  },
  {
   "cell_type": "markdown",
   "metadata": {
    "slideshow": {
     "slide_type": "fragment"
    }
   },
   "source": [
    "To make it working into notebook, we have to make some _magic_. ***It's not the recommended way of doing, it's only for the course.***"
   ]
  },
  {
   "cell_type": "markdown",
   "metadata": {
    "slideshow": {
     "slide_type": "slide"
    }
   },
   "source": [
    "<div class=\"alert alert-danger\">\n",
    "    \n",
    "**DISCLAIMER**\n",
    "\n",
    "A notebook is not a software. \n",
    "\n",
    "It's just a smart way of showing algorithmes, results, plots or courses. \n",
    "\n",
    "Please do not use notebook, also powerful they are, to code __software__.\n",
    "\n",
    "If you need to be convinced, see [Why I hate notebooks](https://docs.google.com/presentation/d/1n2RlMdmv1p25Xy5thJUhkKGvjtV-dkAIsUXP-AL4ffI/edit#slide=id.g362da58057_0_1)\n",
    "</div>\n",
    "\n",
    "As powerpoint is not a painting tool, Notebook is not a software creating tool."
   ]
  },
  {
   "cell_type": "markdown",
   "metadata": {
    "slideshow": {
     "slide_type": "subslide"
    }
   },
   "source": [
    "<div class=\"alert alert-info\">\n",
    "    \n",
    "The following instruction is to make pytest works in notebook with [ipytest library](https://pypi.org/project/ipytest/)\n",
    "    \n",
    "You don't have to do this in *normal* situation.\n",
    "</div>"
   ]
  },
  {
   "cell_type": "code",
   "execution_count": null,
   "metadata": {
    "slideshow": {
     "slide_type": "subslide"
    }
   },
   "outputs": [],
   "source": [
    "import pytest\n",
    "import ipytest\n",
    "\n",
    "ipytest.config(rewrite_asserts=True, magics=True)\n",
    "\n",
    "__file__ = 'pytest-intro.ipynb' # <- use the notebook filename to make ipytest scan python cells."
   ]
  },
  {
   "cell_type": "markdown",
   "metadata": {
    "slideshow": {
     "slide_type": "slide"
    }
   },
   "source": [
    "To make pytest run on a notebook, **you have** to put this **magyc** notebook instruction ***at the beginning of the cell***.\n",
    "\n",
    "```python\n",
    "%%run_pytest[clean] -qq\n",
    "# Magyc instruction - ONLY FOR RUNNING PYTEST IN NOTEBOOK\n",
    "```\n",
    "\n",
    "* `-qq` to pass test silently\n",
    "* `-q` to have number of passed tests\n",
    "* without argument &rarr; the usual output\n",
    "* `-v` verbose mode\n",
    "* `[clean]` to make _ipytest_ forget the former tests in previous cells  \n",
    "and run only the current tests"
   ]
  },
  {
   "cell_type": "markdown",
   "metadata": {
    "slideshow": {
     "slide_type": "slide"
    }
   },
   "source": [
    "## Demonstration with our computer\n",
    "\n",
    "Let's include our class Computer"
   ]
  },
  {
   "cell_type": "code",
   "execution_count": null,
   "metadata": {},
   "outputs": [],
   "source": [
    "# %load my/Computer.py\n",
    "class Computer:\n",
    "    \n",
    "    def __init__(self):\n",
    "        self.total = 0\n",
    "        \n",
    "    def add(self,a):\n",
    "        self.total = self.total + a\n",
    "        return self.total\n",
    "    \n",
    "    def substract(self,a):\n",
    "        self.total = self.total - a\n",
    "        return self.total\n",
    "    \n",
    "    def reset(self):\n",
    "        self.total = 0"
   ]
  },
  {
   "cell_type": "code",
   "execution_count": 25,
   "metadata": {
    "scrolled": true,
    "slideshow": {
     "slide_type": "subslide"
    }
   },
   "outputs": [
    {
     "name": "stdout",
     "output_type": "stream",
     "text": [
      "================================================= test session starts =================================================\n",
      "platform win32 -- Python 3.7.1, pytest-5.2.1, py-1.8.0, pluggy-0.13.0 -- c:\\git\\euclid\\workshopcpppython\\python-pytest\\venv\\scripts\\python.exe\n",
      "cachedir: .pytest_cache\n",
      "rootdir: C:\\git\\EUCLID\\WorkshopCppPython\\Python-pytest\n",
      "collecting ... collected 1 item\n",
      "\n",
      "pytest-intro.py::test_addition PASSED                                                                            [100%]\n",
      "\n",
      "================================================== 1 passed in 0.02s ==================================================\n"
     ]
    }
   ],
   "source": [
    "%%run_pytest[clean] -v\n",
    "# Magyc instruction - ONLY FOR RUNNING PYTEST IN NOTEBOOK\n",
    "\n",
    "def test_addition():\n",
    "    # setup\n",
    "    computer = Computer()\n",
    "    # given\n",
    "    a = 1\n",
    "    # when\n",
    "    computer.add(a)\n",
    "    # then\n",
    "    assert computer.total == 1\n",
    "    # teardown\n",
    "    # nothing"
   ]
  }
 ],
 "metadata": {
  "celltoolbar": "Slideshow",
  "kernelspec": {
   "display_name": "Python 3",
   "language": "python",
   "name": "python3"
  },
  "language_info": {
   "codemirror_mode": {
    "name": "ipython",
    "version": 3
   },
   "file_extension": ".py",
   "mimetype": "text/x-python",
   "name": "python",
   "nbconvert_exporter": "python",
   "pygments_lexer": "ipython3",
   "version": "3.7.1"
  }
 },
 "nbformat": 4,
 "nbformat_minor": 2
}
