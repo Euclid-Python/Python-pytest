{
 "cells": [
  {
   "cell_type": "markdown",
   "metadata": {},
   "source": [
    "# Pytest\n",
    "\n",
    "Pytest is a Unit Test framework for python.\n",
    "\n",
    "To make it working into notebook, we have to make some _magic_. ***It's not the recommended way of doing, it's only for the course.***"
   ]
  },
  {
   "cell_type": "markdown",
   "metadata": {},
   "source": [
    "<div class=\"alert alert-danger\">\n",
    "    \n",
    "**DISCLAIMER**\n",
    "\n",
    "A notebook is not a software. \n",
    "\n",
    "It's just a smart way of showing algorithmes, results, plots or courses. \n",
    "\n",
    "Please do not use notebook, also powerful they are, to code __software__.\n",
    "\n",
    "Id you need to be convinced, see [Why I hate notebooks](https://docs.google.com/presentation/d/1n2RlMdmv1p25Xy5thJUhkKGvjtV-dkAIsUXP-AL4ffI/edit#slide=id.g362da58057_0_1)\n",
    "</div>"
   ]
  },
  {
   "cell_type": "markdown",
   "metadata": {},
   "source": [
    "<div class=\"alert alert-info\">\n",
    "    \n",
    "The following instruction is to make pytest works in notebook with [ipytest library](https://pypi.org/project/ipytest/)\n",
    "    \n",
    "You don't have to do this in *normal* situation.\n",
    "</div>"
   ]
  },
  {
   "cell_type": "markdown",
   "metadata": {},
   "source": [
    "## Pytest presentation\n",
    "\n",
    "\" _pytest is a mature full-featured Python testing tool that helps you write better programs._ \"  [according to documentation](https://docs.pytest.org/en/latest/)"
   ]
  },
  {
   "cell_type": "code",
   "execution_count": null,
   "metadata": {},
   "outputs": [],
   "source": [
    "import pytest\n",
    "import ipytest\n",
    "\n",
    "ipytest.config(rewrite_asserts=True, magics=True)\n",
    "\n",
    "current_notebook = 'pytest-intro.ipynb'\n",
    "\n",
    "__file__ = current_notebook"
   ]
  },
  {
   "cell_type": "markdown",
   "metadata": {},
   "source": [
    "Let's include our class Computer"
   ]
  },
  {
   "cell_type": "code",
   "execution_count": null,
   "metadata": {},
   "outputs": [],
   "source": [
    "class Computer:\n",
    "    \n",
    "    def __init__(self):\n",
    "        self.total = 0\n",
    "        \n",
    "    def add(self,a):\n",
    "        self.total = self.total + a\n",
    "        return self.total\n",
    "    \n",
    "    def substract(self,a):\n",
    "        self.total = self.total - a\n",
    "        return self.total\n",
    "    \n",
    "    def reset(self):\n",
    "        self.total = 0"
   ]
  },
  {
   "cell_type": "code",
   "execution_count": null,
   "metadata": {},
   "outputs": [],
   "source": [
    "%%run_pytest[clean] -qq\n",
    "# Magyc instruction - ONLY FOR RUNNING PYTEST IN NOTEBOOK\n",
    "\n",
    "def test_addition():\n",
    "    computer = Computer()\n",
    "    # given\n",
    "    a = 1\n",
    "    # when\n",
    "    computer.add(a)\n",
    "    # then\n",
    "    assert computer.total == 1"
   ]
  },
  {
   "cell_type": "markdown",
   "metadata": {},
   "source": [
    "There's no a big deal to use pytest instead of old plain python code."
   ]
  }
 ],
 "metadata": {
  "kernelspec": {
   "display_name": "Python 3",
   "language": "python",
   "name": "python3"
  },
  "language_info": {
   "codemirror_mode": {
    "name": "ipython",
    "version": 3
   },
   "file_extension": ".py",
   "mimetype": "text/x-python",
   "name": "python",
   "nbconvert_exporter": "python",
   "pygments_lexer": "ipython3",
   "version": "3.7.1"
  }
 },
 "nbformat": 4,
 "nbformat_minor": 2
}
