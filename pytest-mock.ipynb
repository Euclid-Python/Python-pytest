{
 "cells": [
  {
   "cell_type": "code",
   "execution_count": 1,
   "metadata": {},
   "outputs": [],
   "source": [
    "import pytest\n",
    "import ipytest\n",
    "\n",
    "ipytest.config(rewrite_asserts=True, magics=True)\n",
    "\n",
    "__file__ = 'pytest-mock.ipynb'"
   ]
  },
  {
   "cell_type": "markdown",
   "metadata": {
    "slideshow": {
     "slide_type": "slide"
    }
   },
   "source": [
    "## Pytest mock"
   ]
  },
  {
   "cell_type": "markdown",
   "metadata": {},
   "source": [
    "When we get complex situation to test with a lot of components to set-up, we can not isolate object under test."
   ]
  },
  {
   "cell_type": "markdown",
   "metadata": {
    "slideshow": {
     "slide_type": "subslide"
    }
   },
   "source": [
    "Imagine we get a `plane` with `engines`"
   ]
  },
  {
   "cell_type": "code",
   "execution_count": 2,
   "metadata": {},
   "outputs": [],
   "source": [
    "class Airplane:\n",
    "    \n",
    "    def __init__(self, engines):\n",
    "        self.engines = engines\n",
    "        \n",
    "    def is_ok(self):\n",
    "        return all([engine.is_ok() for engine in self.engines])"
   ]
  },
  {
   "cell_type": "code",
   "execution_count": 3,
   "metadata": {
    "slideshow": {
     "slide_type": "subslide"
    }
   },
   "outputs": [],
   "source": [
    "class Engine:\n",
    "    \n",
    "    def is_ok(self):\n",
    "        return len(self.get_failures()) == 0\n",
    "     \n",
    "                  \n",
    "class PropellerEngine(Engine):\n",
    "\n",
    "    def get_failures(self):\n",
    "        failures = []\n",
    "        if self.temperature > self.max_temperature:\n",
    "            failures.append('temperature') \n",
    "        if self.pressure < self.min_pressure:\n",
    "            failures.append('pressure')\n",
    "        if self.maintenance_delay > self.max_maintenance_delay:\n",
    "            failures.append('maintenance')\n",
    "        return failures\n",
    "        \n"
   ]
  },
  {
   "cell_type": "markdown",
   "metadata": {
    "slideshow": {
     "slide_type": "subslide"
    }
   },
   "source": [
    "How to test `Airplane.is_ok()` ?"
   ]
  },
  {
   "cell_type": "code",
   "execution_count": 5,
   "metadata": {
    "scrolled": true
   },
   "outputs": [
    {
     "name": "stdout",
     "output_type": "stream",
     "text": [
      ".                                                                                                                                                                                                           [100%]\n"
     ]
    }
   ],
   "source": [
    "%%run_pytest[clean] -qq\n",
    "\n",
    "\n",
    "def test_is_ok():\n",
    "    engines = [PropellerEngine() for i in range(4)]\n",
    "    airplane = Airplane(engines)\n",
    "    \n",
    "    def setup_engine(engine):\n",
    "        engine.max_temperature = 100\n",
    "        engine.temperature = engine.max_temperature -10\n",
    "        engine.min_pressure = 1900\n",
    "        engine.pressure = engine.min_pressure +10\n",
    "        engine.max_maintenance_delay = 365\n",
    "        engine.maintenance_delay = engine.max_maintenance_delay - 100\n",
    "    \n",
    "    for engine in engines:\n",
    "        setup_engine(engine)\n",
    "    \n",
    "    assert airplane.is_ok()\n",
    "\n",
    "    "
   ]
  },
  {
   "cell_type": "markdown",
   "metadata": {
    "slideshow": {
     "slide_type": "subslide"
    }
   },
   "source": [
    "It works... ***BUT***\n",
    "\n",
    "* 1) it's **heavy**\n",
    "* 2) it means you have a very important **insight** of engine internal behavior although you **just** want to test airplance\n",
    "* 3) What if you change the Engine, use a jet one ?"
   ]
  },
  {
   "cell_type": "markdown",
   "metadata": {
    "slideshow": {
     "slide_type": "subslide"
    }
   },
   "source": [
    "You need to <span style=\"font-size: larger; font-weight: bolder;\">Mock</span> engine!"
   ]
  },
  {
   "cell_type": "markdown",
   "metadata": {
    "slideshow": {
     "slide_type": "slide"
    }
   },
   "source": [
    "## What's a mock ?\n",
    "\n",
    "A mock is a simulated objects that **mimic** the behavior of real objects in controlled ways.\n",
    "\n",
    "<div style=\"text-align: right;\">Wikipedia</div>\n",
    "\n",
    "<center><img src=\"https://media.giphy.com/media/C3YUQjB5agrdK/giphy.gif\"></center>"
   ]
  },
  {
   "cell_type": "markdown",
   "metadata": {
    "slideshow": {
     "slide_type": "slide"
    }
   },
   "source": [
    "## Monkeypatch"
   ]
  },
  {
   "cell_type": "markdown",
   "metadata": {},
   "source": [
    "*Pytest* offer mocking features with the `monkeypatch` **fixture**."
   ]
  },
  {
   "cell_type": "markdown",
   "metadata": {},
   "source": [
    "[`monkeypatch`](https://docs.pytest.org/en/latest/monkeypatch.html) is a fixture providing a [module](http://doc.pytest.org/en/latest/_modules/_pytest/monkeypatch.html) with functions to modify object, dictionary, list in order to substitute methods, item or raise exception."
   ]
  },
  {
   "cell_type": "markdown",
   "metadata": {
    "slideshow": {
     "slide_type": "slide"
    }
   },
   "source": [
    "## setattr, delattr\n",
    "\n",
    "These functions allows to modify object or class attributes, properties as methods."
   ]
  },
  {
   "cell_type": "code",
   "execution_count": null,
   "metadata": {
    "slideshow": {
     "slide_type": "subslide"
    }
   },
   "outputs": [],
   "source": [
    "def set_ok(monkeypatch, engine, answer):\n",
    "    monkeypatch.setattr(engine, 'is_ok', lambda: answer)"
   ]
  },
  {
   "cell_type": "code",
   "execution_count": null,
   "metadata": {
    "slideshow": {
     "slide_type": ""
    }
   },
   "outputs": [],
   "source": [
    "%%run_pytest[clean] -qq\n",
    "import pytest\n",
    "\n",
    "def test_is_ok(monkeypatch):\n",
    "    \n",
    "    engines = [Engine() for i in range(4)]\n",
    "    \n",
    "    for engine in engines:\n",
    "        set_ok(monkeypatch,engine,answer=True) # <-----\n",
    "    \n",
    "    airplane = Airplane(engines)\n",
    "    \n",
    "    assert airplane.is_ok()"
   ]
  },
  {
   "cell_type": "markdown",
   "metadata": {
    "slideshow": {
     "slide_type": "slide"
    }
   },
   "source": [
    "**Be careful** `delattr` is misleading.\n",
    "\n",
    "It works only on **Class**"
   ]
  },
  {
   "cell_type": "markdown",
   "metadata": {
    "cell_style": "split"
   },
   "source": [
    "**Doesn't work**\n",
    "```python\n",
    "e = Engine()\n",
    "monkeypatch.delattr(e,'is_ok')\n",
    "```"
   ]
  },
  {
   "cell_type": "markdown",
   "metadata": {
    "cell_style": "split"
   },
   "source": [
    "**Works**\n",
    "```python\n",
    "monkeypatch.delattr(Engine,'is_ok')\n",
    "```"
   ]
  },
  {
   "cell_type": "markdown",
   "metadata": {
    "slideshow": {
     "slide_type": "slide"
    }
   },
   "source": [
    "## setitem, delitem\n",
    "\n",
    "Allows to modify global dictionary **for test** without altering it."
   ]
  },
  {
   "cell_type": "markdown",
   "metadata": {
    "slideshow": {
     "slide_type": "subslide"
    }
   },
   "source": [
    "app.py\n",
    "```python\n",
    "CONFIG = {'data': '/data/euclid/fits/2019.09.11.data.fit', 'user': 'foo.bar'}\n",
    "```\n",
    "\n",
    "Processor.py\n",
    "```python\n",
    "class Processor:\n",
    "    def process():\n",
    "        data = app.CONFIG['data']\n",
    "        ...\n",
    "```\n"
   ]
  },
  {
   "cell_type": "markdown",
   "metadata": {
    "slideshow": {
     "slide_type": "subslide"
    }
   },
   "source": [
    "test_processor.py\n",
    "```python\n",
    "def test_get_process_data(create_test_data, monkeypatch):\n",
    "    data_location, expected_data = create_test_data\n",
    "    \n",
    "    monkeypatch.setitem(CONFIG,'data',data_location) # <---------------\n",
    "    \n",
    "    assert processor.process() == expected_data\n",
    "```    "
   ]
  },
  {
   "cell_type": "markdown",
   "metadata": {
    "slideshow": {
     "slide_type": "subslide"
    }
   },
   "source": [
    "<center>\n",
    "<div class=\"alert alert-danger center\">\n",
    "    <b>Using globals</b> may be a sign a design flaw !\n",
    "You have to be isolated, remember !\n",
    "</div>\n",
    "</center>"
   ]
  },
  {
   "cell_type": "markdown",
   "metadata": {
    "slideshow": {
     "slide_type": "subslide"
    }
   },
   "source": [
    "```python\n",
    "class Processor:\n",
    "    def process(data):\n",
    "        ...\n",
    "```\n",
    "\n",
    "test_processor.py\n",
    "```python\n",
    "def test_get_process_data(create_test_data, monkeypatch):\n",
    "    data_location, expected_data = create_test_data\n",
    "    assert processor.process(data_location) == expected_data\n",
    "```    "
   ]
  },
  {
   "cell_type": "markdown",
   "metadata": {
    "slideshow": {
     "slide_type": "slide"
    }
   },
   "source": [
    "## setenv, delenv\n",
    "\n",
    "Allow to modify environment value."
   ]
  },
  {
   "cell_type": "markdown",
   "metadata": {
    "slideshow": {
     "slide_type": "subslide"
    }
   },
   "source": [
    "app.py\n",
    "```python\n",
    "def get_user_preferences():\n",
    "    return get_file_for_user(os.getenv(\"USER\"))\n",
    "```\n",
    "test_app.py\n",
    "```python\n",
    "\n",
    "def test_get_user_preferences(create_user_preferences_fixture):\n",
    "    test_username, file, preferences = create_user_preferences_fixture\n",
    "    \n",
    "    monkeypatch.setenv('USER', test_username) # <------------\n",
    "    \n",
    "    assert get_user_preferences() == preferences\n",
    "```    \n",
    "    "
   ]
  },
  {
   "cell_type": "markdown",
   "metadata": {
    "slideshow": {
     "slide_type": "slide"
    }
   },
   "source": [
    "## Monkeypatch is (too) simple\n",
    "\n",
    "_Monkeypatch_ is efficient and simple, but a little too simple.\n",
    "\n",
    "There's a lot of patterns we could use in composed tests as\n",
    "\n",
    "* Spying calls to a components\n",
    "* mocking all methods of an object\n",
    "* \n",
    "\n",
    "TBC"
   ]
  },
  {
   "cell_type": "markdown",
   "metadata": {
    "slideshow": {
     "slide_type": "slide"
    }
   },
   "source": [
    "# Get the power of Unittest.Mock\n",
    "\n",
    "`unittest` is the another unit test framework.\n",
    "\n",
    "It provides very powerfull **mocking** feature"
   ]
  },
  {
   "cell_type": "markdown",
   "metadata": {
    "slideshow": {
     "slide_type": "subslide"
    }
   },
   "source": [
    "## The Callable Box\n",
    "\n",
    "A `Mock` is a **callable** box. \n",
    "\n",
    "It ever answers another `Mock`."
   ]
  },
  {
   "cell_type": "code",
   "execution_count": 6,
   "metadata": {
    "slideshow": {
     "slide_type": "slide"
    }
   },
   "outputs": [
    {
     "data": {
      "text/plain": [
       "<Mock name='mock()' id='140643470424384'>"
      ]
     },
     "execution_count": 6,
     "metadata": {},
     "output_type": "execute_result"
    }
   ],
   "source": [
    "from unittest.mock import Mock\n",
    "\n",
    "m = Mock() \n",
    "\n",
    "assert hasattr(m,'__call__') #<--------------- callable\n",
    "\n",
    "m()"
   ]
  },
  {
   "cell_type": "markdown",
   "metadata": {
    "slideshow": {
     "slide_type": "subslide"
    }
   },
   "source": [
    "Use `return_value` to set a value to return."
   ]
  },
  {
   "cell_type": "code",
   "execution_count": null,
   "metadata": {},
   "outputs": [],
   "source": [
    "m.return_value = 'foo'\n",
    "m()"
   ]
  },
  {
   "cell_type": "markdown",
   "metadata": {
    "slideshow": {
     "slide_type": "subslide"
    }
   },
   "source": [
    "Any call on any method will ever return another `Mock`"
   ]
  },
  {
   "cell_type": "code",
   "execution_count": null,
   "metadata": {
    "scrolled": true
   },
   "outputs": [],
   "source": [
    "r = m.one_method()\n",
    "assert isinstance(r, Mock)\n",
    "r()"
   ]
  },
  {
   "cell_type": "markdown",
   "metadata": {
    "slideshow": {
     "slide_type": "subslide"
    }
   },
   "source": [
    "So you could create a calling chain"
   ]
  },
  {
   "cell_type": "code",
   "execution_count": null,
   "metadata": {},
   "outputs": [],
   "source": [
    "m = Mock()\n",
    "m.n().o().p().q().r().s().t()"
   ]
  },
  {
   "cell_type": "markdown",
   "metadata": {
    "slideshow": {
     "slide_type": "fragment"
    }
   },
   "source": [
    "with a terminal returned value"
   ]
  },
  {
   "cell_type": "code",
   "execution_count": null,
   "metadata": {
    "slideshow": {
     "slide_type": "fragment"
    }
   },
   "outputs": [],
   "source": [
    "m = Mock()\n",
    "m.n().o().p().q().r().s().t.return_value = 'foo' # <--- return_value\n",
    "\n",
    "m.n().o().p().q().r().s().t()"
   ]
  },
  {
   "cell_type": "markdown",
   "metadata": {
    "slideshow": {
     "slide_type": "subslide"
    }
   },
   "source": [
    "`return_value` set the answer to respond and doesn't exhaust"
   ]
  },
  {
   "cell_type": "code",
   "execution_count": null,
   "metadata": {},
   "outputs": [],
   "source": [
    "m.some_method.return_value = 'bar'\n",
    "\n",
    "[m.some_method() for _ in range(3)] "
   ]
  },
  {
   "cell_type": "markdown",
   "metadata": {
    "slideshow": {
     "slide_type": "subslide"
    }
   },
   "source": [
    "To set a sequence of returned values, use `side_effect`"
   ]
  },
  {
   "cell_type": "code",
   "execution_count": null,
   "metadata": {},
   "outputs": [],
   "source": [
    "m = Mock()\n",
    "m.some_method.side_effect = 'A', 'B', 'C'\n",
    "\n",
    "[m.some_method() for _ in range(3)] "
   ]
  },
  {
   "cell_type": "markdown",
   "metadata": {
    "slideshow": {
     "slide_type": "subslide"
    }
   },
   "source": [
    "But the next call will throw a `StopIteration` exception."
   ]
  },
  {
   "cell_type": "code",
   "execution_count": null,
   "metadata": {},
   "outputs": [],
   "source": [
    "try:\n",
    "    m.some_method()\n",
    "    assert False\n",
    "except StopIteration:\n",
    "    pass"
   ]
  },
  {
   "cell_type": "markdown",
   "metadata": {
    "slideshow": {
     "slide_type": "subslide"
    }
   },
   "source": [
    "`side_effect` allows to raise exceptions "
   ]
  },
  {
   "cell_type": "code",
   "execution_count": null,
   "metadata": {},
   "outputs": [],
   "source": [
    "m = Mock()\n",
    "m.some_method.side_effect = 'A', ValueError, 'C'\n",
    "\n",
    "assert m.some_method() == 'A'\n",
    "\n",
    "try:\n",
    "    m.some_method()   # <------------ raises ValueError\n",
    "    assert False\n",
    "except ValueError:\n",
    "    pass\n",
    "\n",
    "assert m.some_method() == 'C'"
   ]
  },
  {
   "cell_type": "markdown",
   "metadata": {
    "slideshow": {
     "slide_type": "slide"
    }
   },
   "source": [
    "`Mock` constructor allow to setup complex configuration by unpacking (`**`) a dictionary"
   ]
  },
  {
   "cell_type": "code",
   "execution_count": null,
   "metadata": {},
   "outputs": [],
   "source": [
    "props = {\n",
    "    'get_maker.return_value': 'Foo',\n",
    "    'get_nb_of_cylinders.return_value': 6,\n",
    "    'get_max_rpm.return_value': 10000,\n",
    "    'get_rpm.side_effect': [0, 1000]\n",
    "}\n",
    "engine = Mock(**props)\n",
    "\n",
    "assert engine.get_maker() == 'Foo'\n",
    "assert engine.get_nb_of_cylinders() == 6\n",
    "assert engine.get_max_rpm() == 10000\n",
    "assert engine.get_rpm() == 0\n",
    "assert engine.get_rpm() == 1000"
   ]
  },
  {
   "cell_type": "markdown",
   "metadata": {
    "slideshow": {
     "slide_type": "slide"
    }
   },
   "source": [
    "## The Recording Box\n",
    "\n",
    "`Mock` records all calls and allow to assert some expectations about these."
   ]
  },
  {
   "cell_type": "code",
   "execution_count": null,
   "metadata": {},
   "outputs": [],
   "source": [
    "m = Mock()\n",
    "m.some_method.return_value = 'foo'\n",
    "\n",
    "m.some_method()\n",
    "\n",
    "m.some_method.assert_called_once() # <-- assert been called one time\n",
    "\n",
    "m.some_method()\n",
    "\n",
    "assert m.some_method.call_count == 2 # <-- assert been called two times"
   ]
  },
  {
   "cell_type": "markdown",
   "metadata": {
    "slideshow": {
     "slide_type": "subslide"
    }
   },
   "source": [
    "It records the passed arguments and can compare to a `call` recipient."
   ]
  },
  {
   "cell_type": "code",
   "execution_count": null,
   "metadata": {},
   "outputs": [],
   "source": [
    "m.some_method('A')\n",
    "m.some_method('B')\n",
    "\n",
    "from unittest.mock import call # <------------------- call recipient\n",
    "\n",
    "m.some_method.assert_has_calls([call('A'),call('B')])"
   ]
  },
  {
   "cell_type": "markdown",
   "metadata": {
    "cell_style": "split",
    "slideshow": {
     "slide_type": "slide"
    }
   },
   "source": [
    "## An others marvelous features\n",
    "\n",
    "Take a look to [UnitTest mock official documentation](https://docs.python.org/3/library/unittest.mock.html)"
   ]
  },
  {
   "cell_type": "code",
   "execution_count": 7,
   "metadata": {
    "cell_style": "split",
    "scrolled": false
   },
   "outputs": [
    {
     "data": {
      "text/plain": [
       "['assert_any_call',\n",
       " 'assert_called',\n",
       " 'assert_called_once',\n",
       " 'assert_called_once_with',\n",
       " 'assert_called_with',\n",
       " 'assert_has_calls',\n",
       " 'assert_not_called',\n",
       " 'attach_mock',\n",
       " 'call_args',\n",
       " 'call_args_list',\n",
       " 'call_count',\n",
       " 'called',\n",
       " 'configure_mock',\n",
       " 'method_calls',\n",
       " 'mock_add_spec',\n",
       " 'mock_calls',\n",
       " 'reset_mock',\n",
       " 'return_value',\n",
       " 'side_effect']"
      ]
     },
     "execution_count": 7,
     "metadata": {},
     "output_type": "execute_result"
    }
   ],
   "source": [
    "dir(Mock())"
   ]
  },
  {
   "cell_type": "markdown",
   "metadata": {
    "slideshow": {
     "slide_type": "slide"
    }
   },
   "source": [
    "## The Spec Feature\n",
    "\n",
    "Creating mock could be dangerous if we lost the link with the concret classes.\n",
    "\n",
    "As a `Mock` is a kind of _yes_ box, still answering, even if the mocked method has changed, the test is still green.\n",
    "\n"
   ]
  },
  {
   "cell_type": "code",
   "execution_count": null,
   "metadata": {
    "cell_style": "split"
   },
   "outputs": [],
   "source": [
    "class Foo:\n",
    "    def some_method(self):\n",
    "        return True"
   ]
  },
  {
   "cell_type": "code",
   "execution_count": null,
   "metadata": {
    "cell_style": "split"
   },
   "outputs": [],
   "source": [
    "foo = Mock()\n",
    "foo.some_method.return_value = True\n",
    "assert foo.some_method() == True"
   ]
  },
  {
   "cell_type": "markdown",
   "metadata": {
    "slideshow": {
     "slide_type": "subslide"
    }
   },
   "source": [
    "But if we change `Foo` ?"
   ]
  },
  {
   "cell_type": "code",
   "execution_count": null,
   "metadata": {
    "cell_style": "split"
   },
   "outputs": [],
   "source": [
    "class Foo:\n",
    "    \n",
    "#    def some_method(self):\n",
    "#        return True\n",
    "    \n",
    "    def some_other_method(self):\n",
    "        return 'True'"
   ]
  },
  {
   "cell_type": "code",
   "execution_count": null,
   "metadata": {
    "cell_style": "split"
   },
   "outputs": [],
   "source": [
    "# It still works :(\n",
    "\n",
    "foo = Mock()\n",
    "foo.some_method.return_value = True\n",
    "assert foo.some_method() == True"
   ]
  },
  {
   "cell_type": "markdown",
   "metadata": {
    "slideshow": {
     "slide_type": "subslide"
    }
   },
   "source": [
    "`Mock(spec=<class,module>)` feature links the *specifications* to the mocked instance.\n",
    "\n",
    "It checks the coherence between specifications and mocking."
   ]
  },
  {
   "cell_type": "code",
   "execution_count": null,
   "metadata": {
    "cell_style": "split"
   },
   "outputs": [],
   "source": [
    "class Foo:\n",
    "    def some_other_method(self):\n",
    "        return 'True'"
   ]
  },
  {
   "cell_type": "code",
   "execution_count": null,
   "metadata": {
    "cell_style": "split"
   },
   "outputs": [],
   "source": [
    "foo = Mock(spec=Foo)\n",
    "foo.some_method.return_value = True\n",
    "assert foo.some_method() == True"
   ]
  },
  {
   "cell_type": "markdown",
   "metadata": {
    "slideshow": {
     "slide_type": "slide"
    }
   },
   "source": [
    "## Patching\n",
    "\n",
    "`Mock` provides powerfull patching (i.e. subtitution capability) features.\n",
    "\n",
    "In `unittest` *patch()* is a decorator."
   ]
  },
  {
   "cell_type": "code",
   "execution_count": null,
   "metadata": {
    "cell_style": "split"
   },
   "outputs": [],
   "source": [
    "from unittest.mock import patch\n",
    "\n",
    "class Foo:\n",
    "    def some_method(arg):\n",
    "        return arg.upper()"
   ]
  },
  {
   "cell_type": "code",
   "execution_count": null,
   "metadata": {
    "cell_style": "split"
   },
   "outputs": [],
   "source": [
    "@patch('__main__.Foo')\n",
    "def run_kind_of_test(foo):\n",
    "    assert isinstance(foo, Mock)\n",
    "    \n",
    "    foo.some_method.return_value = 'BAR'\n",
    "    \n",
    "    assert foo.some_method() == 'BAR'\n",
    "    \n",
    "run_kind_of_test()"
   ]
  },
  {
   "cell_type": "markdown",
   "metadata": {
    "slideshow": {
     "slide_type": "subslide"
    }
   },
   "source": [
    "Patching is very useful to substitute external or built-in modules"
   ]
  },
  {
   "cell_type": "markdown",
   "metadata": {
    "slideshow": {
     "slide_type": "subslide"
    }
   },
   "source": [
    "`patch` substitutes to the used symbole address by the target another object.\n",
    "\n",
    "The **tricky thing** is to locate the symbol address.\n",
    "\n",
    "<div class=\"alert alert-info text-center\">We have to patch() the object where it is looked up.</div>"
   ]
  },
  {
   "cell_type": "code",
   "execution_count": 8,
   "metadata": {
    "slideshow": {
     "slide_type": "subslide"
    }
   },
   "outputs": [
    {
     "ename": "NameError",
     "evalue": "name 'patch' is not defined",
     "output_type": "error",
     "traceback": [
      "\u001b[0;31m---------------------------------------------------------------------------\u001b[0m",
      "\u001b[0;31mNameError\u001b[0m                                 Traceback (most recent call last)",
      "\u001b[0;32m~/Workdir/EUCLID/WorkshopPythonCpp/Python-pytest/pytest-mock.ipynb\u001b[0m in \u001b[0;36m<module>\u001b[0;34m\u001b[0m\n\u001b[1;32m      7\u001b[0m     \u001b[0;32mreturn\u001b[0m \u001b[0mdate\u001b[0m\u001b[0;34m.\u001b[0m\u001b[0mtoday\u001b[0m\u001b[0;34m(\u001b[0m\u001b[0;34m)\u001b[0m\u001b[0;34m.\u001b[0m\u001b[0myear\u001b[0m \u001b[0;34m<=\u001b[0m \u001b[0;36m2000\u001b[0m  \u001b[0;31m# <-- Here 'date' is the symbole used from __main__\u001b[0m\u001b[0;34m\u001b[0m\u001b[0;34m\u001b[0m\u001b[0m\n\u001b[1;32m      8\u001b[0m \u001b[0;34m\u001b[0m\u001b[0m\n\u001b[0;32m----> 9\u001b[0;31m \u001b[0;34m@\u001b[0m\u001b[0mpatch\u001b[0m\u001b[0;34m(\u001b[0m\u001b[0;34m'__main__.date'\u001b[0m\u001b[0;34m)\u001b[0m \u001b[0;31m#<------------------ \"__main__.date\" points 'date' in are_we_in_21_century\u001b[0m\u001b[0;34m\u001b[0m\u001b[0;34m\u001b[0m\u001b[0m\n\u001b[0m\u001b[1;32m     10\u001b[0m \u001b[0;32mdef\u001b[0m \u001b[0mrun_kind_of_test\u001b[0m\u001b[0;34m(\u001b[0m\u001b[0mmocked_date\u001b[0m\u001b[0;34m)\u001b[0m\u001b[0;34m:\u001b[0m\u001b[0;34m\u001b[0m\u001b[0;34m\u001b[0m\u001b[0m\n\u001b[1;32m     11\u001b[0m \u001b[0;34m\u001b[0m\u001b[0m\n",
      "\u001b[0;31mNameError\u001b[0m: name 'patch' is not defined"
     ]
    }
   ],
   "source": [
    "from datetime import datetime, date\n",
    "\n",
    "\n",
    "assert __name__ == \"__main__\" #<----------- We are in the __main__ namespace\n",
    "\n",
    "def are_we_in_21_century():\n",
    "    return date.today().year <= 2000  # <-- Here 'date' is the symbole used from __main__\n",
    "\n",
    "@patch('__main__.date') #<------------------ \"__main__.date\" points 'date' in are_we_in_21_century\n",
    "def run_kind_of_test(mocked_date):\n",
    " \n",
    "    import datetime  #<---------------------- Use a different namespace to get a real date\n",
    "    mocked_date.today.return_value = datetime.date(1975,5,31)\n",
    "    \n",
    "    assert not isinstance(date.today(), Mock)\n",
    "    \n",
    "    assert are_we_in_21_century()\n",
    "    \n",
    "run_kind_of_test()"
   ]
  },
  {
   "cell_type": "markdown",
   "metadata": {
    "slideshow": {
     "slide_type": "subslide"
    }
   },
   "source": [
    "<div class=\"alert alert-warning\">The following is for advanced users !!</div>"
   ]
  },
  {
   "cell_type": "markdown",
   "metadata": {
    "slideshow": {
     "slide_type": "subslide"
    }
   },
   "source": [
    "When we make an `import`, we put a **symbol** into a local table of symbols.\n",
    "\n",
    "module_A.py\n",
    "```python\n",
    "import sys\n",
    "\n",
    "current_module == sys.modules['module_A']\n",
    "\n",
    "assert 'date' not in current_module.local_variable\n",
    "\n",
    "from datetime import date\n",
    "\n",
    "assert 'date' in current_module.local_variable # <--- now a \"module_A.date\" symbol exists\n",
    "```"
   ]
  },
  {
   "cell_type": "markdown",
   "metadata": {
    "slideshow": {
     "slide_type": "subslide"
    }
   },
   "source": [
    "This is this **\"module_A.date\"** path we have to use in our `patch` **because** this is this symbole that would used by python runtime."
   ]
  },
  {
   "cell_type": "markdown",
   "metadata": {
    "slideshow": {
     "slide_type": "subslide"
    }
   },
   "source": [
    "```python\n",
    "from datetime import date\n",
    "\n",
    "print(date.today())\n",
    "```\n",
    "\n",
    "Python runtime acts like \n",
    "\n",
    "\n",
    "* Oh I have a `date` symbole to use.\n",
    "* I lookup it up in my *table of symbols* for *module_A*\n",
    "* I used `module_A.date` as key\n",
    "* I retrieve a value ( `module_A.date` &rarr;  value)\n",
    "* I apply `today()` on this value."
   ]
  },
  {
   "cell_type": "markdown",
   "metadata": {
    "slideshow": {
     "slide_type": "slide"
    }
   },
   "source": [
    "## And what about pytest ?"
   ]
  },
  {
   "cell_type": "markdown",
   "metadata": {
    "slideshow": {
     "slide_type": "slide"
    }
   },
   "source": [
    "# pytest-mock\n",
    "\n",
    "[`pytest-mock`](https://pypi.org/project/pytest-mock/) is a pytest-plugin  \n",
    "bringing the `unittest` very powerfull `mock` library  \n",
    "and others mocking tools  \n",
    "throught `mocker` fixture."
   ]
  },
  {
   "cell_type": "markdown",
   "metadata": {
    "slideshow": {
     "slide_type": "slide"
    }
   },
   "source": [
    "## Mocker fixture\n"
   ]
  },
  {
   "cell_type": "markdown",
   "metadata": {
    "slideshow": {
     "slide_type": "slide"
    }
   },
   "source": [
    "## Create a pure Mock object"
   ]
  },
  {
   "cell_type": "code",
   "execution_count": null,
   "metadata": {
    "slideshow": {
     "slide_type": "-"
    }
   },
   "outputs": [],
   "source": [
    "class Car:\n",
    "    def __init__(self,engine):\n",
    "        self.engine = engine\n",
    "        \n",
    "    def is_started(self):\n",
    "        return self.engine.is_started()"
   ]
  },
  {
   "cell_type": "code",
   "execution_count": null,
   "metadata": {
    "cell_style": "center",
    "scrolled": true,
    "slideshow": {
     "slide_type": "subslide"
    }
   },
   "outputs": [],
   "source": [
    "%%run_pytest[clean] -qq\n",
    "\n",
    "import pytest\n",
    "from pytest_mock import mocker #<----------------- import mocker\n",
    "\n",
    "\n",
    "def test_car_is_started(mocker):\n",
    "    \n",
    "    engine = mocker.Mock() #<--------------------- creates a Mock\n",
    "    engine.is_started.return_value = True # <------create a sub-Mock that can return value\n",
    "    \n",
    "    car = Car(engine)\n",
    "    \n",
    "    assert car.is_started() ==True\n"
   ]
  },
  {
   "cell_type": "markdown",
   "metadata": {
    "slideshow": {
     "slide_type": "slide"
    }
   },
   "source": [
    "To set a **sequence** of returned values use `Mock.side_effect`"
   ]
  },
  {
   "cell_type": "code",
   "execution_count": null,
   "metadata": {
    "cell_style": "center",
    "scrolled": true,
    "slideshow": {
     "slide_type": "subslide"
    }
   },
   "outputs": [],
   "source": [
    "%%run_pytest[clean] -qq\n",
    "\n",
    "def test_car_is_started(mocker):\n",
    "    \n",
    "    engine = mocker.Mock() \n",
    "    engine.is_started.side_effect = True, False, True\n",
    "    \n",
    "    car = Car(engine)\n",
    "    \n",
    "    assert car.is_started() ==True\n",
    "    assert car.is_started() ==False\n",
    "    assert car.is_started() ==True\n"
   ]
  },
  {
   "cell_type": "markdown",
   "metadata": {
    "slideshow": {
     "slide_type": "slide"
    }
   },
   "source": [
    "To set a **sequence** of returned values **or exception** use `Mock.side_effect`"
   ]
  },
  {
   "cell_type": "code",
   "execution_count": null,
   "metadata": {
    "cell_style": "center",
    "scrolled": true,
    "slideshow": {
     "slide_type": "subslide"
    }
   },
   "outputs": [],
   "source": [
    "%%run_pytest[clean] -qq\n",
    "\n",
    "def test_car_is_started(mocker):\n",
    "    \n",
    "    engine = mocker.Mock() \n",
    "    engine.is_started.side_effect = True, ValueError, True \n",
    "    \n",
    "    car = Car(engine)\n",
    "    \n",
    "    assert car.is_started() ==True\n",
    "    with pytest.raises(ValueError): # <------ ValueError is raised\n",
    "        car.is_started()            #\n",
    "    assert car.is_started() ==True\n"
   ]
  },
  {
   "cell_type": "markdown",
   "metadata": {
    "slideshow": {
     "slide_type": "slide"
    }
   },
   "source": [
    "`Mock` constructor allow to setup complex Mock by unpacking (`**`) a dictionary"
   ]
  },
  {
   "cell_type": "markdown",
   "metadata": {},
   "source": [
    "* Mock.some_method.**return_value** &rarr; next value to return when _some_method_ will be called. \n",
    "* Mock.some_method.**side_effect** &rarr; **sequence** of value to return **or Exception** to raise when _some_method_ will be called. "
   ]
  },
  {
   "cell_type": "markdown",
   "metadata": {},
   "source": [
    "## Mocker.patch\n",
    "\n",
    "As `Mocker` fixture exist, for patching we don't use *decorator* "
   ]
  },
  {
   "cell_type": "code",
   "execution_count": null,
   "metadata": {},
   "outputs": [],
   "source": [
    "from datetime import datetime, date\n",
    "\n",
    "class Menu:\n",
    "    def __init__(self, menu_of_week):\n",
    "        self.menu_of_week = menu_of_week\n",
    "        \n",
    "    def get_today_menu(self):\n",
    "        today = date.today().isoweekday() #<--------------- '__main__.date' symbol\n",
    "        return self.menu_of_week[today]"
   ]
  },
  {
   "cell_type": "code",
   "execution_count": null,
   "metadata": {},
   "outputs": [],
   "source": [
    "%%run_pytest[clean] -qq\n",
    "\n",
    "def test_menu(mocker):\n",
    "    # given\n",
    "    mocker.patch('__main__.date')\n",
    "    date.today().isoweekday.return_value = 1\n",
    "    \n",
    "    menu = Menu(['bread', 'ham', 'egg', 'fish', 'cake'])\n",
    "\n",
    "    \n",
    "    assert menu.get_today_menu() == 'ham'"
   ]
  },
  {
   "cell_type": "markdown",
   "metadata": {
    "slideshow": {
     "slide_type": "slide"
    }
   },
   "source": [
    "## Mocker.spy\n",
    "\n",
    "A nice feature is just tracking call of real objects."
   ]
  },
  {
   "cell_type": "code",
   "execution_count": 13,
   "metadata": {},
   "outputs": [],
   "source": [
    "class Foo:\n",
    "\n",
    "    def bar(self):\n",
    "        pass\n",
    "\n",
    "    def do_it(self, value):\n",
    "        for _ in range(value):\n",
    "            self.bar()"
   ]
  },
  {
   "cell_type": "code",
   "execution_count": 14,
   "metadata": {
    "scrolled": true
   },
   "outputs": [
    {
     "name": "stdout",
     "output_type": "stream",
     "text": [
      ".                                                                                                                                                                                                           [100%]\n"
     ]
    }
   ],
   "source": [
    "%%run_pytest[clean] -qq\n",
    "\n",
    "def test_how_many_bar_callsb(mocker):\n",
    "    foo = Foo()\n",
    "    mocker.spy(foo, 'bar')\n",
    "    \n",
    "    foo.do_it(3)\n",
    "    \n",
    "    assert foo.bar.call_count == 3\n",
    "    "
   ]
  },
  {
   "cell_type": "markdown",
   "metadata": {},
   "source": [
    "# Readings\n",
    "\n",
    "* [Mock official documentation](https://docs.python.org/3/library/unittest.mock.html)\n",
    "* [pytest-mock](https://pypi.org/project/pytest-mock/)\n",
    "* [Mock cookbook](https://chase-seibert.github.io/blog/2015/06/25/python-mocking-cookbook.html)\n",
    "* [Mock Real Python](https://realpython.com/python-mock-library/)"
   ]
  }
 ],
 "metadata": {
  "celltoolbar": "Diaporama",
  "kernelspec": {
   "display_name": "Python 3",
   "language": "python",
   "name": "python3"
  },
  "language_info": {
   "codemirror_mode": {
    "name": "ipython",
    "version": 3
   },
   "file_extension": ".py",
   "mimetype": "text/x-python",
   "name": "python",
   "nbconvert_exporter": "python",
   "pygments_lexer": "ipython3",
   "version": "3.6.8"
  }
 },
 "nbformat": 4,
 "nbformat_minor": 2
}
